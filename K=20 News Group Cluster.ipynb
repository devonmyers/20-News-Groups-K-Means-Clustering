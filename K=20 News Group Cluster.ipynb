{
 "cells": [
  {
   "cell_type": "code",
   "execution_count": 1,
   "id": "797c3cb9",
   "metadata": {},
   "outputs": [],
   "source": [
    "from sklearn.datasets import fetch_20newsgroups\n",
    "import numpy as np\n",
    "import scipy as sp\n",
    "import pandas as pd\n",
    "import seaborn\n",
    "import nltk.stem\n",
    "from sklearn.feature_extraction.text import TfidfVectorizer\n",
    "from sklearn.cluster import KMeans\n",
    "from sklearn.metrics.cluster import adjusted_rand_score\n",
    "from sklearn import metrics"
   ]
  },
  {
   "cell_type": "code",
   "execution_count": 2,
   "id": "2a83c6ce",
   "metadata": {},
   "outputs": [],
   "source": [
    "num_clusters = 20"
   ]
  },
  {
   "cell_type": "code",
   "execution_count": 3,
   "id": "8c2c8207",
   "metadata": {},
   "outputs": [
    {
     "name": "stdout",
     "output_type": "stream",
     "text": [
      "Number of total posts: 18846\n"
     ]
    }
   ],
   "source": [
    "dataset = fetch_20newsgroups(subset='all') # Fetch the entire dataset\n",
    "print(\"Number of total posts: %i\" % len(dataset.filenames)) # Code from textbook"
   ]
  },
  {
   "cell_type": "code",
   "execution_count": 4,
   "id": "48bd22c0",
   "metadata": {},
   "outputs": [],
   "source": [
    "train_data = fetch_20newsgroups(subset='train', \n",
    "                                random_state=42,\n",
    "                                remove=('headers', 'footers', 'quotes'))\n",
    "test_data = fetch_20newsgroups(subset='test',\n",
    "                               random_state=42,\n",
    "                               remove=('headers', 'footers', 'quotes'))"
   ]
  },
  {
   "cell_type": "code",
   "execution_count": 5,
   "id": "e064c025",
   "metadata": {},
   "outputs": [],
   "source": [
    "test_labels, train_labels = test_data.target, train_data.target"
   ]
  },
  {
   "cell_type": "code",
   "execution_count": 48,
   "id": "4ef879f7",
   "metadata": {},
   "outputs": [],
   "source": [
    "#test_data.data"
   ]
  },
  {
   "cell_type": "code",
   "execution_count": 7,
   "id": "202c8b16",
   "metadata": {
    "scrolled": true
   },
   "outputs": [
    {
     "data": {
      "text/html": [
       "<div>\n",
       "<style scoped>\n",
       "    .dataframe tbody tr th:only-of-type {\n",
       "        vertical-align: middle;\n",
       "    }\n",
       "\n",
       "    .dataframe tbody tr th {\n",
       "        vertical-align: top;\n",
       "    }\n",
       "\n",
       "    .dataframe thead th {\n",
       "        text-align: right;\n",
       "    }\n",
       "</style>\n",
       "<table border=\"1\" class=\"dataframe\">\n",
       "  <thead>\n",
       "    <tr style=\"text-align: right;\">\n",
       "      <th></th>\n",
       "      <th>Labels</th>\n",
       "      <th>Posts</th>\n",
       "    </tr>\n",
       "  </thead>\n",
       "  <tbody>\n",
       "    <tr>\n",
       "      <th>0</th>\n",
       "      <td>7</td>\n",
       "      <td>I was wondering if anyone out there could enli...</td>\n",
       "    </tr>\n",
       "    <tr>\n",
       "      <th>1</th>\n",
       "      <td>4</td>\n",
       "      <td>A fair number of brave souls who upgraded thei...</td>\n",
       "    </tr>\n",
       "    <tr>\n",
       "      <th>2</th>\n",
       "      <td>4</td>\n",
       "      <td>well folks, my mac plus finally gave up the gh...</td>\n",
       "    </tr>\n",
       "    <tr>\n",
       "      <th>3</th>\n",
       "      <td>1</td>\n",
       "      <td>\\nDo you have Weitek's address/phone number?  ...</td>\n",
       "    </tr>\n",
       "    <tr>\n",
       "      <th>4</th>\n",
       "      <td>14</td>\n",
       "      <td>From article &lt;C5owCB.n3p@world.std.com&gt;, by to...</td>\n",
       "    </tr>\n",
       "    <tr>\n",
       "      <th>...</th>\n",
       "      <td>...</td>\n",
       "      <td>...</td>\n",
       "    </tr>\n",
       "    <tr>\n",
       "      <th>11309</th>\n",
       "      <td>13</td>\n",
       "      <td>DN&gt; From: nyeda@cnsvax.uwec.edu (David Nye)\\nD...</td>\n",
       "    </tr>\n",
       "    <tr>\n",
       "      <th>11310</th>\n",
       "      <td>4</td>\n",
       "      <td>I have a (very old) Mac 512k and a Mac Plus, b...</td>\n",
       "    </tr>\n",
       "    <tr>\n",
       "      <th>11311</th>\n",
       "      <td>3</td>\n",
       "      <td>I just installed a DX2-66 CPU in a clone mothe...</td>\n",
       "    </tr>\n",
       "    <tr>\n",
       "      <th>11312</th>\n",
       "      <td>1</td>\n",
       "      <td>\\nWouldn't this require a hyper-sphere.  In 3-...</td>\n",
       "    </tr>\n",
       "    <tr>\n",
       "      <th>11313</th>\n",
       "      <td>8</td>\n",
       "      <td>Stolen from Pasadena between 4:30 and 6:30 pm ...</td>\n",
       "    </tr>\n",
       "  </tbody>\n",
       "</table>\n",
       "<p>11314 rows × 2 columns</p>\n",
       "</div>"
      ],
      "text/plain": [
       "       Labels                                              Posts\n",
       "0           7  I was wondering if anyone out there could enli...\n",
       "1           4  A fair number of brave souls who upgraded thei...\n",
       "2           4  well folks, my mac plus finally gave up the gh...\n",
       "3           1  \\nDo you have Weitek's address/phone number?  ...\n",
       "4          14  From article <C5owCB.n3p@world.std.com>, by to...\n",
       "...       ...                                                ...\n",
       "11309      13  DN> From: nyeda@cnsvax.uwec.edu (David Nye)\\nD...\n",
       "11310       4  I have a (very old) Mac 512k and a Mac Plus, b...\n",
       "11311       3  I just installed a DX2-66 CPU in a clone mothe...\n",
       "11312       1  \\nWouldn't this require a hyper-sphere.  In 3-...\n",
       "11313       8  Stolen from Pasadena between 4:30 and 6:30 pm ...\n",
       "\n",
       "[11314 rows x 2 columns]"
      ]
     },
     "execution_count": 7,
     "metadata": {},
     "output_type": "execute_result"
    }
   ],
   "source": [
    "# Make a dataframe object for training and testing data.  Labels correspond to the 20 different\n",
    "# news groups\n",
    "train = {'Labels': train_labels, 'Posts': train_data.data}\n",
    "train_df = pd.DataFrame(data=train)\n",
    "train_df"
   ]
  },
  {
   "cell_type": "code",
   "execution_count": null,
   "id": "18bf81b4",
   "metadata": {},
   "outputs": [],
   "source": []
  },
  {
   "cell_type": "code",
   "execution_count": 8,
   "id": "b013c35e",
   "metadata": {
    "scrolled": true
   },
   "outputs": [
    {
     "data": {
      "text/html": [
       "<div>\n",
       "<style scoped>\n",
       "    .dataframe tbody tr th:only-of-type {\n",
       "        vertical-align: middle;\n",
       "    }\n",
       "\n",
       "    .dataframe tbody tr th {\n",
       "        vertical-align: top;\n",
       "    }\n",
       "\n",
       "    .dataframe thead th {\n",
       "        text-align: right;\n",
       "    }\n",
       "</style>\n",
       "<table border=\"1\" class=\"dataframe\">\n",
       "  <thead>\n",
       "    <tr style=\"text-align: right;\">\n",
       "      <th></th>\n",
       "      <th>Labels</th>\n",
       "      <th>Posts</th>\n",
       "    </tr>\n",
       "  </thead>\n",
       "  <tbody>\n",
       "    <tr>\n",
       "      <th>0</th>\n",
       "      <td>7</td>\n",
       "      <td>I am a little confused on all of the models of...</td>\n",
       "    </tr>\n",
       "    <tr>\n",
       "      <th>1</th>\n",
       "      <td>5</td>\n",
       "      <td>I'm not familiar at all with the format of the...</td>\n",
       "    </tr>\n",
       "    <tr>\n",
       "      <th>2</th>\n",
       "      <td>0</td>\n",
       "      <td>\\nIn a word, yes.\\n</td>\n",
       "    </tr>\n",
       "    <tr>\n",
       "      <th>3</th>\n",
       "      <td>17</td>\n",
       "      <td>\\nThey were attacking the Iraqis to drive them...</td>\n",
       "    </tr>\n",
       "    <tr>\n",
       "      <th>4</th>\n",
       "      <td>19</td>\n",
       "      <td>\\nI've just spent two solid months arguing tha...</td>\n",
       "    </tr>\n",
       "    <tr>\n",
       "      <th>...</th>\n",
       "      <td>...</td>\n",
       "      <td>...</td>\n",
       "    </tr>\n",
       "    <tr>\n",
       "      <th>7527</th>\n",
       "      <td>14</td>\n",
       "      <td>\\n   Henry, if I read you correctly, you may b...</td>\n",
       "    </tr>\n",
       "    <tr>\n",
       "      <th>7528</th>\n",
       "      <td>4</td>\n",
       "      <td>about\\nthem on\\n\\nActually, I thought Macs wer...</td>\n",
       "    </tr>\n",
       "    <tr>\n",
       "      <th>7529</th>\n",
       "      <td>9</td>\n",
       "      <td>I sent a version of this post out a while ago,...</td>\n",
       "    </tr>\n",
       "    <tr>\n",
       "      <th>7530</th>\n",
       "      <td>6</td>\n",
       "      <td>I have this kit which includes the following :...</td>\n",
       "    </tr>\n",
       "    <tr>\n",
       "      <th>7531</th>\n",
       "      <td>15</td>\n",
       "      <td>\\nFine, but one of the points of this entire d...</td>\n",
       "    </tr>\n",
       "  </tbody>\n",
       "</table>\n",
       "<p>7532 rows × 2 columns</p>\n",
       "</div>"
      ],
      "text/plain": [
       "      Labels                                              Posts\n",
       "0          7  I am a little confused on all of the models of...\n",
       "1          5  I'm not familiar at all with the format of the...\n",
       "2          0                                \\nIn a word, yes.\\n\n",
       "3         17  \\nThey were attacking the Iraqis to drive them...\n",
       "4         19  \\nI've just spent two solid months arguing tha...\n",
       "...      ...                                                ...\n",
       "7527      14  \\n   Henry, if I read you correctly, you may b...\n",
       "7528       4  about\\nthem on\\n\\nActually, I thought Macs wer...\n",
       "7529       9  I sent a version of this post out a while ago,...\n",
       "7530       6  I have this kit which includes the following :...\n",
       "7531      15  \\nFine, but one of the points of this entire d...\n",
       "\n",
       "[7532 rows x 2 columns]"
      ]
     },
     "execution_count": 8,
     "metadata": {},
     "output_type": "execute_result"
    }
   ],
   "source": [
    "test = {'Labels': test_labels, 'Posts': test_data.data}\n",
    "test_df = pd.DataFrame(data=test) \n",
    "test_df"
   ]
  },
  {
   "cell_type": "code",
   "execution_count": 9,
   "id": "2f8ec49f",
   "metadata": {},
   "outputs": [],
   "source": [
    "# Need to use stemming to count words that have similar meaning by comparing their stems\n",
    "english_stemmer =nltk.stem.SnowballStemmer('english')"
   ]
  },
  {
   "cell_type": "code",
   "execution_count": 10,
   "id": "2b1b3b58",
   "metadata": {},
   "outputs": [],
   "source": [
    "#Class to convert text to a bag-of-words vector of counts using sklearn CountVectorizer\n",
    "# Note: tfidf stands for term frequency - inverse document frequency.  This is helpful for\n",
    "# de-noising the data i.e. penalizing words that occur in many posts, while focusing more \n",
    "# on words that occur often in fewer posts.  \n",
    "class StemmedTfidfVectorizer(TfidfVectorizer):\n",
    "    '''This code comes from the Richert textbook code'''\n",
    "    def build_analyzer(self):\n",
    "        analyzer = super(TfidfVectorizer, self).build_analyzer()\n",
    "        return lambda doc: (english_stemmer.stem(w) for w in analyzer(doc))"
   ]
  },
  {
   "cell_type": "code",
   "execution_count": 11,
   "id": "d64ad039",
   "metadata": {},
   "outputs": [],
   "source": [
    "vectorizer = StemmedTfidfVectorizer(min_df=10, max_df=0.5,\n",
    "                                    stop_words='english', \n",
    "                                    decode_error='ignore')\n",
    "vectorized_train = vectorizer.fit_transform(train_df['Posts'])"
   ]
  },
  {
   "cell_type": "code",
   "execution_count": 12,
   "id": "847ca0ec",
   "metadata": {},
   "outputs": [],
   "source": [
    "kmeans20 = KMeans(n_clusters=20,\n",
    "                  n_init = 1,\n",
    "                  verbose = 1,\n",
    "                  random_state=3)"
   ]
  },
  {
   "cell_type": "code",
   "execution_count": 13,
   "id": "3a076b7d",
   "metadata": {
    "scrolled": true
   },
   "outputs": [
    {
     "name": "stdout",
     "output_type": "stream",
     "text": [
      "Initialization complete\n",
      "Iteration 0, inertia 20275.350894665367\n",
      "Iteration 1, inertia 10606.005701327698\n",
      "Iteration 2, inertia 10531.986490986359\n",
      "Iteration 3, inertia 10503.931641830399\n",
      "Iteration 4, inertia 10484.342239000474\n",
      "Iteration 5, inertia 10463.024699220707\n",
      "Iteration 6, inertia 10454.963425144755\n",
      "Iteration 7, inertia 10452.88727829309\n",
      "Iteration 8, inertia 10451.620292465726\n",
      "Iteration 9, inertia 10450.574894556548\n",
      "Iteration 10, inertia 10449.832414549634\n",
      "Iteration 11, inertia 10449.461809767145\n",
      "Iteration 12, inertia 10449.268513207577\n",
      "Iteration 13, inertia 10449.129699250796\n",
      "Iteration 14, inertia 10449.026961379708\n",
      "Iteration 15, inertia 10448.929275823364\n",
      "Iteration 16, inertia 10448.827296710437\n",
      "Iteration 17, inertia 10448.731916217299\n",
      "Iteration 18, inertia 10448.61463557733\n",
      "Iteration 19, inertia 10448.499633309822\n",
      "Iteration 20, inertia 10448.369545646645\n",
      "Iteration 21, inertia 10448.260514328425\n",
      "Iteration 22, inertia 10448.178061346089\n",
      "Iteration 23, inertia 10448.076345860343\n",
      "Iteration 24, inertia 10448.005095922308\n",
      "Iteration 25, inertia 10447.929034742367\n",
      "Iteration 26, inertia 10447.855599746776\n",
      "Iteration 27, inertia 10447.743769877594\n",
      "Iteration 28, inertia 10447.653563856175\n",
      "Iteration 29, inertia 10447.48947553434\n",
      "Iteration 30, inertia 10447.30827422475\n",
      "Iteration 31, inertia 10447.122144691968\n",
      "Iteration 32, inertia 10447.020945397373\n",
      "Iteration 33, inertia 10446.89739857605\n",
      "Iteration 34, inertia 10446.771734523447\n",
      "Iteration 35, inertia 10446.64008276556\n",
      "Iteration 36, inertia 10446.500242690108\n",
      "Iteration 37, inertia 10446.347316164847\n",
      "Iteration 38, inertia 10446.195309626582\n",
      "Iteration 39, inertia 10446.00246916925\n",
      "Iteration 40, inertia 10445.81413897671\n",
      "Iteration 41, inertia 10445.404236948598\n",
      "Iteration 42, inertia 10444.81126517256\n",
      "Iteration 43, inertia 10444.39350738197\n",
      "Iteration 44, inertia 10444.091788781172\n",
      "Iteration 45, inertia 10443.846448464004\n",
      "Iteration 46, inertia 10443.588590886833\n",
      "Iteration 47, inertia 10443.393262442223\n",
      "Iteration 48, inertia 10443.270246519523\n",
      "Iteration 49, inertia 10443.178976179752\n",
      "Iteration 50, inertia 10443.104945219502\n",
      "Iteration 51, inertia 10443.011064142871\n",
      "Iteration 52, inertia 10442.969560316858\n",
      "Iteration 53, inertia 10442.948552089367\n",
      "Iteration 54, inertia 10442.9394856073\n",
      "Iteration 55, inertia 10442.935557842466\n",
      "Iteration 56, inertia 10442.929398996075\n",
      "Iteration 57, inertia 10442.919775463963\n",
      "Converged at iteration 57: strict convergence.\n"
     ]
    }
   ],
   "source": [
    "clustered = kmeans20.fit(vectorized_train)"
   ]
  },
  {
   "cell_type": "code",
   "execution_count": 14,
   "id": "d230fe0a",
   "metadata": {},
   "outputs": [
    {
     "data": {
      "text/plain": [
       "(11314,)"
      ]
     },
     "execution_count": 14,
     "metadata": {},
     "output_type": "execute_result"
    }
   ],
   "source": [
    "kmeans20.labels_.shape"
   ]
  },
  {
   "cell_type": "code",
   "execution_count": 15,
   "id": "2cd15e8a",
   "metadata": {},
   "outputs": [
    {
     "data": {
      "text/plain": [
       "[Text(0.5, 1.0, 'Bar Chart for K=20 Clusters'), Text(0.5, 0, 'Cluster')]"
      ]
     },
     "execution_count": 15,
     "metadata": {},
     "output_type": "execute_result"
    },
    {
     "data": {
      "image/png": "[encoded data removed]",
      "text/plain": [
       "<Figure size 432x288 with 1 Axes>"
      ]
     },
     "metadata": {
      "needs_background": "light"
     },
     "output_type": "display_data"
    }
   ],
   "source": [
    "seaborn.countplot(x=kmeans20.labels_).set(title='Bar Chart for K=20 Clusters', xlabel='Cluster')"
   ]
  },
  {
   "cell_type": "code",
   "execution_count": 16,
   "id": "f74c9445",
   "metadata": {},
   "outputs": [
    {
     "name": "stdout",
     "output_type": "stream",
     "text": [
      "Homogeneity: 0.289\n",
      "Completeness: 0.361\n",
      "V-measure: 0.321\n",
      "Adjusted Rand Index: 0.069\n",
      "Adjusted Mutual Information: 0.317\n",
      "Silhouette Coefficient: -0.014\n"
     ]
    }
   ],
   "source": [
    "print(\"Homogeneity: %0.3f\" % metrics.homogeneity_score(train_labels, kmeans20.labels_))\n",
    "print(\"Completeness: %0.3f\" % metrics.completeness_score(train_labels, kmeans20.labels_))\n",
    "print(\"V-measure: %0.3f\" % metrics.v_measure_score(train_labels, kmeans20.labels_))\n",
    "print(\"Adjusted Rand Index: %0.3f\" %\n",
    "      metrics.adjusted_rand_score(train_labels, kmeans20.labels_))\n",
    "print(\"Adjusted Mutual Information: %0.3f\" %\n",
    "      metrics.adjusted_mutual_info_score(train_labels, kmeans20.labels_))\n",
    "print((\"Silhouette Coefficient: %0.3f\" %\n",
    "       metrics.silhouette_score(vectorized_train, train_labels, sample_size=1000)))"
   ]
  },
  {
   "cell_type": "code",
   "execution_count": 17,
   "id": "878ab5dd",
   "metadata": {},
   "outputs": [],
   "source": [
    "new_post = \\\n",
    "    \"\"\"Disk drive problems. Hi, I have a problem with my hard disk.\n",
    "After 1 year it is working only sporadically now.\n",
    "I tried to format it, but now it doesn't boot any more.\n",
    "Any ideas? Thanks.\n",
    "\"\"\"\n",
    "\n",
    "next_post = \\\n",
    "\"\"\"Looking for an Indian motorbike in mint condition.  I want it like new, with\n",
    "big tires and a comfortable seat.  I am willing to pay thirty dollars for \n",
    "this ride.  Help me out?\"\"\"\n",
    "\n",
    "last_post = \\\n",
    "\"\"\"Do atheists believe in God?\"\"\""
   ]
  },
  {
   "cell_type": "code",
   "execution_count": 18,
   "id": "2a765c19",
   "metadata": {},
   "outputs": [],
   "source": [
    "new_post_vector = vectorizer.transform([new_post])\n",
    "new_post_label = kmeans20.predict(new_post_vector)[0]"
   ]
  },
  {
   "cell_type": "code",
   "execution_count": 19,
   "id": "065cabef",
   "metadata": {},
   "outputs": [],
   "source": [
    "similar_indices = (kmeans20.labels_ == new_post_label).nonzero()[0]"
   ]
  },
  {
   "cell_type": "code",
   "execution_count": 20,
   "id": "48b20a56",
   "metadata": {
    "scrolled": true
   },
   "outputs": [
    {
     "data": {
      "text/plain": [
       "array([    7,    24,   184,   259,   302,   337,   426,   518,   662,\n",
       "         831,   838,   842,   859,  1040,  1108,  1143,  1194,  1376,\n",
       "        1415,  1426,  1465,  1466,  1524,  1544,  1546,  1585,  1639,\n",
       "        1670,  1678,  1690,  1709,  1792,  1806,  1913,  1929,  1966,\n",
       "        1983,  1993,  2011,  2074,  2129,  2155,  2164,  2198,  2202,\n",
       "        2217,  2229,  2258,  2293,  2323,  2325,  2378,  2535,  2563,\n",
       "        2579,  2635,  2646,  2700,  2704,  2726,  2734,  2757,  2866,\n",
       "        2879,  2880,  2881,  2896,  2949,  2981,  2986,  3017,  3027,\n",
       "        3035,  3103,  3148,  3188,  3245,  3375,  3390,  3457,  3522,\n",
       "        3526,  3546,  3554,  3585,  3632,  3635,  3645,  3679,  3725,\n",
       "        3772,  3815,  3847,  3877,  3918,  3922,  3948,  3961,  4026,\n",
       "        4058,  4091,  4244,  4267,  4334,  4370,  4398,  4402,  4488,\n",
       "        4519,  4536,  4572,  4667,  4673,  4676,  4726,  4754,  4755,\n",
       "        4817,  4882,  4926,  4927,  5046,  5055,  5077,  5092,  5179,\n",
       "        5192,  5194,  5196,  5199,  5225,  5262,  5266,  5302,  5348,\n",
       "        5373,  5435,  5470,  5482,  5489,  5543,  5561,  5582,  5593,\n",
       "        5621,  5687,  5723,  5750,  5792,  5908,  5917,  5955,  5967,\n",
       "        6040,  6048,  6079,  6139,  6168,  6188,  6221,  6355,  6386,\n",
       "        6420,  6477,  6504,  6520,  6591,  6605,  6626,  6659,  6697,\n",
       "        6702,  6713,  6727,  6733,  6764,  6775,  6981,  7035,  7069,\n",
       "        7099,  7132,  7241,  7262,  7271,  7322,  7363,  7417,  7499,\n",
       "        7581,  7619,  7647,  7722,  7746,  7808,  7901,  7921,  7927,\n",
       "        7987,  8097,  8119,  8133,  8166,  8173,  8256,  8263,  8320,\n",
       "        8326,  8394,  8424,  8447,  8528,  8654,  8727,  8736,  8750,\n",
       "        8820,  8883,  8896,  8918,  8946,  8964,  9066,  9121,  9122,\n",
       "        9130,  9212,  9381,  9468,  9513,  9572,  9624,  9639,  9642,\n",
       "        9781,  9960,  9999, 10141, 10210, 10248, 10250, 10316, 10349,\n",
       "       10373, 10387, 10407, 10510, 10741, 10804, 10807, 10856, 10858,\n",
       "       10876, 10885, 10893, 10953, 10996, 11040, 11075, 11091, 11166,\n",
       "       11229, 11244, 11250], dtype=int64)"
      ]
     },
     "execution_count": 20,
     "metadata": {},
     "output_type": "execute_result"
    }
   ],
   "source": [
    "similar_indices"
   ]
  },
  {
   "cell_type": "code",
   "execution_count": 21,
   "id": "45bee412",
   "metadata": {},
   "outputs": [],
   "source": [
    "similar = []\n",
    "for i in similar_indices:\n",
    "    dist = sp.linalg.norm((new_post_vector - vectorized_train[i]).toarray())\n",
    "    similar.append((dist, train_data.data[i]))   "
   ]
  },
  {
   "cell_type": "code",
   "execution_count": 22,
   "id": "f272368c",
   "metadata": {
    "scrolled": true
   },
   "outputs": [
    {
     "name": "stdout",
     "output_type": "stream",
     "text": [
      "Count similar: 264\n",
      "=== #1 ===\n",
      "(0.9491516479437525, \"Hi,\\nI've got a Multi I/O card (IDE controller + serial/parallel\\ninterface) and two floppy drives (5 1/4, 3 1/2) and a\\nQuantum ProDrive 80AT connected to it.\\nI was able to format the hard disk, but I could not boot from\\nit. I can boot from drive A: (which disk drive does not matter)\\nbut if I remove the disk from drive A and press the reset switch,\\nthe LED of drive A: continues to glow, and the hard disk is\\nnot accessed at all.\\nI guess this must be a problem of either the Multi I/o card\\nor floppy disk drive settings (jumper configuration?)\\nDoes someone have any hint what could be the reason for it.\\nPlease reply by email to GERTHD@MVS.SAS.COM\\nThanks,\\nThomas\\n+-------------------------------------------------------------------+\\n+-------------------------------------------------------------------+\\n\")\n",
      "\n",
      "=== #2 ===\n",
      "(1.1648513597785446, \"My computer won't recognise my disk after a reboot (Windows crash - Grrr!!)\\nAre there any options to restore everything, without losing data? \\n\\n\\nThe drive previously had 3 partitions, but I do not remember the exact\\nsettings.\\n\\nI have copies of the boot data from the disk (PC-tools rescue disk).  I do not\\nwant to lose my data - 340MB IDE drive.  Do I have any options?\\n\\n\\n--\\n\")\n",
      "\n",
      "=== #3 ===\n",
      "(1.3223351115213369, '1)    I have an old Jasmine drive which I cannot use with my new system.\\n My understanding is that I have to upsate the driver with a more modern\\none in order to gain compatability with system 7.0.1.  does anyone know\\nof an inexpensive program to do this?  ( I have seen formatters for <$20\\nbuit have no idea if they will work)\\n \\n2)     I have another ancient device, this one a tape drive for which\\nthe back utility freezes the system if I try to use it.  THe drive is a\\njasmine direct tape (bought used for $150 w/ 6 tapes, techmar\\nmechanism).  Essentially I have the same question as above, anyone know\\nof an inexpensive beckup utility I can use with system 7.0.1')\n",
      "=== #4 ===\n",
      "(1.4142135623730951, \"[Stuff about the connection between IDE and IDA deleated]\\nIf IDE speed come from IDA WHERE does the 8.3MB/s sighted for IDE come from?\\n\\nSCSI is not complex. It is just the way the industry uses and talks about it.\\nThere are THREE key differences in SCSI; the controller chip, the port, and\\nthe software.  THAT IS IT.\\nLet us look as SCSi in from THIS stand point.\\n\\nSCSI-1: asynchronous and synchronous modes {SOFTWARE SCSI DRIVER ONLY}\\n asynchronous is slower then synchronous mode {only 0-3MB/s vs. 0-5MB/s}\\n synchronous speeds can be reached by most SCSi-1 divices with a\\n rewrite of the software driver {As is the case for the Mac Quadra.}\\n\\nSCSI-2 {8-bit}: THIS is the main source for the confusion. This differs from\\n SCSI-1 ONLY in the controler chip in most machines.  In the Mac and some PCs\\n this is called 'fast SCSI-1' because it uses SCSI-1 ports and software drivers\\n AND can produce SCSI-2 SPEEDS through SCSI-1 INSPITE of this even in the \\n slower asynchronous mode.  Average speed in asynchronous SCSi-1 mode \\n 4-6MB/s with 8MB/s{See in both Quadras and higher end PCs} Synchronous\\n mode just allows a higher burst rate {10/MB/s}\\n\\nSCSI-2 {16-bit}: TWO versions-Wide/Fast.  Wide SCSI-2 requires TWO things\\n over 8-bit SCSI-2:  a SCSI-2 software driver and a wide SCSI port on the\\n machine and the external device.\\n Fast SCSI-2 also requires TWO things over 8-bit SCSI-2: SCSI-2 driver\\n software and that the RECIEVING devise support 16-bit fast SCSI-2.\\n Speed of both is the same: 8-12MB/s with 20MB/s burst.\\n\\nSCSI-2 {32-bit}:  Also know as Wide AND Fast SCSI.  Over 8-bit SCSI-2 this\\n requires: SCSI-2 driver software, wide SCSI-2 port, and that the RECIEVING\\n devices ALSO have a 32-bit mode SCSI-2 chip.  As expected this is VERY\\n expencive.  Speed: 15-20MB/s with 40MB/s bursts\\n \")\n"
     ]
    }
   ],
   "source": [
    "similar = sorted(similar)\n",
    "print(\"Count similar: %i\" % len(similar))\n",
    "\n",
    "show_at_1 = similar[0]\n",
    "show_at_2 = similar[int(len(similar) / 10)]\n",
    "show_at_3 = similar[int(len(similar) / 2)]\n",
    "\n",
    "print(\"=== #1 ===\")\n",
    "print(show_at_1)\n",
    "print()\n",
    "\n",
    "print(\"=== #2 ===\")\n",
    "print(show_at_2)\n",
    "print()\n",
    "\n",
    "print(\"=== #3 ===\")\n",
    "print(show_at_3)\n",
    "\n",
    "print(\"=== #4 ===\")\n",
    "print(similar[-1])"
   ]
  },
  {
   "cell_type": "code",
   "execution_count": 23,
   "id": "75e420cd",
   "metadata": {},
   "outputs": [],
   "source": [
    "next_post_vector = vectorizer.transform([next_post])\n",
    "next_post_label = kmeans20.predict(next_post_vector)[0]"
   ]
  },
  {
   "cell_type": "code",
   "execution_count": 24,
   "id": "61cf900a",
   "metadata": {},
   "outputs": [],
   "source": [
    "similar_indices = (kmeans20.labels_ == next_post_label).nonzero()[0]"
   ]
  },
  {
   "cell_type": "code",
   "execution_count": 25,
   "id": "65d4486f",
   "metadata": {},
   "outputs": [],
   "source": [
    "similar = []\n",
    "for i in similar_indices:\n",
    "    dist = sp.linalg.norm((next_post_vector - vectorized_train[i]).toarray())\n",
    "    similar.append((dist, train_data.data[i]))   "
   ]
  },
  {
   "cell_type": "code",
   "execution_count": 26,
   "id": "9e98f640",
   "metadata": {
    "scrolled": true
   },
   "outputs": [
    {
     "name": "stdout",
     "output_type": "stream",
     "text": [
      "Count similar: 3789\n",
      "=== #1 ===\n",
      "(0.9999999999999998, '')\n",
      "\n",
      "=== #2 ===\n",
      "(1.3508611459915927, 'Do you realize that the yankees are paying Matt Nokes 2,500,000 dollars  \\nthis year!!!! GEESH. And Maas only gets 125,000.    \\n\\n\\n\\nBy the way, the yankees are going to WIN IT ALL\\n\\n\\nYankees are the BEST.\\n\\n')\n",
      "\n",
      "=== #3 ===\n",
      "(1.414213562373095, '\\n\\n     You\\'re right, I bailed out in Diff Eq.  Nevertheless, I would \\n     suggest to YOU that there is a difference between a \"proposed BILL,\\n     stalled in Congress\" and a \"executive order, crammed down OUR \\n     THROATS\".   Do you disagree?\\n\\n\\n\\n        Went to the Post Office on Friday, got my passport apps in.')\n",
      "=== #4 ===\n",
      "(1.4142135623730951, \"this week's autoweek talks about how wagons are getting back in vogue.\\ni wouldn't mind an audi s4 wagon (great stealth value) but you'll\\nnever catch me dead in a minivan!\\n\")\n"
     ]
    }
   ],
   "source": [
    "similar = sorted(similar)\n",
    "print(\"Count similar: %i\" % len(similar))\n",
    "\n",
    "show_at_1 = similar[0]\n",
    "show_at_2 = similar[int(len(similar) / 10)]\n",
    "show_at_3 = similar[int(len(similar) / 2)]\n",
    "\n",
    "print(\"=== #1 ===\")\n",
    "print(show_at_1)\n",
    "print()\n",
    "\n",
    "print(\"=== #2 ===\")\n",
    "print(show_at_2)\n",
    "print()\n",
    "\n",
    "print(\"=== #3 ===\")\n",
    "print(show_at_3)\n",
    "\n",
    "print(\"=== #4 ===\")\n",
    "print(similar[-1])"
   ]
  },
  {
   "cell_type": "code",
   "execution_count": 27,
   "id": "cd874e40",
   "metadata": {},
   "outputs": [],
   "source": [
    "last_post_vector = vectorizer.transform([last_post])\n",
    "last_post_label = kmeans20.predict(last_post_vector)[0]"
   ]
  },
  {
   "cell_type": "code",
   "execution_count": 28,
   "id": "3ebcec87",
   "metadata": {},
   "outputs": [],
   "source": [
    "similar_indices = (kmeans20.labels_ == last_post_label).nonzero()[0]"
   ]
  },
  {
   "cell_type": "code",
   "execution_count": 29,
   "id": "75025844",
   "metadata": {},
   "outputs": [],
   "source": [
    "similar = []\n",
    "for i in similar_indices:\n",
    "    dist = sp.linalg.norm((last_post_vector - vectorized_train[i]).toarray())\n",
    "    similar.append((dist, train_data.data[i])) "
   ]
  },
  {
   "cell_type": "code",
   "execution_count": 30,
   "id": "c86d7d1c",
   "metadata": {},
   "outputs": [
    {
     "name": "stdout",
     "output_type": "stream",
     "text": [
      "Count similar: 335\n",
      "=== #1 ===\n",
      "(0.8504556061851828, 'Archive-name: atheism/introduction\\nAlt-atheism-archive-name: introduction\\nLast-modified: 5 April 1993\\nVersion: 1.2\\n\\n-----BEGIN PGP SIGNED MESSAGE-----\\n\\n                          An Introduction to Atheism\\n                       by mathew <mathew@mantis.co.uk>\\n\\nThis article attempts to provide a general introduction to atheism.  Whilst I\\nhave tried to be as neutral as possible regarding contentious issues, you\\nshould always remember that this document represents only one viewpoint.  I\\nwould encourage you to read widely and draw your own conclusions; some\\nrelevant books are listed in a companion article.\\n\\nTo provide a sense of cohesion and progression, I have presented this article\\nas an imaginary conversation between an atheist and a theist.  All the\\nquestions asked by the imaginary theist are questions which have been cropped\\nup repeatedly on alt.atheism since the newsgroup was created.  Some other\\nfrequently asked questions are answered in a companion article.\\n\\nPlease note that this article is arguably slanted towards answering questions\\nposed from a Christian viewpoint.  This is because the FAQ files reflect\\nquestions which have actually been asked, and it is predominantly Christians\\nwho proselytize on alt.atheism.\\n\\nSo when I talk of religion, I am talking primarily about religions such as\\nChristianity, Judaism and Islam, which involve some sort of superhuman divine\\nbeing.  Much of the discussion will apply to other religions, but some of it\\nmay not.\\n\\n\"What is atheism?\"\\n\\nAtheism is characterized by an absence of belief in the existence of God.\\nSome atheists go further, and believe that God does not exist.  The former is\\noften referred to as the \"weak atheist\" position, and the latter as \"strong\\natheism\".\\n\\nIt is important to note the difference between these two positions.  \"Weak\\natheism\" is simple scepticism; disbelief in the existence of God.  \"Strong\\natheism\" is a positive belief that God does not exist.  Please do not\\nfall into the trap of assuming that all atheists are \"strong atheists\".\\n\\nSome atheists believe in the non-existence of all Gods; others limit their\\natheism to specific Gods, such as the Christian God, rather than making\\nflat-out denials.\\n\\n\"But isn\\'t disbelieving in God the same thing as believing he doesn\\'t exist?\"\\n\\nDefinitely not.  Disbelief in a proposition means that one does not believe\\nit to be true.  Not believing that something is true is not equivalent to\\nbelieving that it is false; one may simply have no idea whether it is true or\\nnot.  Which brings us to agnosticism.\\n\\n\"What is agnosticism then?\"\\n\\nThe term \\'agnosticism\\' was coined by Professor Huxley at a meeting of the\\nMetaphysical Society in 1876.  He defined an agnostic as someone who\\ndisclaimed (\"strong\") atheism and believed that the ultimate origin of things\\nmust be some cause unknown and unknowable.\\n\\nThus an agnostic is someone who believes that we do not and cannot know for\\nsure whether God exists.\\n\\nWords are slippery things, and language is inexact.  Beware of assuming that\\nyou can work out someone\\'s philosophical point of view simply from the fact\\nthat she calls herself an atheist or an agnostic.  For example, many people\\nuse agnosticism to mean \"weak atheism\", and use the word \"atheism\" only when\\nreferring to \"strong atheism\".\\n\\nBeware also that because the word \"atheist\" has so many shades of meaning, it\\nis very difficult to generalize about atheists.  About all you can say for\\nsure is that atheists don\\'t believe in God.  For example, it certainly isn\\'t\\nthe case that all atheists believe that science is the best way to find out\\nabout the universe.\\n\\n\"So what is the philosophical justification or basis for atheism?\"\\n\\nThere are many philosophical justifications for atheism.  To find out why a\\nparticular person chooses to be an atheist, it\\'s best to ask her.\\n\\nMany atheists feel that the idea of God as presented by the major religions\\nis essentially self-contradictory, and that it is logically impossible that\\nsuch a God could exist.  Others are atheists through scepticism, because they\\nsee no evidence that God exists.\\n\\n\"But isn\\'t it impossible to prove the non-existence of something?\"\\n\\nThere are many counter-examples to such a statement.  For example, it is\\nquite simple to prove that there does not exist a prime number larger than\\nall other prime numbers.  Of course, this deals with well-defined objects\\nobeying well-defined rules.  Whether Gods or universes are similarly\\nwell-defined is a matter for debate.\\n\\nHowever, assuming for the moment that the existence of a God is not provably\\nimpossible, there are still subtle reasons for assuming the non-existence of\\nGod.  If we assume that something does not exist, it is always possible to\\nshow that this assumption is invalid by finding a single counter-example.\\n\\nIf on the other hand we assume that something does exist, and if the thing in\\nquestion is not provably impossible, showing that the assumption is invalid\\nmay require an exhaustive search of all possible places where such a thing\\nmight be found, to show that it isn\\'t there.  Such an exhaustive search is\\noften impractical or impossible.  There is no such problem with largest\\nprimes, because we can prove that they don\\'t exist.\\n\\nTherefore it is generally accepted that we must assume things do not exist\\nunless we have evidence that they do.  Even theists follow this rule most of\\nthe time; they don\\'t believe in unicorns, even though they can\\'t conclusively\\nprove that no unicorns exist anywhere.\\n\\nTo assume that God exists is to make an assumption which probably cannot be\\ntested.  We cannot make an exhaustive search of everywhere God might be to\\nprove that he doesn\\'t exist anywhere.  So the sceptical atheist assumes by\\ndefault that God does not exist, since that is an assumption we can test.\\n\\nThose who profess strong atheism usually do not claim that no sort of God\\nexists; instead, they generally restrict their claims so as to cover\\nvarieties of God described by followers of various religions.  So whilst it\\nmay be impossible to prove conclusively that no God exists, it may be\\npossible to prove that (say) a God as described by a particular religious\\nbook does not exist.  It may even be possible to prove that no God described\\nby any present-day religion exists.\\n\\nIn practice, believing that no God described by any religion exists is very\\nclose to believing that no God exists.  However, it is sufficiently different\\nthat counter-arguments based on the impossibility of disproving every kind of\\nGod are not really applicable.\\n\\n\"But what if God is essentially non-detectable?\"\\n\\nIf God interacts with our universe in any way, the effects of his interaction\\nmust be measurable.  Hence his interaction with our universe must be\\ndetectable.\\n\\nIf God is essentially non-detectable, it must therefore be the case that he\\ndoes not interact with our universe in any way.  Many atheists would argue\\nthat if God does not interact with our universe at all, it is of no\\nimportance whether he exists or not.\\n\\nIf the Bible is to be believed, God was easily detectable by the Israelites.\\nSurely he should still be detectable today?\\n\\nNote that I am not demanding that God interact in a scientifically\\nverifiable, physical way.  It must surely be possible to perceive some\\neffect caused by his presence, though; otherwise, how can I distinguish him\\nfrom all the other things that don\\'t exist?\\n\\n\"OK, you may think there\\'s a philosophical justification for atheism, but\\n isn\\'t it still a religious belief?\"\\n\\nOne of the most common pastimes in philosophical discussion is \"the\\nredefinition game\".  The cynical view of this game is as follows:\\n\\nPerson A begins by making a contentious statement.  When person B points out\\nthat it can\\'t be true, person A gradually re-defines the words he used in the\\nstatement until he arrives at something person B is prepared to accept.  He\\nthen records the statement, along with the fact that person B has agreed to\\nit, and continues.  Eventually A uses the statement as an \"agreed fact\", but\\nuses his original definitions of all the words in it rather than the obscure\\nredefinitions originally needed to get B to agree to it.  Rather than be seen\\nto be apparently inconsistent, B will tend to play along.\\n\\nThe point of this digression is that the answer to the question \"Isn\\'t\\natheism a religious belief?\" depends crucially upon what is meant by\\n\"religious\".  \"Religion\" is generally characterized by belief in a superhuman\\ncontrolling power -- especially in some sort of God -- and by faith and\\nworship.\\n\\n[ It\\'s worth pointing out in passing that some varieties of Buddhism are not\\n  \"religion\" according to such a definition. ]\\n\\nAtheism is certainly not a belief in any sort of superhuman power, nor is it\\ncategorized by worship in any meaningful sense.  Widening the definition of\\n\"religious\" to encompass atheism tends to result in many other aspects of\\nhuman behaviour suddenly becoming classed as \"religious\" as well -- such as\\nscience, politics, and watching TV.\\n\\n\"OK, so it\\'s not a religion.  But surely belief in atheism (or science) is\\n still just an act of faith, like religion is?\"\\n\\nFirstly, it\\'s not entirely clear that sceptical atheism is something one\\nactually believes in.\\n\\nSecondly, it is necessary to adopt a number of core beliefs or assumptions to\\nmake some sort of sense out of the sensory data we experience.  Most atheists\\ntry to adopt as few core beliefs as possible; and even those are subject to\\nquestioning if experience throws them into doubt.\\n\\nScience has a number of core assumptions.  For example, it is generally\\nassumed that the laws of physics are the same for all observers.  These are\\nthe sort of core assumptions atheists make.  If such basic ideas are called\\n\"acts of faith\", then almost everything we know must be said to be based on\\nacts of faith, and the term loses its meaning.\\n\\nFaith is more often used to refer to complete, certain belief in something.\\nAccording to such a definition, atheism and science are certainly not acts of\\nfaith.  Of course, individual atheists or scientists can be as dogmatic as\\nreligious followers when claiming that something is \"certain\".  This is not a\\ngeneral tendency, however; there are many atheists who would be reluctant to\\nstate with certainty that the universe exists.\\n\\nFaith is also used to refer to belief without supporting evidence or proof.\\nSceptical atheism certainly doesn\\'t fit that definition, as sceptical atheism\\nhas no beliefs.  Strong atheism is closer, but still doesn\\'t really match, as\\neven the most dogmatic atheist will tend to refer to experimental data (or\\nthe lack of it) when asserting that God does not exist.\\n\\n\"If atheism is not religious, surely it\\'s anti-religious?\"\\n\\nIt is an unfortunate human tendency to label everyone as either \"for\" or\\n\"against\", \"friend\" or \"enemy\".  The truth is not so clear-cut.\\n\\nAtheism is the position that runs logically counter to theism; in that sense,\\nit can be said to be \"anti-religion\".  However, when religious believers\\nspeak of atheists being \"anti-religious\" they usually mean that the atheists\\nhave some sort of antipathy or hatred towards theists.\\n\\nThis categorization of atheists as hostile towards religion is quite unfair.\\nAtheist attitudes towards theists in fact cover a broad spectrum.\\n\\nMost atheists take a \"live and let live\" attitude.  Unless questioned, they\\nwill not usually mention their atheism, except perhaps to close friends.  Of\\ncourse, this may be in part because atheism is not \"socially acceptable\" in\\nmany countries.\\n\\nA few atheists are quite anti-religious, and may even try to \"convert\" others\\nwhen possible.  Historically, such anti-religious atheists have made little\\nimpact on society outside the Eastern Bloc countries.\\n\\n(To digress slightly: the Soviet Union was originally dedicated to separation\\nof church and state, just like the USA.  Soviet citizens were legally free to\\nworship as they wished.  The institution of \"state atheism\" came about when\\nStalin took control of the Soviet Union and tried to destroy the churches in\\norder to gain complete power over the population.)\\n\\nSome atheists are quite vocal about their beliefs, but only where they see\\nreligion encroaching on matters which are not its business -- for example,\\nthe government of the USA.  Such individuals are usually concerned that\\nchurch and state should remain separate.\\n\\n\"But if you don\\'t allow religion to have a say in the running of the state,\\n surely that\\'s the same as state atheism?\"\\n\\nThe principle of the separation of church and state is that the state shall\\nnot legislate concerning matters of religious belief.  In particular, it\\nmeans not only that the state cannot promote one religion at the expense of\\nanother, but also that it cannot promote any belief which is religious in\\nnature.\\n\\nReligions can still have a say in discussion of purely secular matters.  For\\nexample, religious believers have historically been responsible for\\nencouraging many political reforms.  Even today, many organizations\\ncampaigning for an increase in spending on foreign aid are founded as\\nreligious campaigns.  So long as they campaign concerning secular matters,\\nand so long as they do not discriminate on religious grounds, most atheists\\nare quite happy to see them have their say.\\n\\n\"What about prayer in schools? If there\\'s no God, why do you care if people\\n pray?\"\\n\\nBecause people who do pray are voters and lawmakers, and tend to do things\\nthat those who don\\'t pray can\\'t just ignore.  Also, Christian prayer in\\nschools is intimidating to non-Christians, even if they are told that they\\nneed not join in.  The diversity of religious and non-religious belief means\\nthat it is impossible to formulate a meaningful prayer that will be\\nacceptable to all those present at any public event.\\n\\nAlso, non-prayers tend to have friends and family who pray.  It is reasonable\\nto care about friends and family wasting their time, even without other\\nmotives.\\n\\n\"You mentioned Christians who campaign for increased foreign aid.  What about\\n atheists?  Why aren\\'t there any atheist charities or hospitals?  Don\\'t\\n atheists object to the religious charities?\"\\n\\nThere are many charities without religious purpose that atheists can\\ncontribute to.  Some atheists contribute to religious charities as well, for\\nthe sake of the practical good they do.  Some atheists even do voluntary work\\nfor charities founded on a theistic basis.\\n\\nMost atheists seem to feel that atheism isn\\'t worth shouting about in\\nconnection with charity.  To them, atheism is just a simple, obvious everyday\\nmatter, and so is charity.  Many feel that it\\'s somewhat cheap, not to say\\nself-righteous, to use simple charity as an excuse to plug a particular set\\nof religious beliefs.\\n\\nTo \"weak\" atheists, building a hospital to say \"I do not believe in God\" is a\\nrather strange idea; it\\'s rather like holding a party to say \"Today is not my\\nbirthday\".  Why the fuss?  Atheism is rarely evangelical.\\n\\n\"You said atheism isn\\'t anti-religious.  But is it perhaps a backlash against\\n one\\'s upbringing, a way of rebelling?\"\\n\\nPerhaps it is, for some.  But many people have parents who do not attempt to\\nforce any religious (or atheist) ideas upon them, and many of those people\\nchoose to call themselves atheists.\\n\\nIt\\'s also doubtless the case that some religious people chose religion as a\\nbacklash against an atheist upbringing, as a way of being different.  On the\\nother hand, many people choose religion as a way of conforming to the\\nexpectations of others.\\n\\nOn the whole, we can\\'t conclude much about whether atheism or religion are\\nbacklash or conformism; although in general, people have a tendency to go\\nalong with a group rather than act or think independently.\\n\\n\"How do atheists differ from religious people?\"\\n\\nThey don\\'t believe in God.  That\\'s all there is to it.\\n\\nAtheists may listen to heavy metal -- backwards, even -- or they may prefer a\\nVerdi Requiem, even if they know the words.  They may wear Hawaiian shirts,\\nthey may dress all in black, they may even wear orange robes.  (Many\\nBuddhists lack a belief in any sort of God.)  Some atheists even carry a copy\\nof the Bible around -- for arguing against, of course!\\n\\nWhoever you are, the chances are you have met several atheists without\\nrealising it.  Atheists are usually unexceptional in behaviour and\\nappearance.\\n\\n\"Unexceptional? But aren\\'t atheists less moral than religious people?\"\\n\\nThat depends.  If you define morality as obedience to God, then of course\\natheists are less moral as they don\\'t obey any God.  But usually when one\\ntalks of morality, one talks of what is acceptable (\"right\") and unacceptable\\n(\"wrong\") behaviour within society.\\n\\nHumans are social animals, and to be maximally successful they must\\nco-operate with each other.  This is a good enough reason to discourage most\\natheists from \"anti-social\" or \"immoral\" behaviour, purely for the purposes\\nof self-preservation.\\n\\nMany atheists behave in a \"moral\" or \"compassionate\" way simply because they\\nfeel a natural tendency to empathize with other humans.  So why do they care\\nwhat happens to others?  They don\\'t know, they simply are that way.\\n\\nNaturally, there are some people who behave \"immorally\" and try to use\\natheism to justify their actions.  However, there are equally many people who\\nbehave \"immorally\" and then try to use religious beliefs to justify their\\nactions.  For example:\\n\\n  \"Here is a trustworthy saying that deserves full acceptance: Jesus Christ\\n   came into the world to save sinners...  But for that very reason, I was\\n   shown mercy so that in me...  Jesus Christ might display His unlimited\\n   patience as an example for those who would believe in him and receive\\n   eternal life.  Now to the king eternal, immortal, invisible, the only God,\\n   be honor and glory forever and ever.\"\\n\\nThe above quote is from a statement made to the court on February 17th 1992\\nby Jeffrey Dahmer, the notorious cannibal serial killer of Milwaukee,\\nWisconsin.  It seems that for every atheist mass-murderer, there is a\\nreligious mass-murderer.  But what of more trivial morality?\\n\\n   A survey conducted by the Roper Organization found that behavior\\n   deteriorated after \"born again\" experiences.  While only 4% of respondents\\n   said they had driven intoxicated before being \"born again,\" 12% had done\\n   so after conversion.  Similarly, 5% had used illegal drugs before\\n   conversion, 9% after.  Two percent admitted to engaging in illicit sex\\n   before salvation; 5% after.\\n                                [\"Freethought Today\", September 1991, p. 12.]\\n\\nSo it seems that at best, religion does not have a monopoly on moral\\nbehaviour.\\n\\n\"Is there such a thing as atheist morality?\"\\n\\nIf you mean \"Is there such a thing as morality for atheists?\", then the\\nanswer is yes, as explained above.  Many atheists have ideas about morality\\nwhich are at least as strong as those held by religious people.\\n\\nIf you mean \"Does atheism have a characteristic moral code?\", then the answer\\nis no.  Atheism by itself does not imply anything much about how a person\\nwill behave.  Most atheists follow many of the same \"moral rules\" as theists,\\nbut for different reasons.  Atheists view morality as something created by\\nhumans, according to the way humans feel the world \\'ought\\' to work, rather\\nthan seeing it as a set of rules decreed by a supernatural being.\\n\\n\"Then aren\\'t atheists just theists who are denying God?\"\\n\\nA study by the Freedom From Religion Foundation found that over 90% of the\\natheists who responded became atheists because religion did not work for\\nthem.  They had found that religious beliefs were fundamentally incompatible\\nwith what they observed around them.\\n\\nAtheists are not unbelievers through ignorance or denial; they are\\nunbelievers through choice.  The vast majority of them have spent time\\nstudying one or more religions, sometimes in very great depth.  They have\\nmade a careful and considered decision to reject religious beliefs.\\n\\nThis decision may, of course, be an inevitable consequence of that\\nindividual\\'s personality.  For a naturally sceptical person, the choice\\nof atheism is often the only one that makes sense, and hence the only\\nchoice that person can honestly make.\\n\\n\"But don\\'t atheists want to believe in God?\"\\n\\nAtheists live their lives as though there is nobody watching over them.  Many\\nof them have no desire to be watched over, no matter how good-natured the\\n\"Big Brother\" figure might be.\\n\\nSome atheists would like to be able to believe in God -- but so what? Should\\none believe things merely because one wants them to be true?  The risks of\\nsuch an approach should be obvious.  Atheists often decide that wanting to\\nbelieve something is not enough; there must be evidence for the belief.\\n\\n\"But of course atheists see no evidence for the existence of God -- they are\\n unwilling in their souls to see!\"\\n\\nMany, if not most atheists were previously religious.  As has been explained\\nabove, the vast majority have seriously considered the possibility that God\\nexists.  Many atheists have spent time in prayer trying to reach God.\\n\\nOf course, it is true that some atheists lack an open mind; but assuming that\\nall atheists are biased and insincere is offensive and closed-minded.\\nComments such as \"Of course God is there, you just aren\\'t looking properly\"\\nare likely to be viewed as patronizing.\\n\\nCertainly, if you wish to engage in philosophical debate with atheists it is\\nvital that you give them the benefit of the doubt and assume that they are\\nbeing sincere if they say that they have searched for God.  If you are not\\nwilling to believe that they are basically telling the truth, debate is\\nfutile.\\n\\n\"Isn\\'t the whole of life completely pointless to an atheist?\"\\n\\nMany atheists live a purposeful life.  They decide what they think gives\\nmeaning to life, and they pursue those goals.  They try to make their lives\\ncount, not by wishing for eternal life, but by having an influence on other\\npeople who will live on.  For example, an atheist may dedicate his life to\\npolitical reform, in the hope of leaving his mark on history.\\n\\nIt is a natural human tendency to look for \"meaning\" or \"purpose\" in random\\nevents.  However, it is by no means obvious that \"life\" is the sort of thing\\nthat has a \"meaning\".\\n\\nTo put it another way, not everything which looks like a question is actually\\na sensible thing to ask.  Some atheists believe that asking \"What is the\\nmeaning of life?\" is as silly as asking \"What is the meaning of a cup of\\ncoffee?\".  They believe that life has no purpose or meaning, it just is.\\n\\n\"So how do atheists find comfort in time of danger?\"\\n\\nThere are many ways of obtaining comfort; from family, friends, or even pets.\\nOr on a less spiritual level, from food or drink or TV.\\n\\nThat may sound rather an empty and vulnerable way to face danger, but so\\nwhat?  Should individuals believe in things because they are comforting, or\\nshould they face reality no matter how harsh it might be?\\n\\nIn the end, it\\'s a decision for the individual concerned.  Most atheists are\\nunable to believe something they would not otherwise believe merely because\\nit makes them feel comfortable.  They put truth before comfort, and consider\\nthat if searching for truth sometimes makes them feel unhappy, that\\'s just\\nhard luck.\\n\\n\"Don\\'t atheists worry that they might suddenly be shown to be wrong?\"\\n\\nThe short answer is \"No, do you?\"\\n\\nMany atheists have been atheists for years.  They have encountered many\\narguments and much supposed evidence for the existence of God, but they have\\nfound all of it to be invalid or inconclusive.\\n\\nThousands of years of religious belief haven\\'t resulted in any good proof of\\nthe existence of God.  Atheists therefore tend to feel that they are unlikely\\nto be proved wrong in the immediate future, and they stop worrying about it.\\n\\n\"So why should theists question their beliefs? Don\\'t the same arguments\\n apply?\"\\n\\nNo, because the beliefs being questioned are not similar.  Weak atheism is\\nthe sceptical \"default position\" to take; it asserts nothing.  Strong atheism\\nis a negative belief.  Theism is a very strong positive belief.\\n\\nAtheists sometimes also argue that theists should question their beliefs\\nbecause of the very real harm they can cause -- not just to the believers,\\nbut to everyone else.\\n\\n\"What sort of harm?\"\\n\\nReligion represents a huge financial and work burden on mankind.  It\\'s not\\njust a matter of religious believers wasting their money on church buildings;\\nthink of all the time and effort spent building churches, praying, and so on.\\nImagine how that effort could be better spent.\\n\\nMany theists believe in miracle healing.  There have been plenty of instances\\nof ill people being \"healed\" by a priest, ceasing to take the medicines\\nprescribed to them by doctors, and dying as a result.  Some theists have died\\nbecause they have refused blood transfusions on religious grounds.\\n\\nIt is arguable that the Catholic Church\\'s opposition to birth control -- and\\ncondoms in particular -- is increasing the problem of overpopulation in many\\nthird-world countries and contributing to the spread of AIDS world-wide.\\n\\nReligious believers have been known to murder their children rather than\\nallow their children to become atheists or marry someone of a different\\nreligion.\\n\\n\"Those weren\\'t REAL believers.  They just claimed to be believers as some\\n sort of excuse.\"\\n\\nWhat makes a real believer?  There are so many One True Religions it\\'s hard\\nto tell.  Look at Christianity: there are many competing groups, all\\nconvinced that they are the only true Christians.  Sometimes they even fight\\nand kill each other.  How is an atheist supposed to decide who\\'s a REAL\\nChristian and who isn\\'t, when even the major Christian churches like the\\nCatholic Church and the Church of England can\\'t decide amongst themselves?\\n\\nIn the end, most atheists take a pragmatic view, and decide that anyone who\\ncalls himself a Christian, and uses Christian belief or dogma to justify his\\nactions, should be considered a Christian.  Maybe some of those Christians\\nare just perverting Christian teaching for their own ends -- but surely if\\nthe Bible can be so readily used to support un-Christian acts it can\\'t be\\nmuch of a moral code? If the Bible is the word of God, why couldn\\'t he have\\nmade it less easy to misinterpret? And how do you know that your beliefs\\naren\\'t a perversion of what your God intended?\\n\\nIf there is no single unambiguous interpretation of the Bible, then why\\nshould an atheist take one interpretation over another just on your say-so?\\nSorry, but if someone claims that he believes in Jesus and that he murdered\\nothers because Jesus and the Bible told him to do so, we must call him a\\nChristian.\\n\\n\"Obviously those extreme sorts of beliefs should be questioned.  But since\\n nobody has ever proved that God does not exist, it must be very unlikely\\n that more basic religious beliefs, shared by all faiths, are nonsense.\"\\n\\nThat does not hold, because as was pointed out at the start of this dialogue,\\npositive assertions concerning the existence of entities are inherently much\\nharder to disprove than negative ones.  Nobody has ever proved that unicorns\\ndon\\'t exist, but that doesn\\'t make it unlikely that they are myths.\\n\\nIt is therefore much more valid to hold a negative assertion by default than\\nit is to hold a positive assertion by default.  Of course, \"weak\" atheists\\nwould argue that asserting nothing is better still.\\n\\n\"Well, if atheism\\'s so great, why are there so many theists?\"\\n\\nUnfortunately, the popularity of a belief has little to do with how \"correct\"\\nit is, or whether it \"works\"; consider how many people believe in astrology,\\ngraphology, and other pseudo-sciences.\\n\\nMany atheists feel that it is simply a human weakness to want to believe in\\ngods.  Certainly in many primitive human societies, religion allows the\\npeople to deal with phenomena that they do not adequately understand.\\n\\nOf course, there\\'s more to religion than that.  In the industrialized world,\\nwe find people believing in religious explanations of phenomena even when\\nthere are perfectly adequate natural explanations.  Religion may have started\\nas a means of attempting to explain the world, but nowadays it serves other\\npurposes as well.\\n\\n\"But so many cultures have developed religions.  Surely that must say\\n something?\"\\n\\nNot really.  Most religions are only superficially similar; for example, it\\'s\\nworth remembering that religions such as Buddhism and Taoism lack any sort of\\nconcept of God in the Christian sense.\\n\\nOf course, most religions are quick to denounce competing religions, so it\\'s\\nrather odd to use one religion to try and justify another.\\n\\n\"What about all the famous scientists and philosophers who have concluded\\n that God exists?\"\\n\\nFor every scientist or philosopher who believes in a god, there is one who\\ndoes not.  Besides, as has already been pointed out, the truth of a belief is\\nnot determined by how many people believe it.  Also, it is important to\\nrealize that atheists do not view famous scientists or philosophers in the\\nsame way that theists view their religious leaders.\\n\\nA famous scientist is only human; she may be an expert in some fields, but\\nwhen she talks about other matters her words carry no special weight.  Many\\nrespected scientists have made themselves look foolish by speaking on\\nsubjects which lie outside their fields of expertise.\\n\\n\"So are you really saying that widespread belief in religion indicates\\n nothing?\"\\n\\nNot entirely.  It certainly indicates that the religion in question has\\nproperties which have helped it so spread so far.\\n\\nThe theory of memetics talks of \"memes\" -- sets of ideas which can propagate\\nthemselves between human minds, by analogy with genes.  Some atheists view\\nreligions as sets of particularly successful parasitic memes, which spread by\\nencouraging their hosts to convert others.  Some memes avoid destruction by\\ndiscouraging believers from questioning doctrine, or by using peer pressure\\nto keep one-time believers from admitting that they were mistaken.  Some\\nreligious memes even encourage their hosts to destroy hosts controlled by\\nother memes.\\n\\nOf course, in the memetic view there is no particular virtue associated with\\nsuccessful propagation of a meme.  Religion is not a good thing because of\\nthe number of people who believe it, any more than a disease is a good thing\\nbecause of the number of people who have caught it.\\n\\n\"Even if religion is not entirely true, at least it puts across important\\n messages.  What are the fundamental messages of atheism?\"\\n\\nThere are many important ideas atheists promote.  The following are just a\\nfew of them; don\\'t be surprised to see ideas which are also present in some\\nreligions.\\n\\n   There is more to moral behaviour than mindlessly following rules.\\n\\n   Be especially sceptical of positive claims.\\n\\n   If you want your life to have some sort of meaning, it\\'s up to you to\\n   find it.\\n\\n   Search for what is true, even if it makes you uncomfortable.\\n\\n   Make the most of your life, as it\\'s probably the only one you\\'ll have.\\n\\n   It\\'s no good relying on some external power to change you; you must change\\n   yourself.\\n\\n   Just because something\\'s popular doesn\\'t mean it\\'s good.\\n\\n   If you must assume something, assume something it\\'s easy to test.\\n\\n   Don\\'t believe things just because you want them to be true.\\n\\nand finally (and most importantly):\\n\\n   All beliefs should be open to question.\\n\\nThanks for taking the time to read this article.\\n\\n\\nmathew\\n\\n-----BEGIN PGP SIGNATURE-----\\nVersion: 2.2\\n\\niQCVAgUBK8AjRXzXN+VrOblFAQFSbwP+MHePY4g7ge8Mo5wpsivX+kHYYxMErFAO\\n7ltVtMVTu66Nz6sBbPw9QkbjArbY/S2sZ9NF5htdii0R6SsEyPl0R6/9bV9okE/q\\nnihqnzXE8pGvLt7tlez4EoeHZjXLEFrdEyPVayT54yQqGb4HARbOEHDcrTe2atmP\\nq0Z4hSSPpAU=\\n=q2V5\\n-----END PGP SIGNATURE-----')\n",
      "\n",
      "=== #2 ===\n",
      "(1.1949123624249505, 'I have found Jewish people very imagentative and creative. Jewish religion was the foundation for Christianity and\\nIslam.  In other words Judaism has fathered both religions. Now Islam has turned against its father I may say.\\nIt is Ironic that after communizem threat is almost gone, religion wars are going to be on the raise. \\nI thought the idea of believing on one God, was to Unite all man kind. How come both Jews and Islam which believe\\non the same God, \"the God of Ebrahim\" are killing each other? Is this like Dr. Frankenstien\\'s story?\\nHow are you going to stop this from happening? How are you going to deal with so many Muslims. Nuking them \\nwould distroy the whole world? Would God get mad, since you have killed his followers, you believe on the same\\nGod, same heaven and the same hell after all? What is the peacefull way of ending this Saga?\\n\\n\\nMan kind needs religion, since it sets up the rules and the regulations which keeps the society in a healthy state.\\nA religion is mostly a sets of rules which people have experienced and know it works for the society.\\nThe praying, keeps the sole healthy and meditates it. God does not care for man kinds pray, but man kind hopes\\nthat God will help him when he prays.\\nReligion works mostly on the moral issues and trys to put away the materialistic things in the life. But the \\nreligious leaders need to make a living through religion? So they  may corrupt it, or turn it to their own way to\\nmake their living. i.e Muslims have to pay  %20 percent of their income to the Mullahs. I guess the rabie  gets his\\ncut too! \\n\\nIs in it that religion should be such that everybody on planet earth respects each other, be good toward each other\\nhelps one another, respect the mother nature. Is in that heaven and hell are created on earth through the acts \\nthat we take today?  Is in it that within every man there is good and bad, he could choose either one, then he will\\nsee the outcome of his choice.  How can we prevent man kind from going crazy over religion. How can we stop\\nanother religious killing field, under poor Gods name? What are your thoughts? Do you think man kind would\\nto come its senses, before it is too late?\\n\\n\\nP.S. on the side\\n\\nDo you think that Moses saw the God on mount Sina? Why would God go to top of the mountain? He created\\nthe earth, he could have been anywhere? why on top the mountain? Was it because people thought to see God\\nyou have to reach to the skies/heavens? Why God kept coming back to Middle East? Was it because they created\\nGod through their imagination?  Is that why Jewish people were told by God, they were the chosen ones?\\n\\nProfit Mohammad was married to Khadijeh. She was a Jewish. She taught him how to trade. She probably taught\\nhim about Judaism. Quran is mostly copy right of Taurah (sp? old testement). Do you think God wrote Quran?\\nMakeh was a trade city before Islam. Do you think it was made to be the center of Islamic world because Mohammad\\nwanted to expand his trade business? Is that why  God has put his house in there? \\n\\nI think this religious stuff has gone too far. All man kind are going to hurt from it if they do not wise up.\\nLook at David Koresh, how that turned out? I am afraid in the bigger scale, the Jews and the Muslims will\\nhave the same ending!!!!!!!!\\n\\nReligion is needed in the sense to keep people in harmony and keep them doing good things, rather than\\nplotting each others distruction.  There is one earth, One life and one God. Let\\'s all man kind be good toward\\neach other.')\n",
      "\n",
      "=== #3 ===\n",
      "(1.3136931211055092, '\\n\\n\\nMust there be a \"why\" to this?  I ask because of what you also\\n     assume about God-- namely, that He just exists, with no \"why\"\\n     to His existence.  So the question is reversed, \"Why can\\'t\\n     we assume the universe just exists as you assume God to\\n     \"just exist\"?  Why must there be a \"why\" to the universe?\"\\n\\n\\nIt may be that one day man not only can create life but can also\\n     create man.  Now, I don\\'t see this happening in my lifetime,\\n     nor do I assert it is probable.  But the possibility is there,\\n     given scientists are working hard at \"decoding\" out \"genetic\\n     code\" to perhaps help cure disease of a genetic variation.\\n     Again, though, must there be \"why\" or a \"divine prupose\" to\\n     man\\'s existence?\\n\\n\\nAs far as we can tell, man falls into the \"mammal\" catagory.  Now,\\n     if there were something more to the man (say, a soul), then\\n     we have yet to find evidence of such.  But as it is now, man\\n     is a mammal (babies are born live, mother gives milk, we\\'re\\n     warm-blooded, etc.) as other mammals are and is similar in\\n     genetic construction to some of them (in particular, primates).\\n     For more on this check out talk.origins.\\n\\n\\nWell, then, Buddhism, Confucianism, Taoism, Hinduism, Judaism,\\n     Zoerasterism, Shintoism, and Islam should fit this bit of logic\\n     quite nicely... :-)  All have depth, all have enduring values,\\n     thus all must be true...\\n\\nStephen\\n\\n    _/_/_/_/  _/_/_/_/   _/       _/    * Atheist\\n   _/        _/    _/   _/ _/ _/ _/     * Libertarian\\n  _/_/_/_/  _/_/_/_/   _/   _/  _/      * Pro-individuality\\n       _/  _/     _/  _/       _/       * Pro-responsibility\\n_/_/_/_/  _/      _/ _/       _/ Jr.    * and all that jazz...\\n')\n",
      "=== #4 ===\n",
      "(1.4142135623730951, \"So we have this highly Christian religious order that put fire\\non their house, killing most of the people inside.\\n\\nI'm not that annoyed about the adults, they knew supposedly what\\nthey were doing, and it's their own actions.\\n\\nWhat I mostly are angry about is the fact that the people inside,\\nincluding mothers, let the children suffer and die during awful\\nconditions.\\n\\nIf this is considered religious following to the end, I'm proud\\nthat I don't follow such fanatical and non-compassionate religions.\\n\\nYou might want to die for whatever purpose, but please spare\\nthe innocent young ones that has nothing to do with this all.\\n\\nI have a hard time just now understanding that Christianity\\nknows about the word compassion. Christians, do you think \\nthe actions today would produce a good picture of your \\nreligion?\\n\\n\\nKent\\n\")\n"
     ]
    }
   ],
   "source": [
    "similar = sorted(similar)\n",
    "print(\"Count similar: %i\" % len(similar))\n",
    "\n",
    "show_at_1 = similar[0]\n",
    "show_at_2 = similar[int(len(similar) / 10)]\n",
    "show_at_3 = similar[int(len(similar) / 2)]\n",
    "\n",
    "print(\"=== #1 ===\")\n",
    "print(show_at_1)\n",
    "print()\n",
    "\n",
    "print(\"=== #2 ===\")\n",
    "print(show_at_2)\n",
    "print()\n",
    "\n",
    "print(\"=== #3 ===\")\n",
    "print(show_at_3)\n",
    "\n",
    "print(\"=== #4 ===\")\n",
    "print(similar[-1])"
   ]
  },
  {
   "cell_type": "code",
   "execution_count": null,
   "id": "3cb7108b",
   "metadata": {},
   "outputs": [],
   "source": []
  },
  {
   "cell_type": "code",
   "execution_count": 31,
   "id": "66e4ef97",
   "metadata": {},
   "outputs": [],
   "source": [
    "# Now, vectorize the testing data and make predictions using the model\n",
    "vectorized_test = vectorizer.fit_transform(test_df['Posts'])"
   ]
  },
  {
   "cell_type": "code",
   "execution_count": 32,
   "id": "65d3fce7",
   "metadata": {},
   "outputs": [
    {
     "name": "stdout",
     "output_type": "stream",
     "text": [
      "Initialization complete\n",
      "Iteration 0, inertia 13504.44289517812\n",
      "Iteration 1, inertia 7050.615511347436\n",
      "Iteration 2, inertia 7003.956818918635\n",
      "Iteration 3, inertia 6976.538907012739\n",
      "Iteration 4, inertia 6963.132844488498\n",
      "Iteration 5, inertia 6955.587727743977\n",
      "Iteration 6, inertia 6950.477587875871\n",
      "Iteration 7, inertia 6946.635231762967\n",
      "Iteration 8, inertia 6944.129421705204\n",
      "Iteration 9, inertia 6941.633433423807\n",
      "Iteration 10, inertia 6939.278838206142\n",
      "Iteration 11, inertia 6937.071863479853\n",
      "Iteration 12, inertia 6934.767971517593\n",
      "Iteration 13, inertia 6933.829341425008\n",
      "Iteration 14, inertia 6933.2436379661885\n",
      "Iteration 15, inertia 6932.754054207489\n",
      "Iteration 16, inertia 6932.248169098833\n",
      "Iteration 17, inertia 6931.595686906022\n",
      "Iteration 18, inertia 6931.102096668499\n",
      "Iteration 19, inertia 6930.825599181732\n",
      "Iteration 20, inertia 6930.615873603262\n",
      "Iteration 21, inertia 6930.425951406564\n",
      "Iteration 22, inertia 6930.194554582614\n",
      "Iteration 23, inertia 6930.0755723831035\n",
      "Iteration 24, inertia 6930.00510553915\n",
      "Iteration 25, inertia 6929.928674838942\n",
      "Iteration 26, inertia 6929.863373283865\n",
      "Iteration 27, inertia 6929.814435371309\n",
      "Iteration 28, inertia 6929.78363898385\n",
      "Iteration 29, inertia 6929.762554829817\n",
      "Iteration 30, inertia 6929.751058808398\n",
      "Iteration 31, inertia 6929.745457202574\n",
      "Iteration 32, inertia 6929.741196394289\n",
      "Iteration 33, inertia 6929.732100710773\n",
      "Iteration 34, inertia 6929.714439393029\n",
      "Iteration 35, inertia 6929.694580151054\n",
      "Iteration 36, inertia 6929.684356160727\n",
      "Iteration 37, inertia 6929.677540451998\n",
      "Iteration 38, inertia 6929.670415739427\n",
      "Iteration 39, inertia 6929.668783949131\n",
      "Converged at iteration 39: strict convergence.\n"
     ]
    }
   ],
   "source": [
    "predictions = kmeans20.fit_predict(vectorized_test)"
   ]
  },
  {
   "cell_type": "code",
   "execution_count": 33,
   "id": "78068bf2",
   "metadata": {},
   "outputs": [
    {
     "data": {
      "text/plain": [
       "0.07699899231187098"
      ]
     },
     "execution_count": 33,
     "metadata": {},
     "output_type": "execute_result"
    }
   ],
   "source": [
    "adjusted_rand_score(test_df['Labels'], predictions)"
   ]
  },
  {
   "cell_type": "code",
   "execution_count": 34,
   "id": "5bb9be83",
   "metadata": {},
   "outputs": [],
   "source": [
    "# Now, do a KMeans clustering with k=20 clusters, but normalizing the white space of the input data and smashing everything\n",
    "# to lower case"
   ]
  },
  {
   "cell_type": "code",
   "execution_count": 35,
   "id": "8a030de4",
   "metadata": {},
   "outputs": [],
   "source": [
    "def normalize_whitespace(txt):\n",
    "    if '\\n' in txt: txt = txt.replace('\\n', ' ')\n",
    "    if '\\t' in txt: txt = txt.replace('\\t', ' ')\n",
    "    return txt"
   ]
  },
  {
   "cell_type": "code",
   "execution_count": 36,
   "id": "9f96c782",
   "metadata": {},
   "outputs": [],
   "source": [
    "column = train_df['Posts'].values # returns an array of the posts in the train dataframe\n",
    "new_column, new_post = [], '', \n",
    "for post in column: \n",
    "    new_post = normalize_whitespace(post)\n",
    "    new_column.append(new_post.lower())\n",
    "train_df['Normalized Posts'] = new_column"
   ]
  },
  {
   "cell_type": "code",
   "execution_count": 37,
   "id": "a10d52a2",
   "metadata": {},
   "outputs": [
    {
     "data": {
      "text/html": [
       "<div>\n",
       "<style scoped>\n",
       "    .dataframe tbody tr th:only-of-type {\n",
       "        vertical-align: middle;\n",
       "    }\n",
       "\n",
       "    .dataframe tbody tr th {\n",
       "        vertical-align: top;\n",
       "    }\n",
       "\n",
       "    .dataframe thead th {\n",
       "        text-align: right;\n",
       "    }\n",
       "</style>\n",
       "<table border=\"1\" class=\"dataframe\">\n",
       "  <thead>\n",
       "    <tr style=\"text-align: right;\">\n",
       "      <th></th>\n",
       "      <th>Labels</th>\n",
       "      <th>Posts</th>\n",
       "      <th>Normalized Posts</th>\n",
       "    </tr>\n",
       "  </thead>\n",
       "  <tbody>\n",
       "    <tr>\n",
       "      <th>0</th>\n",
       "      <td>7</td>\n",
       "      <td>I was wondering if anyone out there could enli...</td>\n",
       "      <td>i was wondering if anyone out there could enli...</td>\n",
       "    </tr>\n",
       "    <tr>\n",
       "      <th>1</th>\n",
       "      <td>4</td>\n",
       "      <td>A fair number of brave souls who upgraded thei...</td>\n",
       "      <td>a fair number of brave souls who upgraded thei...</td>\n",
       "    </tr>\n",
       "    <tr>\n",
       "      <th>2</th>\n",
       "      <td>4</td>\n",
       "      <td>well folks, my mac plus finally gave up the gh...</td>\n",
       "      <td>well folks, my mac plus finally gave up the gh...</td>\n",
       "    </tr>\n",
       "    <tr>\n",
       "      <th>3</th>\n",
       "      <td>1</td>\n",
       "      <td>\\nDo you have Weitek's address/phone number?  ...</td>\n",
       "      <td>do you have weitek's address/phone number?  i...</td>\n",
       "    </tr>\n",
       "    <tr>\n",
       "      <th>4</th>\n",
       "      <td>14</td>\n",
       "      <td>From article &lt;C5owCB.n3p@world.std.com&gt;, by to...</td>\n",
       "      <td>from article &lt;c5owcb.n3p@world.std.com&gt;, by to...</td>\n",
       "    </tr>\n",
       "    <tr>\n",
       "      <th>...</th>\n",
       "      <td>...</td>\n",
       "      <td>...</td>\n",
       "      <td>...</td>\n",
       "    </tr>\n",
       "    <tr>\n",
       "      <th>11309</th>\n",
       "      <td>13</td>\n",
       "      <td>DN&gt; From: nyeda@cnsvax.uwec.edu (David Nye)\\nD...</td>\n",
       "      <td>dn&gt; from: nyeda@cnsvax.uwec.edu (david nye) dn...</td>\n",
       "    </tr>\n",
       "    <tr>\n",
       "      <th>11310</th>\n",
       "      <td>4</td>\n",
       "      <td>I have a (very old) Mac 512k and a Mac Plus, b...</td>\n",
       "      <td>i have a (very old) mac 512k and a mac plus, b...</td>\n",
       "    </tr>\n",
       "    <tr>\n",
       "      <th>11311</th>\n",
       "      <td>3</td>\n",
       "      <td>I just installed a DX2-66 CPU in a clone mothe...</td>\n",
       "      <td>i just installed a dx2-66 cpu in a clone mothe...</td>\n",
       "    </tr>\n",
       "    <tr>\n",
       "      <th>11312</th>\n",
       "      <td>1</td>\n",
       "      <td>\\nWouldn't this require a hyper-sphere.  In 3-...</td>\n",
       "      <td>wouldn't this require a hyper-sphere.  in 3-s...</td>\n",
       "    </tr>\n",
       "    <tr>\n",
       "      <th>11313</th>\n",
       "      <td>8</td>\n",
       "      <td>Stolen from Pasadena between 4:30 and 6:30 pm ...</td>\n",
       "      <td>stolen from pasadena between 4:30 and 6:30 pm ...</td>\n",
       "    </tr>\n",
       "  </tbody>\n",
       "</table>\n",
       "<p>11314 rows × 3 columns</p>\n",
       "</div>"
      ],
      "text/plain": [
       "       Labels                                              Posts  \\\n",
       "0           7  I was wondering if anyone out there could enli...   \n",
       "1           4  A fair number of brave souls who upgraded thei...   \n",
       "2           4  well folks, my mac plus finally gave up the gh...   \n",
       "3           1  \\nDo you have Weitek's address/phone number?  ...   \n",
       "4          14  From article <C5owCB.n3p@world.std.com>, by to...   \n",
       "...       ...                                                ...   \n",
       "11309      13  DN> From: nyeda@cnsvax.uwec.edu (David Nye)\\nD...   \n",
       "11310       4  I have a (very old) Mac 512k and a Mac Plus, b...   \n",
       "11311       3  I just installed a DX2-66 CPU in a clone mothe...   \n",
       "11312       1  \\nWouldn't this require a hyper-sphere.  In 3-...   \n",
       "11313       8  Stolen from Pasadena between 4:30 and 6:30 pm ...   \n",
       "\n",
       "                                        Normalized Posts  \n",
       "0      i was wondering if anyone out there could enli...  \n",
       "1      a fair number of brave souls who upgraded thei...  \n",
       "2      well folks, my mac plus finally gave up the gh...  \n",
       "3       do you have weitek's address/phone number?  i...  \n",
       "4      from article <c5owcb.n3p@world.std.com>, by to...  \n",
       "...                                                  ...  \n",
       "11309  dn> from: nyeda@cnsvax.uwec.edu (david nye) dn...  \n",
       "11310  i have a (very old) mac 512k and a mac plus, b...  \n",
       "11311  i just installed a dx2-66 cpu in a clone mothe...  \n",
       "11312   wouldn't this require a hyper-sphere.  in 3-s...  \n",
       "11313  stolen from pasadena between 4:30 and 6:30 pm ...  \n",
       "\n",
       "[11314 rows x 3 columns]"
      ]
     },
     "execution_count": 37,
     "metadata": {},
     "output_type": "execute_result"
    }
   ],
   "source": [
    "train_df"
   ]
  },
  {
   "cell_type": "code",
   "execution_count": 38,
   "id": "5d012fb5",
   "metadata": {},
   "outputs": [],
   "source": [
    "column = test_df['Posts'].values\n",
    "new_column, new_post = [], ''\n",
    "for post in column:\n",
    "    new_post = normalize_whitespace(post)\n",
    "    new_column.append(new_post.lower())\n",
    "test_df['Normalized Posts'] = new_column"
   ]
  },
  {
   "cell_type": "code",
   "execution_count": 39,
   "id": "705d4db2",
   "metadata": {},
   "outputs": [
    {
     "data": {
      "text/html": [
       "<div>\n",
       "<style scoped>\n",
       "    .dataframe tbody tr th:only-of-type {\n",
       "        vertical-align: middle;\n",
       "    }\n",
       "\n",
       "    .dataframe tbody tr th {\n",
       "        vertical-align: top;\n",
       "    }\n",
       "\n",
       "    .dataframe thead th {\n",
       "        text-align: right;\n",
       "    }\n",
       "</style>\n",
       "<table border=\"1\" class=\"dataframe\">\n",
       "  <thead>\n",
       "    <tr style=\"text-align: right;\">\n",
       "      <th></th>\n",
       "      <th>Labels</th>\n",
       "      <th>Posts</th>\n",
       "      <th>Normalized Posts</th>\n",
       "    </tr>\n",
       "  </thead>\n",
       "  <tbody>\n",
       "    <tr>\n",
       "      <th>0</th>\n",
       "      <td>7</td>\n",
       "      <td>I am a little confused on all of the models of...</td>\n",
       "      <td>i am a little confused on all of the models of...</td>\n",
       "    </tr>\n",
       "    <tr>\n",
       "      <th>1</th>\n",
       "      <td>5</td>\n",
       "      <td>I'm not familiar at all with the format of the...</td>\n",
       "      <td>i'm not familiar at all with the format of the...</td>\n",
       "    </tr>\n",
       "    <tr>\n",
       "      <th>2</th>\n",
       "      <td>0</td>\n",
       "      <td>\\nIn a word, yes.\\n</td>\n",
       "      <td>in a word, yes.</td>\n",
       "    </tr>\n",
       "    <tr>\n",
       "      <th>3</th>\n",
       "      <td>17</td>\n",
       "      <td>\\nThey were attacking the Iraqis to drive them...</td>\n",
       "      <td>they were attacking the iraqis to drive them ...</td>\n",
       "    </tr>\n",
       "    <tr>\n",
       "      <th>4</th>\n",
       "      <td>19</td>\n",
       "      <td>\\nI've just spent two solid months arguing tha...</td>\n",
       "      <td>i've just spent two solid months arguing that...</td>\n",
       "    </tr>\n",
       "    <tr>\n",
       "      <th>...</th>\n",
       "      <td>...</td>\n",
       "      <td>...</td>\n",
       "      <td>...</td>\n",
       "    </tr>\n",
       "    <tr>\n",
       "      <th>7527</th>\n",
       "      <td>14</td>\n",
       "      <td>\\n   Henry, if I read you correctly, you may b...</td>\n",
       "      <td>henry, if i read you correctly, you may be...</td>\n",
       "    </tr>\n",
       "    <tr>\n",
       "      <th>7528</th>\n",
       "      <td>4</td>\n",
       "      <td>about\\nthem on\\n\\nActually, I thought Macs wer...</td>\n",
       "      <td>about them on  actually, i thought macs were s...</td>\n",
       "    </tr>\n",
       "    <tr>\n",
       "      <th>7529</th>\n",
       "      <td>9</td>\n",
       "      <td>I sent a version of this post out a while ago,...</td>\n",
       "      <td>i sent a version of this post out a while ago,...</td>\n",
       "    </tr>\n",
       "    <tr>\n",
       "      <th>7530</th>\n",
       "      <td>6</td>\n",
       "      <td>I have this kit which includes the following :...</td>\n",
       "      <td>i have this kit which includes the following :...</td>\n",
       "    </tr>\n",
       "    <tr>\n",
       "      <th>7531</th>\n",
       "      <td>15</td>\n",
       "      <td>\\nFine, but one of the points of this entire d...</td>\n",
       "      <td>fine, but one of the points of this entire di...</td>\n",
       "    </tr>\n",
       "  </tbody>\n",
       "</table>\n",
       "<p>7532 rows × 3 columns</p>\n",
       "</div>"
      ],
      "text/plain": [
       "      Labels                                              Posts  \\\n",
       "0          7  I am a little confused on all of the models of...   \n",
       "1          5  I'm not familiar at all with the format of the...   \n",
       "2          0                                \\nIn a word, yes.\\n   \n",
       "3         17  \\nThey were attacking the Iraqis to drive them...   \n",
       "4         19  \\nI've just spent two solid months arguing tha...   \n",
       "...      ...                                                ...   \n",
       "7527      14  \\n   Henry, if I read you correctly, you may b...   \n",
       "7528       4  about\\nthem on\\n\\nActually, I thought Macs wer...   \n",
       "7529       9  I sent a version of this post out a while ago,...   \n",
       "7530       6  I have this kit which includes the following :...   \n",
       "7531      15  \\nFine, but one of the points of this entire d...   \n",
       "\n",
       "                                       Normalized Posts  \n",
       "0     i am a little confused on all of the models of...  \n",
       "1     i'm not familiar at all with the format of the...  \n",
       "2                                      in a word, yes.   \n",
       "3      they were attacking the iraqis to drive them ...  \n",
       "4      i've just spent two solid months arguing that...  \n",
       "...                                                 ...  \n",
       "7527      henry, if i read you correctly, you may be...  \n",
       "7528  about them on  actually, i thought macs were s...  \n",
       "7529  i sent a version of this post out a while ago,...  \n",
       "7530  i have this kit which includes the following :...  \n",
       "7531   fine, but one of the points of this entire di...  \n",
       "\n",
       "[7532 rows x 3 columns]"
      ]
     },
     "execution_count": 39,
     "metadata": {},
     "output_type": "execute_result"
    }
   ],
   "source": [
    "test_df"
   ]
  },
  {
   "cell_type": "code",
   "execution_count": 40,
   "id": "f062303c",
   "metadata": {},
   "outputs": [
    {
     "name": "stdout",
     "output_type": "stream",
     "text": [
      "#samples: 11314 and #features: 7824.\n"
     ]
    }
   ],
   "source": [
    "norm_vectorizer = StemmedTfidfVectorizer(min_df=10, max_df=0.5,\n",
    "                                         stop_words='english', \n",
    "                                         decode_error='ignore')\n",
    "norm_vectorized_train = vectorizer.fit_transform(train_df['Normalized Posts'])\n",
    "num_samples, num_features = norm_vectorized_train.shape\n",
    "print(f\"#samples: {num_samples} and #features: {num_features}.\")"
   ]
  },
  {
   "cell_type": "code",
   "execution_count": 41,
   "id": "48b4b2ce",
   "metadata": {},
   "outputs": [],
   "source": [
    "norm_kmeans20 = KMeans(n_clusters=20,\n",
    "                     n_init = 1,\n",
    "                     verbose = 1,\n",
    "                     random_state=3)"
   ]
  },
  {
   "cell_type": "code",
   "execution_count": 42,
   "id": "f88f0071",
   "metadata": {
    "scrolled": true
   },
   "outputs": [
    {
     "name": "stdout",
     "output_type": "stream",
     "text": [
      "Initialization complete\n",
      "Iteration 0, inertia 20275.350894665367\n",
      "Iteration 1, inertia 10606.005701327698\n",
      "Iteration 2, inertia 10531.986490986359\n",
      "Iteration 3, inertia 10503.931641830399\n",
      "Iteration 4, inertia 10484.342239000474\n",
      "Iteration 5, inertia 10463.024699220707\n",
      "Iteration 6, inertia 10454.963425144755\n",
      "Iteration 7, inertia 10452.88727829309\n",
      "Iteration 8, inertia 10451.620292465726\n",
      "Iteration 9, inertia 10450.574894556548\n",
      "Iteration 10, inertia 10449.832414549634\n",
      "Iteration 11, inertia 10449.461809767145\n",
      "Iteration 12, inertia 10449.268513207577\n",
      "Iteration 13, inertia 10449.129699250796\n",
      "Iteration 14, inertia 10449.026961379708\n",
      "Iteration 15, inertia 10448.929275823364\n",
      "Iteration 16, inertia 10448.827296710437\n",
      "Iteration 17, inertia 10448.731916217299\n",
      "Iteration 18, inertia 10448.61463557733\n",
      "Iteration 19, inertia 10448.499633309822\n",
      "Iteration 20, inertia 10448.369545646645\n",
      "Iteration 21, inertia 10448.260514328425\n",
      "Iteration 22, inertia 10448.178061346089\n",
      "Iteration 23, inertia 10448.076345860343\n",
      "Iteration 24, inertia 10448.005095922308\n",
      "Iteration 25, inertia 10447.929034742367\n",
      "Iteration 26, inertia 10447.855599746776\n",
      "Iteration 27, inertia 10447.743769877594\n",
      "Iteration 28, inertia 10447.653563856175\n",
      "Iteration 29, inertia 10447.48947553434\n",
      "Iteration 30, inertia 10447.30827422475\n",
      "Iteration 31, inertia 10447.122144691968\n",
      "Iteration 32, inertia 10447.020945397373\n",
      "Iteration 33, inertia 10446.89739857605\n",
      "Iteration 34, inertia 10446.771734523447\n",
      "Iteration 35, inertia 10446.64008276556\n",
      "Iteration 36, inertia 10446.500242690108\n",
      "Iteration 37, inertia 10446.347316164847\n",
      "Iteration 38, inertia 10446.195309626582\n",
      "Iteration 39, inertia 10446.00246916925\n",
      "Iteration 40, inertia 10445.81413897671\n",
      "Iteration 41, inertia 10445.404236948598\n",
      "Iteration 42, inertia 10444.81126517256\n",
      "Iteration 43, inertia 10444.39350738197\n",
      "Iteration 44, inertia 10444.091788781172\n",
      "Iteration 45, inertia 10443.846448464004\n",
      "Iteration 46, inertia 10443.588590886833\n",
      "Iteration 47, inertia 10443.393262442223\n",
      "Iteration 48, inertia 10443.270246519523\n",
      "Iteration 49, inertia 10443.178976179752\n",
      "Iteration 50, inertia 10443.104945219502\n",
      "Iteration 51, inertia 10443.011064142871\n",
      "Iteration 52, inertia 10442.969560316858\n",
      "Iteration 53, inertia 10442.948552089367\n",
      "Iteration 54, inertia 10442.9394856073\n",
      "Iteration 55, inertia 10442.935557842466\n",
      "Iteration 56, inertia 10442.929398996075\n",
      "Iteration 57, inertia 10442.919775463963\n",
      "Converged at iteration 57: strict convergence.\n"
     ]
    }
   ],
   "source": [
    "norm_clustered = norm_kmeans20.fit(norm_vectorized_train)"
   ]
  },
  {
   "cell_type": "code",
   "execution_count": 43,
   "id": "4648e334",
   "metadata": {},
   "outputs": [
    {
     "name": "stdout",
     "output_type": "stream",
     "text": [
      "Homogeneity: 0.289\n",
      "Completeness: 0.361\n",
      "V-measure: 0.321\n",
      "Adjusted Rand Index: 0.069\n",
      "Adjusted Mutual Information: 0.317\n",
      "Silhouette Coefficient: -0.007\n"
     ]
    }
   ],
   "source": [
    "print(\"Homogeneity: %0.3f\" % metrics.homogeneity_score(train_labels, norm_kmeans20.labels_))\n",
    "print(\"Completeness: %0.3f\" % metrics.completeness_score(train_labels, norm_kmeans20.labels_))\n",
    "print(\"V-measure: %0.3f\" % metrics.v_measure_score(train_labels, norm_kmeans20.labels_))\n",
    "print(\"Adjusted Rand Index: %0.3f\" %\n",
    "      metrics.adjusted_rand_score(train_labels, norm_kmeans20.labels_))\n",
    "print(\"Adjusted Mutual Information: %0.3f\" %\n",
    "      metrics.adjusted_mutual_info_score(train_labels, norm_kmeans20.labels_))\n",
    "print((\"Silhouette Coefficient: %0.3f\" %\n",
    "       metrics.silhouette_score(norm_vectorized_train, train_labels, sample_size=1000)))"
   ]
  },
  {
   "cell_type": "code",
   "execution_count": 44,
   "id": "587a6b1a",
   "metadata": {},
   "outputs": [],
   "source": [
    "# Now, vectorize the testing data and make predictions using the model\n",
    "norm_vectorized_test = vectorizer.fit_transform(test_df['Normalized Posts'])"
   ]
  },
  {
   "cell_type": "code",
   "execution_count": 45,
   "id": "417f631e",
   "metadata": {
    "scrolled": true
   },
   "outputs": [
    {
     "name": "stdout",
     "output_type": "stream",
     "text": [
      "Initialization complete\n",
      "Iteration 0, inertia 13504.44289517812\n",
      "Iteration 1, inertia 7050.615511347436\n",
      "Iteration 2, inertia 7003.956818918635\n",
      "Iteration 3, inertia 6976.538907012739\n",
      "Iteration 4, inertia 6963.132844488498\n",
      "Iteration 5, inertia 6955.587727743977\n",
      "Iteration 6, inertia 6950.47758787587\n",
      "Iteration 7, inertia 6946.635231762967\n",
      "Iteration 8, inertia 6944.129421705204\n",
      "Iteration 9, inertia 6941.633433423807\n",
      "Iteration 10, inertia 6939.278838206142\n",
      "Iteration 11, inertia 6937.071863479853\n",
      "Iteration 12, inertia 6934.767971517593\n",
      "Iteration 13, inertia 6933.829341425008\n",
      "Iteration 14, inertia 6933.2436379661885\n",
      "Iteration 15, inertia 6932.754054207489\n",
      "Iteration 16, inertia 6932.248169098833\n",
      "Iteration 17, inertia 6931.595686906022\n",
      "Iteration 18, inertia 6931.102096668499\n",
      "Iteration 19, inertia 6930.825599181732\n",
      "Iteration 20, inertia 6930.615873603262\n",
      "Iteration 21, inertia 6930.425951406564\n",
      "Iteration 22, inertia 6930.194554582614\n",
      "Iteration 23, inertia 6930.0755723831035\n",
      "Iteration 24, inertia 6930.00510553915\n",
      "Iteration 25, inertia 6929.928674838942\n",
      "Iteration 26, inertia 6929.863373283865\n",
      "Iteration 27, inertia 6929.814435371309\n",
      "Iteration 28, inertia 6929.78363898385\n",
      "Iteration 29, inertia 6929.762554829817\n",
      "Iteration 30, inertia 6929.751058808398\n",
      "Iteration 31, inertia 6929.745457202574\n",
      "Iteration 32, inertia 6929.741196394289\n",
      "Iteration 33, inertia 6929.732100710773\n",
      "Iteration 34, inertia 6929.714439393029\n",
      "Iteration 35, inertia 6929.694580151054\n",
      "Iteration 36, inertia 6929.684356160727\n",
      "Iteration 37, inertia 6929.677540451998\n",
      "Iteration 38, inertia 6929.670415739427\n",
      "Iteration 39, inertia 6929.668783949131\n",
      "Converged at iteration 39: strict convergence.\n"
     ]
    }
   ],
   "source": [
    "norm_predictions = norm_kmeans20.fit_predict(norm_vectorized_test)"
   ]
  },
  {
   "cell_type": "code",
   "execution_count": 46,
   "id": "33bb1e0b",
   "metadata": {},
   "outputs": [
    {
     "name": "stdout",
     "output_type": "stream",
     "text": [
      "Homogeneity: 0.296\n",
      "Completeness: 0.355\n"
     ]
    }
   ],
   "source": [
    "print(\"Homogeneity: %0.3f\" % metrics.homogeneity_score(test_labels, predictions))\n",
    "print(\"Completeness: %0.3f\" % metrics.completeness_score(test_labels, predictions))"
   ]
  },
  {
   "cell_type": "code",
   "execution_count": 47,
   "id": "f95c62ac",
   "metadata": {},
   "outputs": [
    {
     "data": {
      "text/plain": [
       "[Text(0.5, 1.0, 'Bar Chart for Cluster Elements'), Text(0.5, 0, 'Cluster')]"
      ]
     },
     "execution_count": 47,
     "metadata": {},
     "output_type": "execute_result"
    },
    {
     "data": {
      "image/png": "[encoded data removed]",
      "text/plain": [
       "<Figure size 432x288 with 1 Axes>"
      ]
     },
     "metadata": {
      "needs_background": "light"
     },
     "output_type": "display_data"
    }
   ],
   "source": [
    "seaborn.countplot(x=norm_predictions).set(title='Bar Chart for Cluster Elements', xlabel='Cluster')"
   ]
  },
  {
   "cell_type": "code",
   "execution_count": null,
   "id": "03cb77ec",
   "metadata": {},
   "outputs": [],
   "source": []
  }
 ],
 "metadata": {
  "kernelspec": {
   "display_name": "Python 3",
   "language": "python",
   "name": "python3"
  },
  "language_info": {
   "codemirror_mode": {
    "name": "ipython",
    "version": 3
   },
   "file_extension": ".py",
   "mimetype": "text/x-python",
   "name": "python",
   "nbconvert_exporter": "python",
   "pygments_lexer": "ipython3",
   "version": "3.8.8"
  }
 },
 "nbformat": 4,
 "nbformat_minor": 5
}
