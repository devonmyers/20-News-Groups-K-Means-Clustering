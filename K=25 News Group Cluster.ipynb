{
 "cells": [
  {
   "cell_type": "code",
   "execution_count": 1,
   "id": "a1eac47c",
   "metadata": {},
   "outputs": [],
   "source": [
    "from sklearn.datasets import fetch_20newsgroups\n",
    "import numpy as np\n",
    "import scipy as sp\n",
    "import pandas as pd\n",
    "import seaborn\n",
    "import nltk.stem\n",
    "from sklearn.feature_extraction.text import TfidfVectorizer\n",
    "from sklearn.cluster import KMeans\n",
    "from sklearn.metrics.cluster import adjusted_rand_score\n",
    "from sklearn import metrics"
   ]
  },
  {
   "cell_type": "code",
   "execution_count": 2,
   "id": "43e625df",
   "metadata": {},
   "outputs": [],
   "source": [
    "num_clusters = 25"
   ]
  },
  {
   "cell_type": "code",
   "execution_count": 3,
   "id": "75b704dc",
   "metadata": {},
   "outputs": [
    {
     "name": "stdout",
     "output_type": "stream",
     "text": [
      "Number of total posts: 18846\n"
     ]
    }
   ],
   "source": [
    "dataset = fetch_20newsgroups(subset='all') # Fetch the entire dataset\n",
    "print(\"Number of total posts: %i\" % len(dataset.filenames)) # Code from textbook"
   ]
  },
  {
   "cell_type": "code",
   "execution_count": 4,
   "id": "13d30098",
   "metadata": {},
   "outputs": [],
   "source": [
    "train_data = fetch_20newsgroups(subset='train', \n",
    "                                random_state=42,\n",
    "                                remove=('headers', 'footers', 'quotes'))\n",
    "test_data = fetch_20newsgroups(subset='test',\n",
    "                               random_state=42,\n",
    "                               remove=('headers', 'footers', 'quotes'))"
   ]
  },
  {
   "cell_type": "code",
   "execution_count": 5,
   "id": "4c4ffd65",
   "metadata": {},
   "outputs": [],
   "source": [
    "test_labels, train_labels = test_data.target, train_data.target"
   ]
  },
  {
   "cell_type": "code",
   "execution_count": 6,
   "id": "622c873a",
   "metadata": {},
   "outputs": [
    {
     "data": {
      "text/html": [
       "<div>\n",
       "<style scoped>\n",
       "    .dataframe tbody tr th:only-of-type {\n",
       "        vertical-align: middle;\n",
       "    }\n",
       "\n",
       "    .dataframe tbody tr th {\n",
       "        vertical-align: top;\n",
       "    }\n",
       "\n",
       "    .dataframe thead th {\n",
       "        text-align: right;\n",
       "    }\n",
       "</style>\n",
       "<table border=\"1\" class=\"dataframe\">\n",
       "  <thead>\n",
       "    <tr style=\"text-align: right;\">\n",
       "      <th></th>\n",
       "      <th>Labels</th>\n",
       "      <th>Posts</th>\n",
       "    </tr>\n",
       "  </thead>\n",
       "  <tbody>\n",
       "    <tr>\n",
       "      <th>0</th>\n",
       "      <td>7</td>\n",
       "      <td>I was wondering if anyone out there could enli...</td>\n",
       "    </tr>\n",
       "    <tr>\n",
       "      <th>1</th>\n",
       "      <td>4</td>\n",
       "      <td>A fair number of brave souls who upgraded thei...</td>\n",
       "    </tr>\n",
       "    <tr>\n",
       "      <th>2</th>\n",
       "      <td>4</td>\n",
       "      <td>well folks, my mac plus finally gave up the gh...</td>\n",
       "    </tr>\n",
       "    <tr>\n",
       "      <th>3</th>\n",
       "      <td>1</td>\n",
       "      <td>\\nDo you have Weitek's address/phone number?  ...</td>\n",
       "    </tr>\n",
       "    <tr>\n",
       "      <th>4</th>\n",
       "      <td>14</td>\n",
       "      <td>From article &lt;C5owCB.n3p@world.std.com&gt;, by to...</td>\n",
       "    </tr>\n",
       "    <tr>\n",
       "      <th>...</th>\n",
       "      <td>...</td>\n",
       "      <td>...</td>\n",
       "    </tr>\n",
       "    <tr>\n",
       "      <th>11309</th>\n",
       "      <td>13</td>\n",
       "      <td>DN&gt; From: nyeda@cnsvax.uwec.edu (David Nye)\\nD...</td>\n",
       "    </tr>\n",
       "    <tr>\n",
       "      <th>11310</th>\n",
       "      <td>4</td>\n",
       "      <td>I have a (very old) Mac 512k and a Mac Plus, b...</td>\n",
       "    </tr>\n",
       "    <tr>\n",
       "      <th>11311</th>\n",
       "      <td>3</td>\n",
       "      <td>I just installed a DX2-66 CPU in a clone mothe...</td>\n",
       "    </tr>\n",
       "    <tr>\n",
       "      <th>11312</th>\n",
       "      <td>1</td>\n",
       "      <td>\\nWouldn't this require a hyper-sphere.  In 3-...</td>\n",
       "    </tr>\n",
       "    <tr>\n",
       "      <th>11313</th>\n",
       "      <td>8</td>\n",
       "      <td>Stolen from Pasadena between 4:30 and 6:30 pm ...</td>\n",
       "    </tr>\n",
       "  </tbody>\n",
       "</table>\n",
       "<p>11314 rows × 2 columns</p>\n",
       "</div>"
      ],
      "text/plain": [
       "       Labels                                              Posts\n",
       "0           7  I was wondering if anyone out there could enli...\n",
       "1           4  A fair number of brave souls who upgraded thei...\n",
       "2           4  well folks, my mac plus finally gave up the gh...\n",
       "3           1  \\nDo you have Weitek's address/phone number?  ...\n",
       "4          14  From article <C5owCB.n3p@world.std.com>, by to...\n",
       "...       ...                                                ...\n",
       "11309      13  DN> From: nyeda@cnsvax.uwec.edu (David Nye)\\nD...\n",
       "11310       4  I have a (very old) Mac 512k and a Mac Plus, b...\n",
       "11311       3  I just installed a DX2-66 CPU in a clone mothe...\n",
       "11312       1  \\nWouldn't this require a hyper-sphere.  In 3-...\n",
       "11313       8  Stolen from Pasadena between 4:30 and 6:30 pm ...\n",
       "\n",
       "[11314 rows x 2 columns]"
      ]
     },
     "execution_count": 6,
     "metadata": {},
     "output_type": "execute_result"
    }
   ],
   "source": [
    "# Make a dataframe object for training and testing data.  Labels correspond to the 20 different\n",
    "# news groups\n",
    "train = {'Labels': train_labels, 'Posts': train_data.data}\n",
    "train_df = pd.DataFrame(data=train)\n",
    "train_df"
   ]
  },
  {
   "cell_type": "code",
   "execution_count": 7,
   "id": "1da7e1dd",
   "metadata": {},
   "outputs": [
    {
     "data": {
      "text/html": [
       "<div>\n",
       "<style scoped>\n",
       "    .dataframe tbody tr th:only-of-type {\n",
       "        vertical-align: middle;\n",
       "    }\n",
       "\n",
       "    .dataframe tbody tr th {\n",
       "        vertical-align: top;\n",
       "    }\n",
       "\n",
       "    .dataframe thead th {\n",
       "        text-align: right;\n",
       "    }\n",
       "</style>\n",
       "<table border=\"1\" class=\"dataframe\">\n",
       "  <thead>\n",
       "    <tr style=\"text-align: right;\">\n",
       "      <th></th>\n",
       "      <th>Labels</th>\n",
       "      <th>Posts</th>\n",
       "    </tr>\n",
       "  </thead>\n",
       "  <tbody>\n",
       "    <tr>\n",
       "      <th>0</th>\n",
       "      <td>7</td>\n",
       "      <td>I am a little confused on all of the models of...</td>\n",
       "    </tr>\n",
       "    <tr>\n",
       "      <th>1</th>\n",
       "      <td>5</td>\n",
       "      <td>I'm not familiar at all with the format of the...</td>\n",
       "    </tr>\n",
       "    <tr>\n",
       "      <th>2</th>\n",
       "      <td>0</td>\n",
       "      <td>\\nIn a word, yes.\\n</td>\n",
       "    </tr>\n",
       "    <tr>\n",
       "      <th>3</th>\n",
       "      <td>17</td>\n",
       "      <td>\\nThey were attacking the Iraqis to drive them...</td>\n",
       "    </tr>\n",
       "    <tr>\n",
       "      <th>4</th>\n",
       "      <td>19</td>\n",
       "      <td>\\nI've just spent two solid months arguing tha...</td>\n",
       "    </tr>\n",
       "    <tr>\n",
       "      <th>...</th>\n",
       "      <td>...</td>\n",
       "      <td>...</td>\n",
       "    </tr>\n",
       "    <tr>\n",
       "      <th>7527</th>\n",
       "      <td>14</td>\n",
       "      <td>\\n   Henry, if I read you correctly, you may b...</td>\n",
       "    </tr>\n",
       "    <tr>\n",
       "      <th>7528</th>\n",
       "      <td>4</td>\n",
       "      <td>about\\nthem on\\n\\nActually, I thought Macs wer...</td>\n",
       "    </tr>\n",
       "    <tr>\n",
       "      <th>7529</th>\n",
       "      <td>9</td>\n",
       "      <td>I sent a version of this post out a while ago,...</td>\n",
       "    </tr>\n",
       "    <tr>\n",
       "      <th>7530</th>\n",
       "      <td>6</td>\n",
       "      <td>I have this kit which includes the following :...</td>\n",
       "    </tr>\n",
       "    <tr>\n",
       "      <th>7531</th>\n",
       "      <td>15</td>\n",
       "      <td>\\nFine, but one of the points of this entire d...</td>\n",
       "    </tr>\n",
       "  </tbody>\n",
       "</table>\n",
       "<p>7532 rows × 2 columns</p>\n",
       "</div>"
      ],
      "text/plain": [
       "      Labels                                              Posts\n",
       "0          7  I am a little confused on all of the models of...\n",
       "1          5  I'm not familiar at all with the format of the...\n",
       "2          0                                \\nIn a word, yes.\\n\n",
       "3         17  \\nThey were attacking the Iraqis to drive them...\n",
       "4         19  \\nI've just spent two solid months arguing tha...\n",
       "...      ...                                                ...\n",
       "7527      14  \\n   Henry, if I read you correctly, you may b...\n",
       "7528       4  about\\nthem on\\n\\nActually, I thought Macs wer...\n",
       "7529       9  I sent a version of this post out a while ago,...\n",
       "7530       6  I have this kit which includes the following :...\n",
       "7531      15  \\nFine, but one of the points of this entire d...\n",
       "\n",
       "[7532 rows x 2 columns]"
      ]
     },
     "execution_count": 7,
     "metadata": {},
     "output_type": "execute_result"
    }
   ],
   "source": [
    "test = {'Labels': test_labels, 'Posts': test_data.data}\n",
    "test_df = pd.DataFrame(data=test) \n",
    "test_df"
   ]
  },
  {
   "cell_type": "code",
   "execution_count": 8,
   "id": "2a7f0fb0",
   "metadata": {},
   "outputs": [],
   "source": [
    "# Need to use stemming to count words that have similar meaning by comparing their stems\n",
    "english_stemmer =nltk.stem.SnowballStemmer('english')"
   ]
  },
  {
   "cell_type": "code",
   "execution_count": 9,
   "id": "8d4d996c",
   "metadata": {},
   "outputs": [],
   "source": [
    "#Class to convert text to a bag-of-words vector of counts using sklearn CountVectorizer\n",
    "# Note: tfidf stands for term frequency - inverse document frequency.  This is helpful for\n",
    "# de-noising the data i.e. penalizing words that occur in many posts, while focusing more \n",
    "# on words that occur often in fewer posts.  \n",
    "class StemmedTfidfVectorizer(TfidfVectorizer):\n",
    "    '''This code comes from the Richert textbook code'''\n",
    "    def build_analyzer(self):\n",
    "        analyzer = super(TfidfVectorizer, self).build_analyzer()\n",
    "        return lambda doc: (english_stemmer.stem(w) for w in analyzer(doc))"
   ]
  },
  {
   "cell_type": "code",
   "execution_count": 10,
   "id": "266c4cca",
   "metadata": {},
   "outputs": [],
   "source": [
    "vectorizer = StemmedTfidfVectorizer(min_df=10, max_df=0.5,\n",
    "                                    stop_words='english', \n",
    "                                    decode_error='ignore')\n",
    "vectorized_train = vectorizer.fit_transform(train_data.data)"
   ]
  },
  {
   "cell_type": "code",
   "execution_count": 11,
   "id": "0410a16f",
   "metadata": {},
   "outputs": [
    {
     "data": {
      "text/plain": [
       "<11314x7824 sparse matrix of type '<class 'numpy.float64'>'\n",
       "\twith 579601 stored elements in Compressed Sparse Row format>"
      ]
     },
     "execution_count": 11,
     "metadata": {},
     "output_type": "execute_result"
    }
   ],
   "source": [
    "vectorized_train"
   ]
  },
  {
   "cell_type": "code",
   "execution_count": 12,
   "id": "74dfa120",
   "metadata": {},
   "outputs": [],
   "source": [
    "kmeans25 = KMeans(n_clusters=25,\n",
    "                  n_init = 1,\n",
    "                  verbose = 1,\n",
    "                  random_state=1)"
   ]
  },
  {
   "cell_type": "code",
   "execution_count": 13,
   "id": "46699f32",
   "metadata": {
    "scrolled": true
   },
   "outputs": [
    {
     "name": "stdout",
     "output_type": "stream",
     "text": [
      "Initialization complete\n",
      "Iteration 0, inertia 10934.798705831407\n",
      "Iteration 1, inertia 10742.998764236057\n",
      "Iteration 2, inertia 10734.215790169914\n",
      "Iteration 3, inertia 10722.144798335206\n",
      "Iteration 4, inertia 10712.76744545523\n",
      "Iteration 5, inertia 10707.848136714269\n",
      "Iteration 6, inertia 10705.537342949268\n",
      "Iteration 7, inertia 10704.646295812023\n",
      "Iteration 8, inertia 10704.305110856507\n",
      "Iteration 9, inertia 10704.14442671018\n",
      "Iteration 10, inertia 10703.980990159089\n",
      "Iteration 11, inertia 10703.883085026719\n",
      "Iteration 12, inertia 10703.81443259938\n",
      "Iteration 13, inertia 10703.779791632258\n",
      "Iteration 14, inertia 10703.765658477743\n",
      "Iteration 15, inertia 10703.755397897718\n",
      "Iteration 16, inertia 10703.752086526785\n",
      "Converged at iteration 16: strict convergence.\n"
     ]
    }
   ],
   "source": [
    "clustered = kmeans25.fit(vectorized_train)"
   ]
  },
  {
   "cell_type": "code",
   "execution_count": 36,
   "id": "dda457a3",
   "metadata": {
    "scrolled": true
   },
   "outputs": [],
   "source": [
    "#for i in kmeans25.labels_: print(kmeans25.labels_[i])"
   ]
  },
  {
   "cell_type": "code",
   "execution_count": 15,
   "id": "b3163c22",
   "metadata": {},
   "outputs": [
    {
     "data": {
      "text/plain": [
       "[Text(0.5, 1.0, 'Bar Chart for K=25 Clusters'), Text(0.5, 0, 'Cluster')]"
      ]
     },
     "execution_count": 15,
     "metadata": {},
     "output_type": "execute_result"
    },
    {
     "data": {
      "image/png": "[encoded data removed]",
      "text/plain": [
       "<Figure size 432x288 with 1 Axes>"
      ]
     },
     "metadata": {
      "needs_background": "light"
     },
     "output_type": "display_data"
    }
   ],
   "source": [
    "k25labels = pd.DataFrame({'Labels':kmeans25.labels_})\n",
    "seaborn.countplot(x=kmeans25.labels_).set(title='Bar Chart for K=25 Clusters', xlabel='Cluster')"
   ]
  },
  {
   "cell_type": "code",
   "execution_count": 16,
   "id": "ccc54b3b",
   "metadata": {},
   "outputs": [
    {
     "name": "stdout",
     "output_type": "stream",
     "text": [
      "Homogeneity: 0.054\n",
      "Completeness: 0.508\n",
      "V-measure: 0.098\n",
      "Adjusted Rand Index: 0.006\n",
      "Adjusted Mutual Information: 0.091\n",
      "Silhouette Coefficient: -0.013\n"
     ]
    }
   ],
   "source": [
    "print(\"Homogeneity: %0.3f\" % metrics.homogeneity_score(train_labels, kmeans25.labels_))\n",
    "# Homogeneity: 0.400\n",
    "print(\"Completeness: %0.3f\" % metrics.completeness_score(train_labels, kmeans25.labels_))\n",
    "# Completeness: 0.206\n",
    "print(\"V-measure: %0.3f\" % metrics.v_measure_score(train_labels, kmeans25.labels_))\n",
    "# V-measure: 0.272\n",
    "print(\"Adjusted Rand Index: %0.3f\" %\n",
    "      metrics.adjusted_rand_score(train_labels, kmeans25.labels_))\n",
    "# Adjusted Rand Index: 0.064\n",
    "print(\"Adjusted Mutual Information: %0.3f\" %\n",
    "      metrics.adjusted_mutual_info_score(train_labels, kmeans25.labels_))\n",
    "# Adjusted Mutual Information: 0.197\n",
    "print((\"Silhouette Coefficient: %0.3f\" %\n",
    "       metrics.silhouette_score(vectorized_train, train_labels, sample_size=1000)))\n",
    "# Silhouette Coefficient: 0.006"
   ]
  },
  {
   "cell_type": "code",
   "execution_count": 17,
   "id": "fce1d0d2",
   "metadata": {},
   "outputs": [],
   "source": [
    "new_post = \\\n",
    "    \"\"\"Disk drive problems. Hi, I have a problem with my hard disk.\n",
    "After 1 year it is working only sporadically now.\n",
    "I tried to format it, but now it doesn't boot any more.\n",
    "Any ideas? Thanks.\n",
    "\"\"\"\n",
    "\n",
    "next_post = \\\n",
    "\"\"\"Looking for an Indian motorbike in mint condition.  I want it like new, with\n",
    "big tires and a comfortable seat.  I am willing to pay thirty dollars for \n",
    "this ride.  Help me out?\"\"\"\n",
    "\n",
    "last_post = \\\n",
    "\"\"\"Do atheists believe in God?\"\"\""
   ]
  },
  {
   "cell_type": "code",
   "execution_count": 18,
   "id": "4178b14e",
   "metadata": {},
   "outputs": [],
   "source": [
    "new_post_vector = vectorizer.transform([new_post])\n",
    "new_post_label = kmeans25.predict(new_post_vector)[0]"
   ]
  },
  {
   "cell_type": "code",
   "execution_count": 19,
   "id": "41c6705b",
   "metadata": {},
   "outputs": [],
   "source": [
    "similar_indices = (kmeans25.labels_ == new_post_label).nonzero()[0]"
   ]
  },
  {
   "cell_type": "code",
   "execution_count": 20,
   "id": "601f400a",
   "metadata": {},
   "outputs": [],
   "source": [
    "similar = []\n",
    "for i in similar_indices:\n",
    "    dist = sp.linalg.norm((new_post_vector - vectorized_train[i]).toarray())\n",
    "    similar.append((dist, train_data.data[i])) "
   ]
  },
  {
   "cell_type": "code",
   "execution_count": 21,
   "id": "1a3cf14d",
   "metadata": {
    "scrolled": true
   },
   "outputs": [
    {
     "name": "stdout",
     "output_type": "stream",
     "text": [
      "Count similar: 10516\n",
      "=== #1 ===\n",
      "(0.9491516479437525, \"Hi,\\nI've got a Multi I/O card (IDE controller + serial/parallel\\ninterface) and two floppy drives (5 1/4, 3 1/2) and a\\nQuantum ProDrive 80AT connected to it.\\nI was able to format the hard disk, but I could not boot from\\nit. I can boot from drive A: (which disk drive does not matter)\\nbut if I remove the disk from drive A and press the reset switch,\\nthe LED of drive A: continues to glow, and the hard disk is\\nnot accessed at all.\\nI guess this must be a problem of either the Multi I/o card\\nor floppy disk drive settings (jumper configuration?)\\nDoes someone have any hint what could be the reason for it.\\nPlease reply by email to GERTHD@MVS.SAS.COM\\nThanks,\\nThomas\\n+-------------------------------------------------------------------+\\n+-------------------------------------------------------------------+\\n\")\n",
      "\n",
      "=== #2 ===\n",
      "(1.3602155478485611, \"\\nActually, info@qdeck.com is our customer service department. If you have\\ntechnical questions, you can write to support@qdeck.com.\\n\\n\\nI expect the limiting factor will be your server machine, not the network\\nitself. To give you a real-world example, here at Quarterdeck we have\\nroughly 100 people using DVX to talk to a bunch of unix boxes, novell\\nfile servers, and each other. It's not _too_ much of a load on our\\nEthernet (with maybe 4 concentrators, so you have 20-30 people on each\\nsegment). If you had a badly loaded net, or the apps you wanted to run\\nwere very network intensive, you could run into some slowdowns.\\n\\nBut the biggest problem would be the machine itself. Say you have a 486\\n33 with plenty of ram and a fast hard disk and network card. If you have\\n10 people running programs off it, you're going to see some slowdowns\\nbecause you're now on (effectively) a 3.3 MHz 486. Of course, DVX will\\nattempt to see if tasks are idle and make sure they give up their time\\nslice, but if you have 10 working programs running, you'll know it.\\n\\nHaving said that, if you can tweak the programs being run (by adding\\nin calls to give up time slices when idle and that sort of\\nthing), you could probably run 15-20 people on a given machine before\\nyou started seeing slowdowns again (this time from network bandwidth).\\nIt all really depends on what the programs are doing (ie. you're going\\nto see a slowdown from X-bandwidth a lot sooner if your apps are all\\ndoing network things also...)\")\n",
      "\n",
      "=== #3 ===\n",
      "(1.4060764206669274, '\\nThis is the second post which seems to be blurring the distinction\\nbetween real disease caused by Candida albicans and the \"disease\"\\nthat was being asked about, systemic yeast syndrome.\\n\\nThere is no question that Candida albicans causes thrush.  It also\\nseems to be the case that active yogurt cultures with acidophilous\\nmay reduce recurrences of thrush at least for vaginal thrush -- I\\'ve \\nnever heard of anyone taking it for oral thrush before (though \\npresumably it would work by the same mechanism).\\n\\nCandida is clearly a common minor pathogen and a less common major\\npathogen.  That does not mean that there is evidence that it causes\\nthe \"systemic yeast syndrome\".\\n')\n",
      "=== #4 ===\n",
      "(1.4142135623730954, '{Sorry, Harel et al, but our doctors and most hospitals are still\\nprivate in Canada as well as in much of Western Europe.}\\n\\n\\nWrong.  In better EC countries that use pure (but public) health\\ninsurance (like we use in Canada) rather than self-enclosed HMO-like\\nsocialized medicine, 30% of our costs comes from private supplementary\\ninsurance and/or copayments.  France Magazine\\'s Summer 1992 edition\\nhas a fantastic presentation of their basic insurance coverage,\\nincluding a sample chart of copayment percentages.  For 1-30 days,\\nyou\\'re covered for 80% of the public hospital rate, 100% afterward.\\nWith extra private insurance, you can get into a private hospital and\\nbe covered for any differences beyond the public hospital rate.  The\\npublic insurance covers 100% beyond 30 days, or the same cash amount\\nfor a private hospital and the difference is paid out-of-pocket or\\naccording to your supplementary private insurance.  Over 2/3rds of\\nFrench have some form of extra private insurance.  So, 30% of health\\ncosts in Europe are out of private funds and not gleaned from other\\ntaxes.  The GDP figures are combined public and private expenditures\\nfor total outlay using the same methods that yield the 13-14% figure\\nfor the U.S.\\n\\nThat the French had deductibles and copayments in their insurance fund\\nis to their credit ... I am in the minority for advocating such back\\nin Canada (to make the Canadian insurance look more like real health\\ninsurance -- which actually it is).  The new Reform Party, a breakoff\\nof traditionalists from the Conservatives with a mildly \"libertarian\"\\nfaction, hold our public health insurance as an untouchable but that\\njust a few people have to be reminded that it\\'s not free (the average\\nCanadian/European is more fiscally naive than their American\\ncounterparts on issues like these).\\n\\nI\\'m one of the few people who favour copayments (forget about\\nleftists, even our conservatives attack me for it on the Canadian\\nnewsgroups) to make it look more like real insurance, \\'cos the 100%\\ninsurance payment is hidden (unlike in France) and if you didn\\'t know\\nit, you\\'d believe it actually is socialized medicine (American\\nconservatives/libertarians and Canadian leftists are the only ones who\\nseriously call it that).  Canadians aren\\'t worried about the\\nAmericans, who spend 14%; we\\'re worried about the French and Germans\\nwho spend 7% to our 9% ... so the insurance is looking at things that\\nshouldn\\'t be paid for out of general funds like physicals for\\ninsurance policies, sick notes, electrolysis, etc.  The reason that\\nthe Canadian health insurance hasn\\'t spiralled out of control despite\\nbeing open and universal is that unlike Americans, there is no urge to\\nspend all of your benefits\\' worth, and more if you can ... we\\'re a\\ndifferent culture.\\n\\n\\n\"Managed Care\" relies on HMO\\'s, which are unknown in most western\\nnations that use only public health insurance like Canada, France\\nand Germany (I\\'m Canadian, and my German father-in-law-to-be says\\nof HMO/NHS approaches, \"We left that behind with East Germany!\").\\nSure, HMO/NHS controls costs because you have managers strangling\\ndoctors with budget strings.\\n\\nIn Canada, we use the public health insurance approach as in France\\nand Germany, with all private doctors and both private and public\\nhospitals.  It is all pure insurance without HMO\\'s.  The divisions\\nare different, with the Germans using a couple hundred interlinked\\n\"sickness funds\" over a century old while Canada divides by their\\nprovinces (who run the insurance fund and set local fees with the\\ndoctors monopoly; federal funds cover the fees disbursed.)\\n\\nWith such an open-ended system, it\\'s no surprise that Canada is #2 to\\nthe U.S. in costs; all-insurance is the most expensive way to go. The\\nFrench and Germans use the same approach but have larger populations\\nin more compact geography to improve scales of economy.\\n\\ngld')\n"
     ]
    }
   ],
   "source": [
    "similar = sorted(similar)\n",
    "print(\"Count similar: %i\" % len(similar))\n",
    "\n",
    "show_at_1 = similar[0]\n",
    "show_at_2 = similar[int(len(similar) / 10)]\n",
    "show_at_3 = similar[int(len(similar) / 2)]\n",
    "\n",
    "print(\"=== #1 ===\")\n",
    "print(show_at_1)\n",
    "print()\n",
    "\n",
    "print(\"=== #2 ===\")\n",
    "print(show_at_2)\n",
    "print()\n",
    "\n",
    "print(\"=== #3 ===\")\n",
    "print(show_at_3)\n",
    "\n",
    "print(\"=== #4 ===\")\n",
    "print(similar[-1])"
   ]
  },
  {
   "cell_type": "code",
   "execution_count": 22,
   "id": "430786fc",
   "metadata": {},
   "outputs": [],
   "source": [
    "next_post_vector = vectorizer.transform([next_post])\n",
    "next_post_label = kmeans25.predict(next_post_vector)[0]"
   ]
  },
  {
   "cell_type": "code",
   "execution_count": 23,
   "id": "0a803278",
   "metadata": {},
   "outputs": [],
   "source": [
    "similar_indices = (kmeans25.labels_ == next_post_label).nonzero()[0]"
   ]
  },
  {
   "cell_type": "code",
   "execution_count": 24,
   "id": "e2fa38ba",
   "metadata": {},
   "outputs": [],
   "source": [
    "similar = []\n",
    "for i in similar_indices:\n",
    "    dist = sp.linalg.norm((next_post_vector - vectorized_train[i]).toarray())\n",
    "    similar.append((dist, train_data.data[i])) "
   ]
  },
  {
   "cell_type": "code",
   "execution_count": 25,
   "id": "92871471",
   "metadata": {},
   "outputs": [
    {
     "name": "stdout",
     "output_type": "stream",
     "text": [
      "Count similar: 10516\n",
      "=== #1 ===\n",
      "(0.9999999999999998, '')\n",
      "\n",
      "=== #2 ===\n",
      "(1.3839227905813696, ': From: brad@optilink.COM (Brad Yearwood)\\n\\n: Assume in this case the usual canard-adversary of narcotraficantes.  They\\n: probably have more cash than the KGB did, and they\\'re probably more generous\\n: at handing it out.  It will be easier than ever to find or cultivate Walkers\\n: and Pollards for the keys, and it will be easy enough to find someone to\\n: reverse-engineer the chip (unless the tamper proofing is damned clever and\\n: effective).\\n\\nIf the administration *really* believes big-time drug dealers are the threat\\n(personally I thought it was the CIA and the air force that did all the real\\ndrug shipping :-) ) then they *ought* to take this seriously: unlike the\\nKGB, drug dealers can make a most convincing argument for cooperation: \"help\\nus and we\\'ll be nice and give you some money, don\\'t help us and we\\'ll start\\ncutting off your favourite body parts\"\\n\\nAfter all, it was probably an argument like that that persuaded Jack Ruby to\\nshoot Oswald in full view of the police.  Life in jail probably seems much\\nmore preferable to most people than several weeks of something nasty\\nfollowed by no life at all...')\n",
      "\n",
      "=== #3 ===\n",
      "(1.4098493366317866, '\\nI haven\\'t followed whatever discussion there may have been on these\\npeople, but I feel that C. S. Lewis is an excellent apologist and I\\nsee no reason for embarrassment.  If you think that errors and flawed\\narguments are a reason for dismissing a thinker, you must dismiss\\nnearly every thinker from Descartes to Kant; any philosophy course\\nwill introduce you to their weaknesses.  \\n \\n  The above also expresses a rather odd sense\\n\\nI said nothing about \"the masses.\"  However comparing \"the masses\" in\\nour day and in Aquinas\\' day really *is* odd.  Read Ortega y Gasset on\\nthis.\\n\\nI\\'m talking about the familiar experience of arguing all night and\\nwinning on logic and evidence, only to discover your opponent to be\\nunaware, even intuitively, of things like entailment (let alone\\npragmatics).  (I am assuming that both parties are college graduates\\nor better...)  Myself, I don\\'t bother any more.\\n\\nKen')\n",
      "=== #4 ===\n",
      "(1.4142135623730954, 'begin 644 outOfControl.gif\\nM1TE&.#=AN@*6`?```````/___RP`````N@*6`0`\"_@Q@J)O-[XQ4#IYX::Z3\\nM9PUB4ZAY9`<NY59*:/!2L0C-J^W>2(>?[-C3Q70,6A`H9)&2OA=*ELQ)?RW+\\nMP3HT5F%1RQ%INGZNVMF4&WR0?4+>\"OO!,-7(-SO,K#^I=2_<=J?4,QB(`X-V\\nMN)-X>+;C1^B&UI7C&#E)=7E&F)?9\"?9X`OEH.77CE(*I!5KI^08H-I8PMC9:\\nM26HW\"RLFN]LK>@NH1PN[UT>YQ,&ETL#[)#=BVO0<ZZ=VB7S=**D)!?G+\\\\]M&\\nM%`[<2MY]$=[*JFW8V>6ZYHSZG6V.#DVZ-XS?[8*X:`@M6;SB;5M\\'<\"\"U3VS&\\nM-5E5J-JT8)P<%>&#$=I#_CH2O40*\")#=/6\\\\.3QW,(JY,IB,C4[6\\\\-Y(EPTW\"\\nMRIP[*:AB\\'X>Z/\"K2MV5805T:/YD@28G&LIQ+AVY,6$%G\"@]4X]\"SVM2:THGS\\nM;MIJ$9)1/W<AO\\'I]-S%F2S-!SU9URXFBW))7N[95E!\\'4W*\\':5+CZ*(/;W+\\'R\\nM\\\\DK9Q-$HUH4/56*+.C5K6L<\\'$V-%*>HQQ\\\\O,P.+#:7>0RLJAS:+]LW:2Z:BC\\nM8:KK.QAQW-2FK;+MR><?(Y-X<1:V,YEVQXB1;5\\\\&\\'E$.J]\\\\S>\\\\7;$!RSY7G2\\nMTGT]+%:WZW&B]=*%2U.U2(3>*<)[FRUT68-87I>_N_I:3DF2`\\\\/^UWLI1I^)\\nM_L:?@]D18E6AIMQ1A2F6T&S-074@3R+(%$5V]ODCDGI(I71:=_&)UYHJL#4H\\nM3(`U\",?67N?A@B!A$:18FQ$%O;C%;B>!4Z$OF!!(8BF**:21?@8.J(1++A5H\\nMV&:118><=*PEEY^,$X)&6V;DL.B=@E)&.>1W[/&&TGL,;>FC<<:(R1]\\\\C9\\'G\\nM!(.Y(1(-2,4YZ$]G5)H()7U!PHACBDQ5)I6<EH%YHD)P>,EDFF\"5XV&&U=G4\\nMD\\'KV:*C@HW0-Y^<V%FY7(G?[04E,F_;DV>\"??74*VF\\'7L4E=@N8IF1&5[&\\'S\\nMVW%^018<8Q)-8YT5KQ[G!IAIK\"7A;KZ2Z%ELSUFZ_DI\\\\RI)W47@6+:@HA`DV\\nM&DJ1ITK*:K,_X->K4=P\"I!M@-5Z:#YV>*IDH9$%N.I^DQ>F)WFS\\'+E83<GEA\\nMB.I/)H4W)X>I601%I+PM9VZEPVXU+WA%FANP>U_86.>_CG(Y[KG<ZFO+*_RP\\nMVJ^6\\'!-,%#6S=)D/O3:^:F#\"@9+\\\\W%\\\\W3A?AC,`@BF^U_\";9\\\\,+$+BMPGR])\\nMZS%S/&8YAXH2[ZP5Q#*&&Z.F8[);C,A0P3CUH&&HNZZJQ*#\\'Z9Z1Z@=KO7;A\\nME300BSP+8K`7GPTMM@9=60Z[)_+<6L^IPMGOCJ7B[0Q-SB)-,=<4^L9,6/\"M\\nM\\'6*]I)(Y<7VQXIIR3R4G_FY-5B+#K)G-FMV-VLI>#UXLC0I/;F;!N08>](:-\\nM2_=4EF.O&G3J3)YY,^H(&UOBAXP*FQUV`OJ5\"NQZUR65D24_[C6#I(L-XIVZ\\nMQKLDN;1OF;OANB>)**>9.MPNDM,;&RVA>;]T\\\\-RN?U^TSH\";\\\\FU^K5[7Y/7*\\nM_RF4<T[E$J;D(Y.)2\\\\AAW[N9`0GN;M#C%?^X%S5W:()M<(D=D1*X\\'N)`2WH_\\nM`A30;J>HZ55I>/!26<5^!9C:X2R$WQH5?[03+E,QC&I#XY,!*Z<4>RTI:?LS\\nMTE7PQC\\\\8BDI(QZ!.0T0TL_B!2WRE:U%7E,&Z\"Y4F?\\'GP$/.26)+Y(5!>4FSB\\nM_ODL`1W&?<U\"[0O(D5(\"CAGMBC3/RYE3=G*_,\\\\8J:_B;UCXHUR[@=7\"\\'-)RC\\nM#SL&P5J@$%D1&YWG(\"B_[FD1:!MYS\\\\^&Y2X.;E%E\\'^M0``_904.A2FQFX-U/\\nM,$8?\\\\`UF5V#KT<MZY\"C@C<B*D&O$(Q>YA\\'LEXXJ)>1`F[V.W]!`1B4$13HZJ\\nM()]9GL^`BJ2;EM#\\'LQ9N+D#54UN^=B@:9$7#<X1B(Z[X8;]FH**-SGGAY1K\\'\\nMR#J6[UTMBV\\';.H2=^`&S#2SBG-%,IS/*G,9\\\\BD03BJ!&H$:R,S>3>@44L2G)\\nM4NUM1(;@7>_DF3(*DJ$H]A-EYJ0YOQH&4!6G;,XH_L=&0_35R$RJ*6\\'&)CH^\\nMN0CH%+Q$&2Y?]QV!T/*>533=E,J7KEC:\\\\V`T8QRD9&G16S2O\\'ERLA6W$2$#C\\nMI!(WB[G<-$TFJS)\"CHYJ<J,9=>J8>39R@9($H[_V=D&4EDT>VSLJDM3I1POB\\nM,\"WH.)/;1C5%A&)0H/OJ#=MF]=5)BE.!TS\\'E$R-Z/VLJ1X;&\"X0$M[I!M![T\\nMHX.DW=HNR30=-?,_BA/L^HPHCD+!+*4@S:A\\'+[78>HY%\\'04=Z3D7%A;$B?2R\\nM3$7;*E=J2_WEL)IJS$5IU4C0,$5/:,W+GS2IJL&7LC6?:J-6\\'XE5NBQ\"2IX^\\nM@YL@\\'4E(DQ*S9YP]%\\\\[,_H%0ZU`P=W$B\\'&,X&,(*`==%YK,A\\'G\"37+[P,PZ6\\nM]&#?D!I\\'2OE,5B4][KB8ZT6#M<AE@K,2/<DZ3A,I-FJZ]*U7WQ))MDIUMMX%\\nME8;2:[3ZKBA?WC(N4/*81LMY\\\\F0)[531/`FDU2ZO2O-R[4K0])$]=I5BARV3\\nM+Q\\\\82T@6]S^\\'_&H_PI>I^!9ON\\\\YM4^\\\\\"8^!WP+BQ)HN;`.O3)6C&58Z\"RJWH\\nM>-C1U\\':RL@<4$A$?BZ\\\\,?]\"=`AVF?0%*18FNIX`)317G5/?(`2X3N)Z@+\\'OM\\nMMJ_H\"D].W-C64`E;U%/R-+PAFY8.9:PU03[%B>\"]B.8<FAD/[Y\\'`8$;N?.LK\\nM_CN5\"@S*!*\\'Q\\\\;`HPFT:3)6\\\\Q>UF\\'4M\"$VKQ>2Z2])I=6E<W]SBUK\\\\4NV%2[\\nMK5,IH\\\\Z?BW.FLTS>SD$YR>R@V4E=-59AMFZ%O]T?)4&%.4?Z-UE$$R[+&%OJ\\nM/SIYQ-?R78TQ&K.<&11B?0WH&C6MOQFV6<X&SFDU!!5);;+,KIBY\"0GA]V%W\\nMP@/9EO5U8_!8R-6A6LF0OK.*VXMN$6ML14!4ZXM\\'O>-W:G4?U;PTCY?M;_SY\\nM;\\\\\\':O;&#!WI1ZTE-JT,&\\\\JY_[4\"]I%>%A$FG*B4[V$D+[^(8?+C5\\\\%K=;$\\'V\\nMT$4V]W(%/5,7JY\"/Q_`T3P`=\\\\#4CN-\\\\R[S&#+TTK_H0KK1TU].$T;_Q&N4&Q\\nMOS4#EZ7X#%\\\\L$_:F%?-XK9J\\\\;>9Y>+Y)/T]2>EWRR$;=6EJC*>A\\\\$W-HAMU_\\nM-5]VOGGZVK-/.^PTKM_VR.C@M\\'>3:-I4L\\'@SMZBOAQ2(LV9X!6?>;NI*EI:.\\nMUNF282U1/*,XD>+>I$DG;F^`1UOL!24MV<?NZ4X\\'7+MKI_RG\\\\22F,H-R4M@.\\nMJK.1K.((L4_4K<ZU+>\\\\Y[,-W6-=V5)]Z$X_7JDOX?]_LWLP#Y6>*=XWM,0>]\\nMP#&/_.33_/@N?[3EP2U\\\\@W?FN;Q^>>\\\\;*KZCR[YXZ`9IP\\'B-^)2JVL2*I^\\\\S\\nM=E_8U%_=T+P/<%4G3%FY_O>SL\\\\-/OMJ5C__\\\\VW_YF;\\\\\\\\-R&L7*EV94`\"7C-D\\nM-@Y702/4-$,45>`W*%Z%*7,`>U<5@5WS)>.3)]/\\'$JBF+0GX=]GW9]=63LTU\\nM.`*A?R?(?\"C84Y)W?/>W(^LB%%A&:G>\"1G5\\'.NK\\'8EWD5HN7+;*S@2)$1A/$\\nM++OG.#M8;NN65]ZF6W3%7U?W/;A3)M2789I%!\"IHA5>(A5D(@Y6G)@9U1T/C\\nM=B+R/^9515K\\':D@W<M1BAL/15XNE>TE8@\"!H80)H8N^&9-F&(P^G21<G3#_&\\nM@-#W4UHHB(,XB!HC=LE%9.TT8<-D70>D@1K\\'3WNV<MF621&$.AU%-F.R;417\\nM_D\"*9GM]>%E_QGY+AU7,MD2W5WX<5X4RHWV99(&>5W:$*(NS&(NB97D-ICBZ\\nM,G=7$V1B^#%>(F9#*%0*\"\\'&YEU<?ETT0AT^_%%P*\"(?LQV(X=E?BYVK5EUVM\\nMN\\'+P1(O;R(WZMQ/^]V]QAWTZASS8EH`^!8T(XB8`5B>K=H#.(H2^Y4<=PWC/\\nMB(Q0>%L_^\\'%PM\\'&J9QYVIXBA@$+@ICY;V(T\\'B9\"+HWQ@\\\\#0<2#RG<VQQ>(-[\\nM]51-XC;U.\\'1M)X\\\\^R&2K2(VR]H%P(EU89UEWI8MQA!0B9W%1]!G\"-VZ5LWD)\\nM*9-6>#RV\"(N$MHJ*]66(%\\'CA%\"S;,897)I\\';Q(.H_M=+M@)_>Y)32FAM^9@\\\\\\nM.I0%Z[=.2+AA7=84#$A@>7:\"OS*378EV_$=->4AR]1-1J;1:<L5M@Z1P2)>3\\nMN_2!&AELRX@V5C5N3U9+@J9E&RE?91AJ_%AK=*9N\\'(A5!^:/.[6\"-GEP6..5\\nM7?F-!\\\\=\\\\(!:$*!EH:2:\"^\\\\@A70240&>6`&EQ&!@]:>@>K:-4?K>$7-:,]\\'1L\\nM\\'WE]7T2!Y%(N/LESW@>6-/=,&[.87JF8-:>9-S)7<H>4B_,[^\":-E51L&;1Q\\nMU@8R9W9D\\'&4G579>+Q1O;<.1#+6(RCEE@D!EUTD\\\\Q+EHZ<>07>:2]L6\"@2@-\\nMA`>.MZF%N0F+.%>9!?>4_DY\\'C&]2&C%%BI:9E^LD?<ZX6WRE,!VX\\'Y;HB_N%\\nM<M+I/>O5=;]48;9#F/$(@SM&),1!GN@YBPM&F_UV.]DEF;H(1YQXF<\\'HE!%)\\nM74L76>0WC?\")>WP\\'2%^TG*VU=6A%>Y]S8:<SD>]7FN&D6X\\'4.2EXF\\'W9/VLD\\nMH86(<_<G6AL(DZ0$9-FYG=#\\'<AAYAU/W5O=9BJ(XERKYI&+)DCGYHM9)B<\")\\nMA%\"*HO=5GA^$H[[);^S)I4>JHS^:GBWH<D-:F8BT:2Y:9^#T7@P4<N,\\'0#D6\\nMI?TYG\\'\\\\9@`88GPFJ5Q#RI?A)DLA`>)O(H(7Y>]43)Z88;!8V5]-F)RDG>=>%\\nM_H)+`Q+\",E!+@WSJ.9[%=S+T,W09RE7.]W4V%F6C*1E$&&M>ZE@5)Y59FFH\\\\\\nM29H,]7_#^)Y$M:*V\"H?%R8Y3\"52:!W\"C)W5A*8N::G1BD0Z>ZHUCIW9?`BO<\\nM!*F*YT&M-TELN9FUAGK6.%5S@Y-]&IQ1=G[^V7%>&GM\".3!/%Z#J)*XQ2C`#\\nMZ4+T,ZIA6*2ZV93(:J^QVJG8A6^CUJ_/2HL>6*N*&JD7%GEJ!6>_^3KU\"6*?\\nM0CD-\"(5SJHIH*I)[*9FFAK$4>#3P93$QPD)MZ9BBY((0&XXCNYY?N35I]*]\\\\\\nM`;#XEV!;.:BDYGWZV)/`&D\\'#!FRLHZ)3.D]WX8#+_N`JK#D>XPB$C&A^KI>D\\nMU`IOZ8JF:?A>9K6LTVHYDR>(_0BJG@<^*^NOA>:R0OJI69BT[>>7=.@K]N9<\\nM!SJC([JSCB.@;\\\\BNZ@JCA+2P$CN&@7J?R!27WMI#@_890+L+\\\\=)\\\\/A6V.!JV\\nMH6I:7\"LY2/2RS:J\"Q\\'J%&ONMF/BJ9ZM<X;E9G4FTR+FHH^B`PK5B34MRQ]E;\\nM9/NY<TBF:E:@>(N72@H40T9P]RJS)V:\"LVF3FL:RSNJL1-&XA[NF<9JK!\\\\N+\\nM$\\\\1NIC*=0J.V!6NN*QEXN/<W,KB4]BEG<1:5RBMO?9<H@W>5=6ILEK9PMF.Z\\nMHBHNB(NRD`NJRMJL3J*X_FH:DV68<RPJ7B.XCDMFM!\"1M[#3I3PI4Q\\'+JBUZ\\nM@2HJ/0!CFJ0IF*[7B9%ILY>)K9R58)E;NR@+K>D#P>*HLHA)-KSKM2_2NYC\\'\\nM>5@(2NZ)=<,:*F3F3WH7P\\'63D3E4=68(;#Y&P&F61.%W0]*(IZVIMQ?IP!Y5\\nM2S056+(ACH*1E7]8IH-[/1:\\\\D(^YP?WAN($+MC_Z@C7K/-;:3X!%NCS&O_HV\\nMJZI8I8C\\'1JR%<1/(?90;8[\"\\'?0R:E)(Z?C*<C\"6XH%7XPVTA6+@JOEVU?[:9\\nM?TJ\\\\OA>\\\\Q.SKII/K9C>XQ6C;+8%T1+M6+**YO>XJ==\\\\5-WQU0V]9QK;:D$,U\\nM_I2G6:4\\\\NKE?[&[9>&]1%;/-]HZR^IB\\'TE0-.;M=B\\\\KIF\\\\=\\\\[&]G:9ELZV+8\\nMVF*H^K##(Z@KU9_IE[^_F)^GBVM[2G?*B)*B\"\\\\#DVFSO$\\\\0)UVT]2A5V6AOM\\nM*R\\\\T6:&+F[OJJR_,RLI6&\\\\4B/$`%EJT^2\\\\N)6,4\\';&NZO+J4\\'&M/J8\\\\/J\"J(\\nM&*7W6+71^Z!RF\\\\)@O!4\\\\_!7BT:.(\"7416JVA<R5FNI!)O+O7C,?9_,;.$Z![\\nMQ\\\\G[RVTI;,B:*<.!2<]5&7$W)\\\\RAC+UM\",R1K,DJZ1^CN<P:EK\"QIU=\".[$^\\nM]Y7UZ<\\\\I.\\\\$(/9,%<EW5F:IH*ZB1\"L4AV8CE-<[P_NR=;CD0_5\\'1>GNN#[B+\\nM?@6=R*O.19;)61PX2_JA*69GL6MZ:<I:K@2^G(JX30S3VUB#D$Q64+V7-7&J\\nMJ@=HMR55!FR/3MA@Q2Q?\\'YVQD\\\\:WL.S.?X\"\\'RZ*#?RO/+P.5%_LF;@IT2I2X\\nM%=S5:GJ@_QG/>O1*(QEA!<RA(.>J/RNG:KW7P^6N7[JE-2S7\\\\P9J,&R/1;E^\\nMCCK(Y/9R=F>A#5>X=Y8WI7#2A9W-R8O9AX.-3#C5D&VJORFT_BF!CQ\\'\\'=)RH\\nM\\\\)3#S-AQ4Z6<6BIP->@^G\\'>41ZF65M=<0&R8ZS\"JD^J@7>P+6!.BO\\\\@4M^O:\\nMBQET[&HQC$N_BXR6O@>I_D2;EO\"(I9XHA.A-SN%:UK!K*R.\\\\2`$)Q;5=N?3F\\nMDU(KIA+W?0IM:D8LT#,KTMMLBUS=W81(4/+GIU08>=JVU\\'\\\\JO0S>>S<3@7;H\\nM?/H=UW+*OU(<8A1LVL2\\'PD:ZR?[(R3DZ<!!1>659BXZIT;JT98\\\\JF@B>X+Y+\\nMTU[LS<ILVQ)MJ`Y=RY2]W?CHTS#\\'6SE\\\\PJ\"&V#>W5PW\\\\>J&840T-M\\'QBG9=J\\nMU1Q\\\\BTZ#(?0M;9]<XPKNXEKF5)FEDY3YD3>,H:BXV[C,M`E3-0\\\\)A@C3=S0L\\nMM\\\\P(O%=];:ULJ4V]*>A\"Q1,7G\\\\8*0(-;$0:)Y^2TP,U9O6S\"JEU.Q%MCX`M\\'\\nM_M>L)\\\\AQ+JV_;+%WO88VG\\'CJ:++]I8G!3+%I;\\'84[%`J\"YJ%%WW?1J@@2;YU\\nM+K8WJKF:\"UK&U^6Y.7J<P74\\'0M(E;>>W+96^^E*:+25C.>OQ*KTO:<Z<I.?]\\nM3*%GRE6AZIR_?;.3B#@X/+*3:N4_1YX4NMJN1LAJ3>B,WG\\\\D6WIWF$\\\\$J2>8\\nMX\\\\O92V?\"Z)Q&6<`W7EBC*W1\\\\B*2+NN+,-L/YENASN>,F[H<G2MRV.WFT7N4%\\nM_V44I\\\\7(UNLV)^Y6*Y?9;1_KRH82SAI;EXHAB?%U&=(97Y4-5,@!&91FV]Y5\\nM7HEXP.^(_%?T%N9.$O`I]J!>W=K0+-!9/(RJ>ANU_@>D3LRE2E0XM?600F[#\\nM!!B:S%VHT4F&TVO4A%K97-:&L<AIL@O81P4X:?(A=$[CJ;U\\\\*=^FYD;?34J$\\nM]A*YX?Z[9I?LI7SJ]POD6F[MQ%7DICW2?HI#VJ*K1?V)98[GM_=I_3?`6^H[\\nM?$3:MLS5--[LQ%?HN4[O6,VZ.ORX`\\'.0>,)\"HV%,AP[OO\"F2%CG1LR+,$XXB\\nM/PW(\\'.ZTI5[1JX3:(?)#<WRR,5F\\'A(RYW8*Z!#ZP!Z_-X!BM5AZ:^R;[ID[V\\nM.[]VCVCBZ+ZB@OL[.GN,M!;O/%TM&_V_G+WYK]_\"9%YVZ=[JGC_W[YBM@\"_X\\nMU5?8):N0;`:&H3;R[MWJ_GE/\\\\#)Y:&&$LX8XXIP$J.S.2NA\\\\S-D9\\\\Z:?E\".N\\nM^\\'!OY\\\\M([SO*IN0;5^-*`(\\'Q5\",;(633T5,QT)MW_\\\\\\'0$L6D,S>#5,G30M5X\\nMF2]:;O&[H?$^K#2L(\"?S8$AVR<EPF%D`ER;@E`F5P4;7Y[;8K\"Y?S2Z%*N5F\\nMH^\"M[2M,O]=.M/K\\'M+MS:6?WVK\\\\8\\'P)KK.(*Z7P0$Q\\'Q>AA!\\'!^#^%*^SJ`4\\nM/VYF($LP*1\\\\Q0@?+SL),8[1TT/;\"QB;-J+Q<96F]:E/A8E7U+&]ES5I-/511\\nM%#D;@\\\\E67P!G7T^%USPQ@1>#47?LB.HZDTE+L:;O/F$_.U\\\\CM(9;DR(&H<%P\\nM_JM)OXE[6>W566W+YV8MR]6CI<^6(5\\\\L$\"Z[YV(3CTP,Q5%ZAH[=$4%*GL&3\\nM$S\\'BL8<CR$FTYB,@PX0&JTT[J4U:R)8N-!7;%@KC)$-8=#TI68A@R7#X^(\\'4\\nM&118JHEOYO\\'*U4N8A$J_KAUY&4<=1V-1[]\\'\\\\8Y$>4E_^8(*#L\\\\X<68<KF(I1\\nM!DE3-Y$.3LKS*JYM0HQ8U_(:HQ;0J\\'<^XP6V%[02+J5%YR+.B;.P4F]Z0?;[\\nM=I.RV*26H_$\\\\:]4:4*_HX$I5#`UQ93:>W*S<\\'&GQVT-A$Q$<)VV?QQ:E#4=>\\nMV%6FWW9_$Q-M3$@VDH:CD[V#;)=PQJ.Q@,>ES:9X_IN!A+\\'*O20][3;.\\'YU=\\nMY_JG6=2<3%$)32\\\\IKTR!K)&]INJ.VVWX-1H\\'%HK:.^S<2@ZKB)\\'?D##NO,%J\\nM>^P]@>38Q3KB\\\\K-IP>7$`TR[.99)\\\\+1_BC\\'LDN^ZN=!#T:)+)SP1X6FNJK8B\\nMP0ZBD91K:*C5GJ(1-AD9!/$S!7=,L)\\\\4TB%Q+]PB!*L4Y8#*9C2G-,2/0]T.\\nM\\'.<\\\\]!X<+B0?*R0M.>]6LDU\\'UW@,R$0#S6ONNB$+J@Z/7=ATJ8X/S4G/\"&Z\\\\\\nM_$@WS#:BAJS4\\\\H/LN(%8)#`OS5QKTZ\\'PI#SS3RHSQ-#/G7C3\\\\DE(K<.0.R(=\\nM:=.]`.7[4K,EUQ+TN<=(_FU43D<?BO)%NN(<*X\\\\ZI_NO2LY^PE/&H>[:9Y@\"\\nM<[4RILKN4D,N8!4=\\\\5;)`A1\"0N$F%`O\\'[-:1PK.>M+G0I&<];9\\'*894DL$#@\\nMU-LMBV\\'3%)=/\"NMCL;Y#M\\\\JVU7.S/(V_:XTTZJ!2@;S34#5)S0A;!\\'LL,T=J\\nM?R444R.+K50Z`/7[=;)SA\\'6S8\\'>5U2-)=PPD,[0*)RV+.5W-,JNT55F*S5UD\\nM/G85P-[TG,VN@X^\"]B(L1_Z4)X`)%ECA<N,%>%Q%G4W*YX;Q6J7@6J?KST\\'5\\nM3EY79U\\'DQ\\'C:/W/>%EWHV\"JHY`\\'[(ZGD>6$5*5$M0>0Z:&;,A<IL%*\\'>:N2.\\nM_JD^N\\\\85J4-2N$?O`)7MN\\']L;=&JG$45K:1M;#I:C=AI1F.R(XU[M8D+SR-R\\nMPRFW,^07*V8U+,#Y73RT(BC]=R%EELO1UH`U17UL9!L?4>AG3ZR2=3/KYH1/\\nMNNTS/&41,?ZK+\\\\#N\\'9W<*ZNUW*W+*T_>\\\\LP)*9Y6YX.U,\\'$!Q;:9\"ZRY\\'.MU\\nM:@UFMSL-5[;YR5B%MW(NN3D_\\\\A_[X%3>+>E!]ZU7FN\\\\FLM.3PW9?__WY4ZWM\\nMS%%2OGQ1)GY).IVUD-4COQFP)0XJ$Z,2N+?\"I&X[!PQ<68C7/OXE[\\'-\"XM4#\\nMC;4PH.5/1R3<X`E/\"*]\\\\-!`<N^,9XC#SE5K]\"\\';B_GGAI<#BNHKP+((0Q`YC\\nM6O<N?=V0![:[7PK3YJT@1>^\\'`4R._93\\',A1.D8J>4I>=%E878G6/,7@;X<[4\\nM-ZK@$\\'!G*PR.\"WNX*>R%KBN+\"M&6JE@H0(WB<P.SV@I;8T+PY,Z*<?0C_L\"D\\nM+BW*3H[BZUD,T;6C[Q\\'RD%&B8)%\"J!#NI2QA`=M0A*28JB)2$7YHDYI>@$>W\\nM<\\'QQ<C\":R1]1F<JR:9)\\\\O8%B&7V(/D-2J$--1%.D\\'-84EUF-C+63V.:NE<NI\\nML*^4R0.B)V<6\\'5TB35K,TAM:Z+$Q54Z3FBC<\",,>*1M.,0N&/*0#<L`I,^L)\\nM1H`,K!H4#;@3EV@0E,6D_MQSX/(MBA\"R>7DD%/*Z%@4]KK*:_>3DK8H4(S/5\\nM8T)HM&$,*0D\\\\T^2P>K,)UU,F@\\\\N\\'#HU)-<KG$?=W,?)X2YF.K!>XEI:],Y((\\nMCE7<IS]1VK(N>D8J/A3A)0,G/5G6T\\'\\'A!*&3?M@Y/T6LE=VAW6\"PJ+6,GI)Z\\nM=\"P1WL9G3P;6=*##W.!)4QK5SF\"0.;Y,FCX&R42$\\'LM6HFBA2\"EEQ\\'V=K3I<\\nM5%*EL/71W`P.JJPZJT]X]4D(V?1ZC+NJ2[G*4R0B[7T.A:94J9FU4VTJB9RR\\nM7P_U>IGUA-*B.4-LQ:[95!IN\"8&T\\\\^GQ^,>V.KK-DUPU)R*QVM2=7JJM5X%/\\nM_B:#FE:G:0NP34/MW&2XT-0]4\\'7BC,D:AY/+B)HOB^2L)4)<*<>7XC\"X_<0C\\nM,GT\\'4F@IDJPU;%!LSQ?%N[\\'V<.LS(V%W6=K6>NVNC_VI+?G61(CR8[\"BK6#-\\nM<!<[P@&UG?1CGF/V@\\\\^GDC%C&2L5S!PW*^OJUZ]?,^8;1RFR:)BM;D+UWG9U\\nM![3LBC=XMU4:5=BSR$2E\\\\90Z32@8#7G=_JJVJIN<$>!4J9UXDD<T8:VD\"]46\\nM7GOMIY86=9]<C\\\\&T\"CMUQL%-WVL1;!4-7X981^MIU?H%$/[:M++FM1[./+SB\\nMQ9)S;\\'=UU47UA\\\\<.EL<I1T9K-E/LXPA3$J-#\\'>6:_AZ\\\\QVS$A[\"_W66.LP4J\\nM>O;IPUR$7KZ:U3@FBY!IZ>6@D3>!3B%\"B;Y/CD^4!?1!STEVC(-<2ILMB1^1\\nMRC?-3PR98#.S)X#^C:AH=NV1#KU.!C\\\\,40YLXVQGB-3B(6>8]=1:.@=\\\\:E@.\\nM\"H`F;8^@DXNB>V:OHNI=3ZD;.F-`[Y=DF#79?<[B0$MSY\\';3Y98BT3O2/BO;\\nMQ^U+]C>OQM\"YGEFQA4W6HE-;.1\\'+KZ.F6K7/PKG4*[($S.Y4B9#<&6/_WB=0\\nM;JIT9ADMW3+;$+*T_NG4:,G\"\"J:EWBR#7)4-_=Y]4UM[X/;FS]@CXW@#<L0<\\nM190N80H1\\\\\"WE;;U>I0DG_C)9A>N8C]-<Z_B\"?>YR8:^V93W$,S,,S&4U&]LZ\\nM6+ECR-1+QNJV?B7-VA3Y\\\\$&BJ3G2L90H=(J9$NYV>7.+`RR8M3LOV(JN%MA^\\nMDQM?:IKM?:;?&%8?M,F-;+&9_%PMKC?Q+*A4_M[INTDG=F<[5,#H^MKK6D^?\\nMTA=N/.YN]G]^YKC9A^KG2587@W2\"^9S-EVJ.27)&AJ4ZP5M58)J#4<VS+?36\\nMQ^OM%D]ZW10[4\\\\Q9RDX#JTV\\'<$V\\\\Q..^&:%[3>VDA/NP^\\\\H=>FG3[IAS(^&/\\nM\"^?-U_G!HD0K^9C=Y\"XBCM=@(EJ8Q\"EY7%>3(NL;25$R;ON0R]WB?_YKQLF.\\nM_O>6H7+<T0KIAJ<J\\\\]M?OWG*13?)_;=FQ/>RFS`E\\\\LCS?6R4<[KY?F3C-?;\"\\nMZ+T-.D]P@M=>^3(JO._SI-+\\'=(M8+[PD9W8,8HBX+Y;`JNSZJZJTC`\\'%:^_X\\nMJ@`/QLG>[G5&9Z?\\\\2?^:KOV(8-MJPK9>I8^.CVIB!L>>9_E.KX2@;(^,!W=R\\nM1\\\\L\"K\\\\>@\"Y8.JWO(SHFZ9*LFCY=^#I+NI;RXZ7P\"T-S^RP&Q9.AN053H3V5^\\nM3]WZKN/^JCWJ*D\\\\23\\'*L4`1-D,YL1/584)L>2>J:<*$TC86J9^\\\\8)0SY3-3&\\nMJ]68*=^`SZ&Z;^,\\\\3OBHD/F@K^&^ST7\\\\KO(&1T]P_J+6IHSH1.[D.J+1GK`+\\nM_<[E0M`\\'O5#\\\\^.7PQNKOD&S1;,]0*&Z9FJZ9;&*(PG#^`JCZX@C4Y*40\"R57\\nM+\"0E0,P$5ROT@@GM-I`4<X`*&0:)B.ZYG(T/)8VF\\\\JJY3([I[*P1>:L`QRX2\\nM(82IVNP1\\\\6O)*,V+6,__^*GMU.G<EG`:R_!RG+%_YLCH?N/L(*:X:A&0NDS8\\nM^\"[7M(48[^P3*;&L%N_-$LC\\\\8D04^>T4<$@`MPJ&ID`=U]#>$(S`GK\\'$\\\\C#G\\nM7(P57RSA@DSS7\"^#:DS`#\\'(%I7$4(4^`5N_/WHL,O<L!HZO=T)$\"&2^@E\"_.\\nM4JX$5:ZV+\"@>ZS\"5-FX\\'_I]\\'[>8GN6A,((N0+]*/\"!]-S+[L&[]DK33I[22P\\nM)=WLRA[2!;4O]CH,@,8JX`+JA322=!:L[F(NR;I*?&I0&(T+\\\\$K+#^Z0O#J%\\nMRRZM#S40N\\\\IQG2:/G<01\"@O1-N9Q(CN(S!#/H]Q,G03NS4@2(@]-UHX0%0ER\\nM-X+(VBS%#2.1(5TM)QVR(35P)`4,T,XA$(WCH-XH%Y\\'N%DM2)HDIO@+I1L[I\\nM!<$K`<<P\\\\HB+\\'2./Q<(,IXSEP&00[(8+[9A2\"+WO_%2LRMSOU0*A=Y*)A\\'+N\\nM-,ULX+BIVJ;*+&%2/7\"R#SULX>3P\"K]C(2]P*2-G(@D.\\'KD,!H.,_%Z.Z>82\\nM_@\\'S\\\\8X\\\\B-M6DKUTZ\"G;P-\"L*9`*:!.YTU=,DRIIQ\"*)JMCZJ\"OU`]@@;9,T\\nMR\"\"O<?,8DS*%#P!_<\"/E!>E$I^L2KR_7!0BSJOM^21%_J73:0>PJD1/;3A<%\\nM)13M:V:THE?.,R;?X_>BCQGZ`FU(C\\\\;$R#FRC?E,RV2(<P!Q<=;*8/26QZ_L\\nMLJ\"^*?Q\"#>@^\\\\N!L\\\\)+\";1EGKL2N4[DZ[S\"F)))@T:W(X$$YZ^%H#C&%\"Z`\\\\\\nM;<)\\\\J^?N[A\\\\_JCRI:Q!+%#+5LD3?4J8(L>1@DC\\\\+%+MJ,Y]\\\\=!?%4SL7U/\\'B\\nM$+DD=)X^JQ,-L*5P;B8^D,K^9]^P;`G/\\\\-\\\\NK]MX_M+I3BO:@%+2;NY\\'\\\\V?_\\nM<+$=\"3-00XKV[`I)M0?W[&^6`O\\'O&,G4>*F0Z.Y`BVW*5+)1IA/VL+&MH$:>\\nM=&[,A.VXWC,@-4V\"\\'@\\\\+7;\\'X\\'N>=?@TEN7$$[PP4:V]158@B_^^\\\\\\'O`2C7!U\\nM[,T\"\\'77-U$A^>L=C0B4[OO\"\"MLD/I[0;C=4?62TAU;,O-]-7EN40.<Y)\"^M:\\nM835657!R=DRA?!,C@>Q*.Q7BON(H:U`+]=\\'$V)61@I3$9K$5-56M$M(IWTIS\\nM2B@V(U45@[5HR+(%26<(M?7B!L]?@K$U;55*%Q,6\"\\'`%R^V[UK/B&&K9X-#=\\nM4@19KZY\\\\L`PU[>5!UZ98_A9HIFHRP$1T.$E68`^SD:#4*4?*^$!,!\"7EIG)0\\nM3/$OZ6864.M3-UM1#*$K2<FP2VGK!HO,(H\\'2$H.1N#!5T5)62$U-*#,Q/IT5\\nM<CY5]C:U9E3*/<_P8,$Q`=$3.JGT[+!I*\\\\>QZBBU82]35M@,-Z&.JOIS`X>2\\nM$\"O3!J7VQ.9U1$]49M:Q6!\\'N39DU.,/,54M592LTTT3.2]Y/\\\\.#RGZ022*^H\\nMU6C+&]FJ<3]/F\":T8W4O$_GN)\"-FX&8GLB[(70611\".4]\\\\\"K*6E5/KT,1^_P\\nM830G4^B1`Z/T+_GT6Q_7<(\\\\4(\\'?O3<9L0!%RM`ILO:H1=55-,`CPPLZU0\"&/\\nM_N7\")W8?Q$@ATE6GCVK!YA\\\\[]#/!-5_=S7J=]4=O<D.M%DBA-\\';8;U=&<:68\\nMMZ\\'4UV[]2S\\\\7J1VYL$S#[G@9:R`#[1T9%0\\\\Q:F)037\"Q=:-$U2+\\\\,4=5-VR<\\nM\\\\/-N%_54L$[*S?]\"576>*Q9?<TYV4/6T<GB+,K>,L=T:L#/;]RV=BZ2*=V?Y\\nM*1MQQ=B*-ON\";MW\\\\=U7J\"#8=SCK7CD1!=/FHUGLST\"^WMO%JU6LEX7<43V[A\\nMELE&>-*TB$O]0\\'BC[B\\'KD4Z#EUS,+E/-HXTXCTG!U#^.5+YR$!OT#P_K[@;[\\nMZ@GOSR49V(R?=7/[4>QTIM?&9&ZW1B\\'R*C3E`7/;_E!7T:^#/15YJT\"G4!56\\nMKW*.5UB#0PZ-FBDKX`]J\"UB>I#!\\\\`NSK?NV,)9D;2_/KIH0/7Y.`G?A#\",P,\\nM+\\\\O@-#-C\\\\56)M3AH:315_\\\\]L0V6__E6H`+A-:^V*E5`)W2:3:Z*^?@<V$ZO2\\nM?C=$QW:2<VQ9]=*!*YA4Y[,:)^MLE33\\\\=&TSP2\\\\?E]>2EMA4T[4*52Y^B!>*\\nMHQA.,92&!]@4\"5A4Z$AJ3/$[.959`PN84VIBZ>67]Q>VN!0A*VHZ2:W:KN^\\'\\nM-==:\\\\!-IE52,M:V1U3!XV)<%@Y1P6[4Z9_A>8>PB?\"/3(!D`(#JB)7JB(5J\\'\\nM*?JB,3JC-7JC.;JC/?JC_D$ZI\"<Z;\"NZI\"_+H[_%I#>ZC,U3I2L5+4V:AD3X\\nMK$KZ9BTYIEWZY=*VHDW,A$7ZIVO:FS,4?B,Z;*-)8\"(X3H7:.I6(7CN*[AQZ\\nM3X%ZI:>ZJJWZJK$ZJ[5ZJZ_ZGG&Z8T.XJ(]1HO=U?H-Z@U7ZF9*7N<[ZJY4W\\nME6$%JM!6&]M:K+7R/XPT@G$:8MV:>A@Y0@^TVXQOI(\\':HL6:JQ$[L14[JPV[\\nML\"_Z@;]:CFF:4B-#49&,?A^;K(.:IEB3IZWL\"%UZL34:=%37K@_[L,N+H<49\\nM::GQKY6UED461\\\\/9?+%:NQI;M\\'$[MW5[MS%X/5\\\\/)_7SA1V&F@E[/Q/)0Z6M\\nM_J]GZK1WVY>$6\\'`[R2I_CE>3BFR$;);K:Y&E&J6WVHB:^[O!.[S%FPL)&SU7\\nME*)3&Z?*.Z?\\'*+3]9J_W$J;C4@`7;T=Y&[U)*E`UV[3C]#&+6[/56@?/VG/H\\nMP[43^F41F+FI&K]-6[P=_,$AO+:YFXKOJ>H$&:SMAM)DI4CW&ZC:M:X\\'L[XC\\nM.[1S.RV]\\\\L:>)BLW6Z9N=$?GU.\\'`658SVH$=F\\\\0C_,9Q/,=#6G8;\\'+,[S.TV\\nM>R<OL)Y\\'?,7;>FJ\\\\Z^KN-W=+/*T34VU1>[8;&F5__,CS&Z/\\'-Q^@6JF_\\\\V91\\nM$,MK?,9U?,S)/,=#+;)O&O>.F`U/.SL;\\'+Z3&[B5_IL9K?Q4%%R?ZC.\\\\^1&D\\nM97B0Q3Q[.1\\',JUBH`UN<%URT[T^_RWS1&3W,Q5S0V[RGV-O(C5S#W#NF9LVS\\nM?DS3F<J*2V_WQ%&\\'F9G/!]RH>B][!?32,UO%EGIOZR_2\\'7V_&WW6:3W\"0U==\\nMX^+8]\"W*>2IJ@YR:*[!B?[\\'\\'PV6RX=L,-[S6_SR64[\\'2_7JP95W0%:.UPQE<\\nM`G-B%;>CH5S9N;W;M7W27\\\\+3T=S9D[0WA]TNTWK<W?*4Z=Q:^9O<X:O#;9S4\\nM%UN10;W.05QNF\\'S2\"4:)\"!R+[URK;]O;\"=[659.3`5Q5X%SC^!NQTITO$:88\\nMSV\\\\2(;`@:_J8_\\'N\\\\V]C*_FV69:,=OX&]@)V4B;!]WG<<P!]]?`M^Y1O=W87)\\nM8LU5S2$9V2?0PN#<B#E5:(&EXN^4X\\\\M8S^71I;+V\\\\>+OOW4UK_M;3SF:G27<\\nMY%G^Z0G^`,W1TH%N@[-3:+-*WCMQYE\\'=LR<NR(^>W+_9G16[?6M6_4[:Z-<;\\nM\\'S=KY\\'W;J:K2Z:%^[KU=ZC%1WN5;P\\\\>]G&Y^X2F=BJ]KFGV>TED]=\"W,P,F>\\nMJ]57REP1ZW[59^VHJ7G7GUF:NU<=TND^\\\\VG=BB5;O7\\'+$L]2YOL:;@2_N7K=\\nM%U.XW\\'$0[[_/EC=1Q_V-U^DGPP5)]%:?0@&Z7K.=Z;^\\\\R.4^\\\\34_^+^];TH\\'\\nM_F0-#^5\\'T]@;U:J>5.*ED/8EF/!W[,CCJCG\\'G\"C?\\'=.%+O0M/^*E/*_]F5$I\\nM[Z-!5?C-_[NE%O0W=O3W\\\\A+;$K6/Z>_3_7`5WHL@=?[Q\\'9=5^^&OGW`&G\\\\<(\\nM(#BFGMF\"8U#.VN;-&>H=]A,Z$4*&%+J,B<F>+QS+,UW;-Y[\\'\\'B9=E@\\\\(7\\'UZ\\nMPE5).$PJ*\\\\L(DD?Y47M5D)79($X9(*@VR-MRMD5DUMC2L6E@EY/K5/S@:Q<W\\nM*LYJ,)[Z\\'5U8%U.;3:!AHN(B8V,.X)&1I%37VU6EW=+3\\'L=>59Q:F&52WF:0\\nMQ1CGYQ?FF:L5Y1RBX^\\'+\\'1HH3N!HKESIF1]?<!V<_LKIR6RB23)ML_,SM$B:\\nM;R@QJ_#DG##U:BB*-6%OM1IUL>9U-^\\'G9E^JWF5D9K0.R:UNBO&T.O:KN[=>\\nM(4%RI,E@5JA(N\\'D*%S(T1`D<0$EI1)WBQNY;N%+;,,7+Q?&<OG<@]8W[4\\\\;/\\nMAU3C).;3U#\"@-C9@DJ\\'[5[$D\\'W\\\\Q=Z0P2._!P)=\"AQ)%9@J8*I=$<*VKR30I\\nMR961-+(B4R+=S(M>5G8;!<P54BE!ZX\\'ZA:_H#)\\\\$C=I<=]\\'?0YCF?*I]U/\\'N\\nM3K1Z][KAQS$B-D]^;1X=Y#5;5L-XVL:S6%4J64CMR\\'S]:@HGT&$3^9JK03?D\\nM,2I8S,+M9*]O9T&J\\'SVU_I6Z)>?81$6*!:U-<DN`3<65EG6D-U:H*JE.]3\\'0\\nM\\'>5^(,F.Y`V+I>Q[=MOJ+DX:IT\\'FR]B2DJFXS1N/T<<W2U>8*WJ+^\\\\)[*];U\\nMIDKX@B^A&2XN*NC)PY1\\'#GU?(\"Q8D$>+3J-A)%YM!2;T$W>*\"/C:6K`-.&%Y\\nMUC6GQ\\'O\"D00/?5MI1-A!\\'\"+8RDW+<?(;1929EE(G$W78XH\\'S6<8<A=.M4=-@\\nMC\\\\WW5EYR$7.0:8M)&\"%%OF5&9(U).A+?8]?\\\\LYM6^9%8F%.-K2=?=1]&Y&2\\'\\nM^LU8&GOMX:-@4$I.)R4DSFT$W%DT\\'7D;D#WR)\">$8\\\\IE)IZ>H7=E)H<)YF)&\\nM_M_YR66@]CEVHHA58GC@&&:485]94,74:&UUXCD+E,4%%A\";BT9X(Y`T,A++\\nM64;VE\">J#.*FI5MBU;=HFKS0=@QB&UF8C3PM$K?KE)6MJ\"*4&;[:RZP;7I:J\\nMG`)6ZE(<7:XY*70[N95/73\"T``Z=R&IKUZH8X=9>K&KZQXM[W7U[\\'&2()8@H\\nME7?1!NRC.5YIEI4Z2;HM,M,.4F)!.VX*(\"XCJE9MFWT.B1J^\"1,4UVXZ=ENO\\nMIK=6:N\"FP@;J(:#H1OJ627V4B..U=NX8RX\\\\S647P;.4\"!NF/^]A*:K;2!-S0\\nMJQ1;^A+*\"L_9+3R%%AEN=Z8.6UT3AZJW944U8Z9T_D[).7T2T5:B:6Q8%NJ+\\nMKZBKB=?OE%(9T]IV1;4\\\\],$ZFQWTG[8=%[6\"_)83G)C7\\\\3@8*IX>IMTV7C9\\'\\nM--*1?F&>2/\"UG.K@0O;\\\\9F*&SAFS7B&KN-F2!K^8\\\\]D`/ZMIHG!*[!S@N\"[6\\nM9-Q!NPKCY%;G\\'6]*I((*M-\\'!T$TNW%B7.E?1_;(GHM!<<W8W=#/7,CC9GE;N\\nM798?2=U;$[Z!_=\\'?A/&=;IR&A^IR3E\"/,.W#TT><N9B<?ZSS@];>F9NW/U>H\\nM=337Q7?F4D$R5CW,PW_>J[S!!;_T]QT5#_%V@2,?+/^>DSH654U6YCJ5Y+\"T\\nM&=9Q:G:H\\\\AVUI(2D>AS-_D$WB]S7HG0U\\\\?EO3U6\"H/P.\"+K$X`IO?!*>4PR(\\nMN;0Q\"6UJHA>)O*0X$+K):^GYEV*(P[@!A2DU6>.@D&SHC!ZFCT_84M6?BM7\"\\nM$+JF>!W<7Q1:L[D(EL^`+0Q>Z71XGH[]BH!56PVV<!2B5D3-1-C;88WJ4L$W\\nMO6\\\\L-_CA!8>(,8204\"T!8QKOU,9$HSQQCG^!50;OP[OV^>QY$M%AN/JF++OM\\nMIV,O\"N3LU@@F6F70641,TO66,<`!>F&3=$02&(.X\"!!\"@UX?VAKZ-.27+F5J\\nMCU74G@G])HOW3*Q<@K2D4O07PP!NC(P!^M7&^@.J7I*KDK8J$J/^HZW4T<&3\\nM_EYT)D+T!$/PU()FN7)A\\'!M!.5=>+E-O.V\"N8#<2]8#(>8P4V#?71:D5!>ED\\nM)D*E$WWT+!JI,VW+?-0M6,0\"?>JN=VSTSK[$YK8>%0Z#>>3FXF3ID?T9R6*Y\\nME-Y3K\"B/K\\'RR;J3S62#!U`[YF&I@M&+HUYS4T=A)RX$\\\\9\"90HIG)?GZJ5MM4\\nMDCUHB%!,(M.;[\\'I0V%XF.C$P+($415Q\"#-G3RCB*F>ZTV!$39[S^70Y<LESB\\nMI<`B@HJ>Q*.@%-BHQ(>S@@V3E#,=3[$`J;G,B$9XS\\'+7-]8UTJ0HT654^8.O\\nM5*I0&#HJ=+6CX\"J3!2\"SHC$Z4E4!2CM)53U)KZ\\\\-_CJL7TWZ59HB,)G*6V\\'M\\nMG\"K\"?>&QC5,<UB\\'15I6X)D>G5--0V,9F+D4Q;5Z]A*FNHHF*:SE3JV43Y2A1\\nM^\\\\_7+E:@$169/P7IPD3:R92765Z<[A=%!:)D,D<=YVE=$[$=;+1,,;K7-:.*\\nMDI1:H[5PY(EH:ZL,Q6JWB$OU3S@-EMGY3;%\\\\D,TM]_A5PC7QQU[`;==WDH<\\'\\nMRTA6N:]\\\\:>.@H-JKL!81:D1L=Q&6W0`+Y79B[1S;CO58=6A,BFUM[&?A-]UG\\nMMA.0N\"MI1AW\"SE;13Y[<)0\\\\T^ZN%_>JUL6DB<#5/1<?X,99\"2J5=0\\\\\\\\C7TDM\\nM<I>/#(]NE&K3)^@-7N5`_B#>BGG))GK,N>-3<71A\"DW`[I>?!`(PBIN(%U3N\\nM[E+)0U=8SWG,TF%&F845%V9QAYQG%G6+#PV9S#Z<YE>@$)*=&::9FDQB)W?2\\nMFE\\'>V9\\'6%^<]>VZA2&Y,:*,54&*:;I=SC6P,R\\\\S%1?8QBX!:4%HV/&,#,_5$\\nM<6:*G$6<RO_>>;L^;BIL^8)?.6;XCP73Y<Q`M[T8F[=DE&SK+Y[6#YP^]GK4\\nMB]8W[_\\'I0?N0MDJF;C,U3>I1N_)Y]1S?D!5\"[//5.+*/U.TI#7P\\\\4Y_8=96.\\nMKT8U4T!<SK\"LD-*PGL4+K67+C]SD+G8EVMMG@-EZQIV&R7N->.7OT=*<$%LN\\nM_H\\\\4E;?.SLBMW90@RQQ\"X3+F&9+G?C?\"=>V)<\"^,U^]V-;6]K#(@\"RJXK2:K\\nMZ7+*P%D34-O0+J2UZWE*:MHZ?`4_[,\\'MO)\"4HQ@Y%2888!I\\'TV)*S5_Q[/(9\\nMQTHH5@O7C!WH>\"T-4Y^`R\\\\VK:>EWM;MZY(0SW<Z*UA%J6!Y\"-->1HY3%MLAB\\nM56]Z]A;D.S6NQQG]QU6PJ>@D_W0!/<PUJ3<=X?SVMF\\';#FXJ0F1^XD3PN-Y9\\nMV&K;DM#5:V>G\\',UM,FUW\"/SN,RF3+??%`W2>@F:\\\\-L%YQ^0F<-R!23`)%^3;\\nMP+\\'7>D@W]0I)8[^X&Q-8/D;[K:\\\\*^=7S,>Q68;VR_B\\'\\\\8J8BK8]K[>!I:>WG\\nMW&F[N?*:VPRQ`\\\\Y(?Z[\\'96\\\\\\\\[),/;^&37OE1/_.?U\\\\+UL>=/A6U&]637R?%\\'\\nM:ZG#.N4RM^;9XXI3V?GF+_TQS_^,,%$,$$3/\\'W@\\':DLI=CV)`5ITWFOO>/J6\\nMW.\\'/I[VD?1Y_0,O%J!_C39*1&6!LE1:RO<;*$->%F!!#\"1YV@-U0,<9/L</H\\nMQ=R@55!SN=P5$98\",ITDJ=D(`A0`YA7W89-8T1M>G,;RY1LP`9V\"A9?PM0[E\\nML06\\'D<*N(>#^\\\\=4)WIG2!2%#X-B4>=3T34^TI1):B5)_Y%#O[<>_]*\"]M<T3\\nM*I8PC1=<-,KIN-?2$6\\'+_CD6&)82]*7?$S:8UZD:&]5=9LW*K$%-5\"`%;J6(\\nM4ZG5X]F8<<A@C06?#Q84[+\\'=&)I?D\\'64!T5<C*0:\\'C90ZP%:(PG@QX5$.MF<\\nM\\\\=@.\\\\-G?!JK/WBR8E2FA8Z$,(&YB(*:,Q4\\'@Y$E??045)=X7M(\\'%\")U7KDT<\\nM]NV@E+7.\\\\5E.\\'QK>_GUB^)D@)1(<PC1?*+J8I<E1!F8>*G)4SMF&\"_J7#H[,\\nM#+K/`QZ.%IH6:?5B]FD%R(C?#R+2%X+5UPG0-,Z6.`;CV?3<6/F:]NP4I%D6\\nMU_50=OB4\\'L*AZ4U-$+$A$Y94T*5BJ1BC$,6C#[K/$7H7^=\"<*0ZBOZV=(K9>\\nM_NP8\\'3EJV\"@&TS:*(8?]U+41H.4=D9]=US>:WL\\\\%(\"?BCY2)UXWAF9@IE-7Y\\nMGAMFW.7QHG2DF\")*&]PP)%!A816R2T.2FDWRW,7IEM51&0!.9%X`#^VL$<=,\\nMF$=.(03.(4&QU1VR(/HURS`ZXP\\\\68E,67E7&%D_BEQ_.XOM0TDUFE42:V7IU\\nMXE\"^)\\'25W[Q!\\'.)1(_P\\\\3AEM7@.ZXQI:T`;-)3ZJ`NHQ)7X,6S<\"HU79(!`1\\nM#]`YDAG`U55^Y5RZDTOYFR-BF%>.I=(XCDFA6<5AT2])55YB&2KZH5JVF<F1\\nM%66VX,EAW0UNSK=$\\'J)M%68M(D\\\\1\\'RZB7?O0%PXA_B825J;CU0HN9HRX*1,`\\nMK1FAJ5`6JIMPZN9N@1Z3#=;*0<Z0)*#..:-:B1;;<=X\\\\,,-G0!C=2>\\';S2!A\\nMIA]M8F,!@B#&T`WOB>3P94MH6A70G%,\\';-A&2:48D4R%R1><Q5U%]F6=1&9>\\nM?1`A6I\"EZ>)2-B,,4F=K<E8`/IW\\'^:4!UM+QW:(LFF3T;.0\">4\\\\#\\\\4ULXI_N\\nMU1_\\\\$5G\\'C6/A-8Q>>2(2*HY\\\\[N?<:=\\'Y*)>`\"A&#YN(S+DMW5LQ6?%]I<J\\'?\\nMW:5U>@X11:-2XJ;3*)H9A:==)2\"%%=ANDJ\\'=J2\"(\\'!Q^SHU]-AQ^$-O=<.$5\\nM9\"=LOJC!R6A*.B+#=5U._I\\'ECH7173),1_I*:5I8TJSC/KU<$<))_^GB<_K=\\nM:F+E0D:?N]7C7[J6A#@+<F7;EEHIDZXH\"$+5.3[F(DJGQGG?*[4E=D9<;RYI\\nM\\\\0\\'D=&;H5G+H?>I=%M;IW$6DKF#@U!B(1FI5*Z;D5/*CG^I81&ZAHF*DEZ&A\\nMIT(49(J\"Z/GH%S$J,G:-0K)DIEIJ5;%F^\\'T2U\"W?I!)6U>%HAU&=WN\\'JG5JG\\nMJG&@GTH3<3\\'HZ:EIKT&98U9:SX\"I@[$GX&\\'I0.$><[*8D6*K:`K$-A59^9$J\\nM6\"[H#9E9ANS>F:RK93IELS:<1\"\\'@=K8-C$5/3%$E6K7J\"!U>8RHH:.VH9T6J\\nM_HSU\\'YXJ\\'%WAFTQ:(T3ZHR2.GAC^3G&B9_7-JXU(XHR&W9:]FF8ID-+U7%*-\\nMU\\'I**3K5YG\\\\PH#>.J+=PIK]$FKTD+/+!HJ-)WH_>IL2AA7^&FO+QJ0\"-G\\\\D^\\nM#F`^E]8L*R$NK.@UDHP>+(V-5ZGM+/7<%G+69K`6ZUX%&FI>ZX+)H7YRZHTH\\nMIE6:I>*M7S:1X#4&+3@Z4L=*;*WEH,6VG_F\\\\86>%3IB5YZ`0JD\\\\.!2)>!4LR\\nM:YJ=4)Z&;:T68[J`J021*YJBXR96K=P9;9,@G85\"3BG6U+2>&!H>V,]:CPKJ\\nM:=2:#TM-+C4E%\\'K![*92;%S$H)*JDK?636S\"H]!._L\\'<RJSLC\"\"@HBWJ&>V$\\nM.FTLH2CO=A[AE=;R9\"G%%23]B6\"3(FA@NF2V)J1#AE=)_EL`@>N%8>RV]*\\'/\\nM?DG,&N\\']W*-=FET%MJBN\\\\LJMQ>DN(M:Y,2?%&E:[`EBY0J\\'JYEL><6Y([:KL\\nM4J^HR8@V#N?)N%P\\'>ABGC2?5=I%\\'NE%\"3NX9IB-\"%JTF^FWYJAR:EDG#3A!N\\nMOA-2T<_(S2_C*J[]%A%LSJ.]-DT<W@OES*=O29C<)FD97IPXE2U_#FHU0>W?\\nM7C`+_^)OF>FW\\'<I#.ND&5V_:=J&:QA7\\'UMTNY\"R)&B)[R=\"\\\\*:7#Y*N?</\"Q\\nMJJ9`&2DC4>0RDF))8$I4_NZPE=\\'\\'[0JP^N`?QMF1:UX,V5\\'IYI)7*VGF7L;>\\nM&ALLIDJQQ6;L9\\'TCIZ*P2$UJ!&MQ8GVP[YGP&2OG;,(@^OQ8JA8FQW;/ZMP)\\nMZ*(O6)XB%\",OI2*K\"+9CZ\"FCJ.JQ$`9QM&)FY-+H:&;=;&T6D\\'V)MN:=B?$8\\nMR@+O\\\\38O1<EA<LXP*&I,NS0:?!D3)A<;JK;G]?;QR$GG<UUA(O:PK)E3*5[8\\nM]&FOFS6R5&[5U,4?K]\"R^-KR+<^46\\\\JC\\'P.L[RXE%F/MN!2SYA8F#4Z;)N[G\\nML!+?ISHKK7UF*,*9-PO5QTYSI_DJ>*HMH&[J:0S8^&;E@/IPN[YBMKJ)JD(R\\nM_GF!9@:?8$6*7/3\",#Q[8Q<#L99>,[$^7O;\\\\)OZ2F34;*_9EM+$6-,D!)$,J\\nMM/W.YT*CVSQOJ^U>\\\\ZSNU77N\\'@!U\\\\&VZL[1-5$BJGNA&B6^.M(`MINJ!-$ZG\\nMZP`WM/5J1IBN])_5WC#SGY9=&V4^6U%SKW0LL;-B91%;Z3V?ZQOW]/W2<Q!O\\nMXZ)-K_QE\\'M9V]:*&\\\\$>AL0.6V&&\"ZI$FK@8;KR23HR`#<#/N(\\\\JM,E:?;13^\\nM+NL^!XPDLP[\\'*#_+[:\\\\^%1W^+;/`ITJ3[IZ2\\'D<G)EZ33Q!6]0&#VI)\"\\\\%O?\\nM-6%6:4E[\\\\%X[$+[6+2H7%;P\\\\L1\\':]%U)<V/;*/GV_D7*22`@WTR7KEX&WDK?\\nMN7`D\"30F#\\\\=1F_2_2B&QIBB;4I^4NJB#KBJO9=E!QDRHIC5-\"^LH[NU+\\\\32(\\nM&3;YE36/LL352#<8YL$F_W`V=PK&K605*RTGR:+6ONHVK]5Z>:BQ9;$NU&6F\\nM7K`Z=R9N#P_AKF_SI?9=$]GI;+5AGC#R\\'\"9,9M\\\\\\'0@]XZ<NE&JY=F=4*FR;Q\\nM-\"])6N35#:1=5\\\\Y2,[@^R^]^$Z,)WRX?Y^5F_O%><W*$F5=`67:7IK%7:J;P\\nMOFQ+UC==8I=]:7>5S61PL]1Y739FHV3P#7`(<W,+KO`7&[(K\\'XY#/>#\\'5A;*\\nMVF)^\"O6#6]-\\\\>_99TWB-_BOPUAZX7]O7AK]17I]JAZ>6/9V:YPX7.,?G.,<V\\nM\\\\Q9DJ%\\':*1.VFN=Q>%,Y@UBYV4YK-LD4C.^WAWMW@<_C8KN9,6O@HO8;\\'0NU\\nM_!+<\\'8OYQ(&?]Y*N=C/CX@2HCA/.(#?@BN-96V\\\\Y5YXTY+J>=\\\\ZVT]J=&<LF\\nMG5Y2ULS>=TEY$W/GD;KLID.J6_?N*R]6\\\\=+)J7\\\\R+&NZHV>N.J$D2)958NMI\\nM=].@+&/Y$L<K%-THI+<I&>N1-:ZVX,ZZ;>$MA-OUD,&1`>LZN\\'$Z/YOT\\'SO7\\nM/].SKVH.6%LZ7:?X,5XU-^?H:W/Y<)=WZL6Z;)QOI5YC\\'(G*_RYG<VN[PG;J\\nM_G>7[J\\'QEO/RX*!/]/5)KDV>RS&*]%PSL9O_#O8:\"UHFJU3/K)QJ.6A?8;S=\\nMN0D.,;]W]\\')W,CW&VB*+C@?K<B*S=.XZ)IVO;D(YZD&AH.L1NCI#7K\"N3T&C\\nMN81W+P)__(-S,5<W%:P=A2D!+6ZY6K(\\'=W#\"WU)XTM9XD8.:.JZ*=HA5O5\\'5\\nM$)>O:5;AL4H&<+/]9WQ-IL]\\'GL!Z.;>)9VF;3(&\"6G\\'+I;,5X!0;Q^O98BLJ\\nMNDQ\\\\X)*1N\"O/^8MGO;077$]Q%YJ+<9R/?>0XS.\\\\.(!].`S(/>Y_RW=&CL\"[E\\nM<\\'%M4MRT%Q5JGF?\\\\G-5WOM.[9D$1?HV_(S%S8C5\\'_N*Q?.;I&CXS,U`Y-<^A\\nMOHN$T;;E2\\'GGBO.-@W-@U9IP(OA5\\\\Y\\'N6[[G0SV)U72:^Y_,Y73,W6UJ*F[*\\nMRWENU^D>YB%4<P\\\\WRJJT$J3)U=O3P[UD4EHZ$[C(A1CC]\"@^5?WY6ST0+0L_\\nMCFTDOVND/R+U<RN9PJZS,SGK/U\";]\\\\W\\'C/K;6RL!(,\"T/+U^J#$*Y9H9!]ZM\\nMNS#Q^1;)ZTQE!3<#]=X4GFF1Q2-<+2MSV@6%PR\"0&!KQ5!?.*/*!,EFZY8J*\\nM/&:U6V[7^P6\\'Q>.L!F0TDUS-9[)5?;_;%\"D=JXM6V\\\\8CFIYN>:(!M!,<E!E$\\nM0414Y//!FH)<<MRB_#(K_@J9^XED8[Q1JV\\'#VS-44KLA4UUE;75]A=VQM./D\\nM#-U+\\\\LO55#JM2^V=Y*VSZ(&#R^/3/6P:*GUA;*R)EHZ9)0[<];GJB[5T+!Z>\\nM(_$,=5I+?:9*_HUU?X>/[Y:OS/F#1L6E\\')>]L_JOA:V0O5I7=*E2]F\\\\30%!K\\nM8,A89,-:(WR/CDF*(P<CO8L*?VA8Z\\'\\'BKD3E((ZBN,%<1XXM7;XD$@X/L(WT\\nM])&T-4PDK3.T2B1L&#`@R(Q:KA55.8.@/I0E1U8CES(.D\\'U!>1F#R;)G.%_%\\nM)HZJ@/*<.ERYRF9%FU8M36\\'`CL9$:H4HN;%\"YW:ZJO&GQ64,!Q(58^SMV8PR\\nM_D]6P^=4F@N>F.P6Y7J4JBNLV:`UK$KWEL.HGE0FMI;3Y%K2I3D:%EK3&P.E\\nM)D-6Q<M3H[T>@#U^E\")8IVF=)9,^G`;V:\\\\5VSH3,-/WVGK_(23_)E*@NFANQ\\nMGGE?QTZFV4U3_(Q#4G[/-;_)!GN1#V;535L]XO.&[^?2<&?@3:EI#BY;*[)(\\nM?N\\'\"@@^GC@R)ZB-!(O*JE-`0/\"D[!Q_D@KO<T@.OC$I<*P@)K(`BJ+^VN,GK\\nM/0V7FS\"D^%XJ+SA1*@*.FO4N.4Z_>5:S<!W,NK*/NQS#^BT%T5J$,$@AEYIP\\nMJ!$]K$>U$W#*(Z<BT]GF+^:.1!*@<>[:+TO_P+B+_IGZJGMJ16X\"/(;,*2F+\\nM,$3\\'MBF0P.<\\\\ZRXQ4(2[;$@[[Q0M1\"4[#*PL\\\\V9C*ST.;6PG(?20PV1,ML#)\\nM\"HTVQ_LL-#JYPK.5P4BD]\"KT>(P3@G+$VJJZ2D<E]<%-Q2E4(-O@I)+1XMIC\\nM9T1SS.SO(%IQ%(6B3U6,B$4MPS#S5N/\"0]3)\"N-D@D!6.]61P5*?Y:U)!Y&S\\nM2,E9#@JFV+UZ0M6J3&\\'DTBVCY.K,0,[D_#2UTBI#*$E4)ZN20M0VF75!$9N!\\nM-E]]PX5Q)@ZWRM-&>`7U;\\\\UN82N//W>^&=>)7-\\')-<%E]TQ+V!.[:3*?J;CE\\nM44\"O?!5XI7U\\')AF>-<T#_E$U0`@-:M4257TQ4!35C3\"ZPWH$F>\"X3!:HW6]K\\nM/<7$?FXU5$3+:\"XYZ5(-_@]F/VJCCB]CBQWH:\"LS]*7:EBS.X2NF\\'%9P8HIY\\nMEE$[:[%^^>)7+<M,&Z.Y5CKN2@?FLVRZC61/8<>:RSD*:66>&?`:O69P,?PH\\nMK#@;N)^4[,:4B2S;\\'X`%S/!QN2_?-U@H3X6:Q*Z6H[8W#PEI^5<A%UN2K\\'2M\\nM0SQQ8;C^6))#G[QZRQ>56QQSW;&#KZ\\\\B?:>RS$<H+5H_EN>-LD+3[13S0#<G\\nM%9GI=<W.<V@C_Z9-1K[\\'8\\'=W[TFC%3;K14\\\\42IIM\\\\TG<W]U;WV^.Y[;!K!RE\\nM_LLM=^Y\\'O_^FY/VEG=\\\\-T[[;]P1HJM<QB3/S`0KI,$(Z>M$.1-1:F?D@.#;X\\nMM:9!SL,06)!V.>_XCFK7\"-_:6&&_`98P1AN+SY\\\\T)BO(82-T(A3>;=A7&6FQ\\nM0V\"D:HJ/\\\\`.5]:#F=,\":G#;P%:MXD`E])D2B?!H3M6<`#%X?Q%_RTG:[*4&-\\nM>+6KG.R6!S[HH4LS#G&<`#?UP\\'<)#D\"_Z-X6D[C&53P1:Z3H6[;21RBZ/4XW\\nMNZE>U1HX1L^-2B)>/,QX0L;&8<U0C4K<(\"$5::GA<8M_V]N-]\")XK/,$+VH$\\nM*YZ4$MDPM0@\\'CCE<71A).\"17G8@0H[3)(E5)O03>_BN,4TN?VY:X-ELU4G24\\nM!(FVS.C\\'!=\\'\\'DZ`ACGI6F:9A%M.8F<BC_MBSK1LM4\\'(%.Y)N)JFGUIV&D;/S\\nM)2`A>4SQ5?.8WTPB%$]EOBQ&DX5(>DTSW2C%TO&/@A`\"$GT\"R2)W6@Z<\\\\;IG\\nM/K]7-/VY$U.F!%T0Y;BW#KE,0K5#)8J4THE\\'7?)?^H1H1,$903\\\\Y:5O8.ED,\\nM\\\\P88OMVP2VC$(P[1E2P$M>EZ6I-H2E6Z1O>U$X\\\\*/!ZLY&A+2[Z1-<@49K[H\\nME#U[?F>E/P6J&&\\'9SUO^$VTTG2G[DEI.Y*TS<QK<21K_D]\"@5M6J:/D9`HU:\\nMMW/RJ7R,:FD]M2A#JC;J_I!IDNI5U;I6WC%)0@;[*\"TUF3>C(72.QL);\\'^=V\\nMF;+NC*U_!6PG%?>Y)I)S\\'HH:GW<&2UBDT;%_*>UK8\"4[V1G%;&(-U,LY!Y8P\\nMQ!:P<S%M:2RY2EG2EM:TX2+J(Y4:(.!EKYF:Y\"B@^+C-T];6MJ<5)]O,8KM6\\nM/9.Q>.V<\\'F%9M9VE];;\\'1>Y*PQHPRG&.DPR+Y00W9U%O56\\\\^R<5N=M7:2A52\\nM#J?6S:Q8R[=`9BI,2P0]JW;5NUZY[;&B%=UM#>/RPL4R\\\\[K,E=K+;A@S]O;7\\nMOT+]\\'\\'4/FAJ,6JV*ZAKO\\'?]40.7E-[+_A7\"$UP*=@]GTO@D#:5<K&9N!MD^8\\nM_IO]D.>,*V$2EQB>^+4A29/Q/[7E5ZF]%2Z1SI*Q3(S8Q#?&L5EG5SI1VM2P\\nMZC.OY<\"ZI`Y[$V\\\\I[E:.E;QD1.K7E?#%)D/(6%?.!EA*/PL:3=:YEP`RV<M?\\nM/N-R\\':M:EKT6IPS#<I&#RS@M^M.\\\\,`1SG.5,S-FNSX\"A3>PRJ>A$-;TV913U\\nMZ3@C-V=\"%]J9<67N03_:.$M*E\\\\%E)\".+^4Q#1QK:TI<^<`==>&<_Q^:S(M9L\\nM5(],X`.GL(?CPW2JE^PRII+/@&?J;(7QJCRJ]?%IMZ$*9F>39E7WFL2QDF\\\\6\\nM%4NON^TWH#+%,IZON.59<UFT>O5UM-7;RD2[4I9#_IS<0Z\\'XJEN\\'MJ<P`X^C\\nM66UC:9>;LE@*MCI7R]AE%]2<LHUQ+9$G7/K2&\\'$/-G>^5<E`#U?[U!E`6;/5\\nMK>>+\\'O79((;O7*478F,Z3]\\\\/[X)3$^Q2ZG9ZO_76$UQUMCV#^L7;+93E/14+\\nM<9+7.,/V[9BBS?QQ74H:2Z\\'6<UVGFUG^7DO8;`13,$L.\\\\5J+]]I,]+$X\"^[J\\nMF#KMV6SNL>0&U>=!LQ1D0MMYM)E]RK&V?--\\\\+>>H,UX(3UEXJ#5%>7G+K/1)\\nMAU.;_(WZI8==:K]MI]5(;F37#U1Q:5K;J5%,YYK16YRE;Q)S.QIYVJ6-\\\\@T[\\nM&\\\\I\\'C?)C&`[<GG7TU&VN_N2:&8]A62,QE%`7?*$/\\'WFO^WS1#-ZQE1/URTFI\\nMQXT)]R!=(<-AW7KO80OY=N9OK/<H1;K\\'<I>B^YI#U*-]/H-E-\\'W<>\\\\:Q&0.-\\nMG9:_X,]E+^>OPEB(5^<CD35T874Z=IZ2XM5H=.G;MF%+RDOE\\\\SX]\"?OT+C^Y\\nMW9VDXT_N4-R<(,J\\'4O#T+]B:6[PWR6)57\\\\#1\"=O\"[&XX;N\\\\R\\\\XLPRJ,F_&N^\\nM:ILFQWLKF,LF72&<%=HSM-D[+\"*_&(.\\\\OW,XV,,\\\\`3R_JS,Z#&LB,@,@3M.T\\nMS<$L\\'5&62)F5K^L\\\\X],_IANNO&NO^ANYV.-`Y**VF?(Y<#L\\\\\\'Z(ZH$L]WW!`\\nM_C\\'1LO?A,>*;I0R;M9#:I<2!&T\\'SKAO$K1%LM5<20=X3,-S0F.*CGP6D/PM:\\nMP=^K.`TS)YO;B&^QMW<Z(S3YFBK#-RE4I+:Q0&\"[/Z;K.I>:%^T3,`H#I>=X\\nM$\\\\0K*E9+E:O1M0V<.#5<0Y0*#%+S(3B4+$130O8KP3J[+DW+%$\"S1&#ZHB\\',\\nMQ%\\'#\\'@(LP0:CLO[CK<#)\\'4%K1$<$K.:CO$.\\\\PIO;OBR<D^<CO[`IJ5WYO1U+\\nM-W*B-#LSL*S#L\\\\!I.G#ACX]Y0U7<)PEDO$9#,=`)\\'?LC05AK/^?8H=_P-^D:\\nMLP93E+\\';NG<#L0%J*\\'XJ/V1<)83#)\\'4#0??`ID?2_L7?P4+H$94O\\'\"DZC+EU\\nMDY<D_,8->ZGI>0>-LS)R!*K8\"JBA:T;V>SXK!$*Z@SXP(3TPM\"4ZM\")\\\\$L2B\\nM6SRF.48O0*5J++B+!$B2^<$W:T\\'=*\\\\-K?+5,%$EB&#\\\\PNCP)JD.]ZD00BB*-\\nMRC:_RQPP4DB.[,BEB3=TE#7[4T!)Y#1:?#7,\\\\!HP)`S#,L>L41M(7+\"7(S?7\\nM\"Y1TS,E\\\\HCYER\"B+^C2/<C*K4SGUNRF\\'B92ZN!*OFZ(##,H@^S\"Z(@R<[*05\\nM1+6I_*;B&3<4VKWM&SI,\\'$%*/(<[>!0BS*V@^S[)\"S0C$Y<C\\\\BNXS$EGHSG.\\nM4ZT]>ZLK]$)?N;TKVT3I_J@U\\'MRZ(:-\"\\\\3$VLL,+!4),<DS`G^LY@\\\\3#A#S(\\nMU`(^ZDN\\'_-C!0AS$FUL]LJR2IH0VEF#+T,PQ@IJX(\\'RRJB2.5XQ,)&O$/5))\\nM75.\\\\\"QRO<Q1,\\\\/(L900<Z-+-J(NKP,M+U\\'PRCP$ZB(%%!\\'REFRD]K^PVW=I%\\nMK;-!F2DO0CS,Z2RY[F+,(DPQUAPPX>3.>;,ZJ=F,L#//BZ`O=^NF\\\\<PJ7GP;\\nM_)F@W&3/<UN4ZE)+H5S+:-S*U*P+)RO,]@,X[IPY(4.Z`9/%%S.>L;JD_1G,\\nMG1C\\'`[VM[C.D[*2XIHI&^C3)G$G(B]JIC;PR@6.T2WD,UA$:C).KYKI-\"350\\nM_A)=I.K\\\\RMWS1EM8KI+,FO?S-_[+S).Z3XH$/G6LL+4#.YY2S_B4C;Y#*D0$\\nMTM*\"KL;,0I%\\\\QJ\"<NS*=3`_32L.;18($J2/]S%_Y1D1!MZC<#_%<TS,9T/[L\\nMTD?,-,RD1]AD4*\\'<RUR<1>TLT$`4OGF#P9`#+_WK19D$4>ULO-;C.U)+CCU-\\nM1B,+O1XL2)^<3\\'_QU+\\\\$QCYSN$B2(0Y=QBQMCYE432WEJ*X<U1:4U%/=FNQ<\\nM0$RUIL#\\\\MTVS4\\\\]#TE#=SFV+K30-U%^=R3P:R/[I3&A\"IGRDL8\\\\T3<S4\\'D!I\\nM(XRT4B[D4ERU\\'N\\\\S41&\\\\R>IZS$#U5(?B2E*5S:ML_C=]%,?Y<K4I.E,B[4Z@\\nM-%1*C46WRU93J\\\\0U%5:*:T(L\"DTYG\"Y1+<Y)!<K<\"L/ZK+V$!4Z[NM-.Y$E?\\nM)%84*B1`W\"CH\"]8V5;-WXSXX(T:0,]?&_+A;$M6.3$5[@L9PA5#=Z\\\\(5;<8[\\nMQ$MC?:%;4\\\\+_@3O;.[V#K%@63+_3O,X`RR1(?`5[TTL(U4<ZHU0!G#K0`TPU\\nM/4GG<DLBS:#A[,YM>[N`K32R:RU9?4B))9Z8U<%*RY@K2J:6Q3IJRA]_?4_<\\nMP[^IE1^Q],7VK,<3\\'=?(K!.3#%<Q1,AXG41)O;NZA=@D2[I0+,UA);B_;54I\\nM[4:[`ME=N]<S$U\\'?L]\"D_KJ4N1Q3DG/5GK18^70;%HTC6.59D@S)@GVL9%NL\\nM_7O8\"57.O$(?X\"0/4+5)X</*#V4D9\\'7;=U38VONBI^.Q4R1,[?+!8X/(<X79\\nM\"L366_753PI=-XO8)$U.;BL[]\"O2=`0TGM7+X%5=LL1&LSU;-WQ0YV*X.&59\\nMD+16EOPO5[\\'/GIU/JS5.EGW-S47)>85<EI.^6DJ5L7M66IM2]71<Q:S7[O5.\\nMJ8U6-,\\'8SIVY6.5#D@C%?OV.JD2]O[K$(SRVAQW.293:)P6WU%\\'(L<U&/[&]\\nM_/M%)*S:B03A^KE\\'BH6C]\\\\RKM(79QFW6/137G.I;=B1@7B,F\\'DW#\\'TV:Z4W6\\nM_O-54>;]WQ4&5KLS2-6$7[WM*L*K15,51<Z#W>>T5P4I6Q7%TI<4U*,<(79[\\nM4:S]UGHAX&%\\\\KE;17!\\\\=T;_SL2\\'N4R3%NGP5T_@B4^^44F7*UP_-WIVDP+I)\\nMO?W$+UQ;U9LUS;TM5^.%SH2\"VC8>P[O\\\\82SDEXJ%U\\\\T[H6$RWPZUVJ5%7]`E\\nMU+$DHD6639ZTW@WN/52MLNV,6YUAH3)K1Y5#34.^3M[;0)]QJPSVON0=RAYM\\nM&-ZD2QA3X^.#P:>,EK$E2N&]V\\\\`MR4KFVQ(QY0R<Y,K[3@=S7J6T0-\\\\\"WC$,\\nMM2DN2UD<Y`E..C*\\\\XO!U6\">-+R]$3HJY7YI#8L#M_L4I6RI=7ICF#3;%\\'#@_\\nM)EMBTU?JW5T4_6-;[3<KEJ_E?+QT1<.--6/,)60#S+I&Q5D]O29M3LL\"H]OB\\nMR^:(M#,QB])4C-04GLVR8A=_(M;^!=;%!63.+65(B]WU-;A+EF1:9E+5LYV^\\nM$^C\\\\#=.5BV9H%J\\\\Y/<$Q-KE;U<;]U:^.+L6:!ESGS=K0\\'>5;AH(R?=KSE#%[\\nM?F`9/>1)UL,VK,\\\\&EF)P_4#&:#N6+M;5C6B,U<_A&^!PCL@XMDM@ON5YEM!T\\nM#E]W;1K+W-LQIKJUU6`(WEGBW.<415L]YK!-\\'M<Z/%BASN)?YF!YY>3!;5+,\\nM\\'=,*7+^!%=]5%=&9W4]._D;</^VMQ%NQ9C;K4JI68O;?LW7I:J$M=.55MF7=\\nML5AH%_V1>^[&^[7DSVYIRVS;32U;ZI7K4JWF=G)#UW;!@0Y@;TU4_!VLT0Z_\\nM-;:^Z!-N>3A)FK92%R7`R_;`]#W43([J++XSCG9.2`IK$*W<=UUM$@S#+@1K\\nM\"8KMARYD0Z+/#DN1W*4I@C3\\'C-KH+6[-0S7L+:P^N*XICRP[5*T\\'3HW@NGM%\\nM@O;F\"*U@(%8Q-I[B.A-P2F9?!![FSU;2B_WNH>#KSOL;##I\"9L-/.[2^43Y=\\nM]SU?]^UJSRQ:I8G?)4R2CW3GW_7@J/YK4T;833SPD_6N\\\\>[K%2YP=C3FL);N\\nM_G\\\\>;XX38TYMZ_SL%2:660\\\\V0@+\\'2Y<5-1PG8;X&;B;THY?69[12[`+\\\\5@K%\\nM;+K^Z^AN$!Y]Y\\\\R>K1MN94!^:NV>X2W_:.P67D\"$Z,!C16N4;7(&:8\\';U9N-\\nMXR7]P?NZZDY3/!P&EZ\\\\FV`#DSYB#5UB62U?VW__N;W(%[$@^TH45TJ:MX+V.\\nM\\\\1:]6,#\\\\9THW$5)`P><A7WYK9ZH>Z3B\\'/(,EZY6-1=6V<]QQ)EFNZX!A<2B=\\nM$6Q]O.?L8_>+]!;?RAHOU&81<V-.V5->\\\\=JU=<^MY^+]U\"B^[32>YZ-464TO\\nMO98<S>3T5NYE]#Y\\'2`!D[SD%Y35&\\\\V.?5I&(6(,V_MJ.&^KO-\\'(G1FX5;BK6\\nM7N^5,\\'0V9G`&_>AVE_=\"?^%V$W9E9%ID_O+NB#Z-!:W-I+=4WEHW5?`0EG6G\\nMG6\\\\CC,#[N1=57L]/5C_0Y%PM+&(\\'M69AOOA@G_#LAG&AGO<<IV<RG?,ZPF*,\\nM1KO\\\\\\'+_F007GZR\\'C%,@;9UYKSV,3_\\\\DWNCCJD%,5DY3DXU5>EW\"4-W;\"\\\\[@*\\nMIV*!QW=J+G92+^WN_GCK@G0?QW(4_WBGUFF-=_$\\'+UH^EL$4/QP,LMWZK4*C\\nM.\\\\V(3]C?>GF2!-/@7=[-B%!U#CX$O_KO:N2;?^,.K_6I_]5VAWMZ!_#_5?=Z\\nMMWJ-7VKD1=CK9>)L-^VN_O>E+FIJU/WN</ZZ_G9Q3;;XJ2[BJ/5TR)9Y-@\\'Z\\nMI]=J\\\\M9PN=7C%IUV;Y8[JC=TOYYF[=MKME_WP)=W\\'M_Q._?HD53V!_T17.Q<\\nMPV%WL%U--`7^F;;IOVQ\\'Z);1XZ6GONGANHSZ+@;3/>\\'?N9;,L79=6\"4]E53^\\nM&<_IO1]MU?=^0VUZC/])DQ==JL?]=;;8Z&7S\\'!JILUO&!DU0.1ZJ#:=_ZT;H\\nMTE=*C)=7@V>*$)S0N24`)):XVLX0I28GI`]8??OV76@L(%:*THE]9JN@V=&J\\nML!C/;)1[;L5L\\'!;.$;R1#C)DDO1B+D<C6[\"2J0I]N>)ERMUZNT,M%_@5;\\\\6X\\nM_J<S3`:C0+Q5NXH-_^YCO#N__]+2.H&!:48427T:$U`IB\\'^.A(]PD),\\\\?X6,\\nM?G,K6)AH64<OBTBA2D=+AXN),EEF\\'YF-H3V3;9B/5WN)J9%KF[\"?AJ)0)EZO\\nM>B6*>)UZ6LO)E+K/-7`UP(=KRKW64\\\\Z1T8#0VFHTW8S>.C<6<2G.J594IJ:Z\\nMUTX1@YGE9YUTO^C/5K>]6+\\'#IHZ2I4I$[LD+%K!,\\'7RTS*\\'1)I\\'0I1DG)!W;\\nM*%&?L5L(.68<9I#AN%\\\\<+Q)$I)((,DV-1I4J)0\\\\>O\"@A03:4PXW/QVPD^?7,\\nM*5!5R7!#R@$5)$H-*7,(C;;KR%/6RF/56IXB.?)D_C>AL>9AS!I2!55OX\")J\\nMG*6P;;JPM`3)5(*1ILPH9\\'?F*P+0JA\"??CWZM>A6V`\\\\PP:S9$KS/WM-5`Y<\"\\nM)I=VI+^K1Q_C0GHM;U14@D6R#<R2,N1J-@ZBY(HN--A*G%K%70CJYIM3=+=B\\nM[@%QW<3&BF0!/[W;;$Y]D.@E%EUK\\\\NW*\\'7O#\\\\AJYT\\'#2IC5V%JM9M>FQQK\\\\Q\\nMS9X6.A/KF+\\\\S;_55^ER<<^_F=DJ1?FODL1D?=\\\\6Y\\'42CX;4\\'\\'5[D+,:7=.#4\\nM9F!^LBDEV7C@=0>>6UYQI5Q_2+UEF7IH58AA5:*5!!55OKFGDS+K\\'8:/@K4U\\nM08I<\\\\[U\\'X5E#3?9;C2;R_F+@:H09XIAJ0+G2W79JC2;@/.=]9V0T\\'(HC7H<2\\nMIAAA9\\\\G]J-*\")+)WT8-%<8A2/#,M1^!AAEF8U!PU`K&3EE;:TR)H768)(7TI\\nMS?BFDP%*AMYT@+WD$!_\"%6C>A#2.>$<Q(KZ958^\"=C4EEY0!^I$Q!?F9\"Q67\\nMXC0F:/54)E^3-C;3#QV.$KD6J#@R^1B6EDXSYJ#[!2D)I)[)VJ.AC+Y8*V?>\\nMG2GG-R0ZXF%%.$9UYG^DE;E/<(1>:,1Y`/9AY:TZ+:H0:Q]2$Z*?XV2T74\\\\`\\nM\"7M61#SNV:\"6():IY*F>4?<DJK_NY^:C\\\\+8)K(Y9,ML5<2ZHR6RFF&K7+YZ9\\nMP?&+H&NN[9E>E,D%E:J4SBJ8;\\'6*(4ED40JC2Q0V<1[+HS3OTHO=DK,J:J^9\\nM\\\\,;4+L/R:H58GG9N9NF_SPZX3+2M5EOI2W\\\\UH]3#16()],O2)@AKL$-^^)L<\\nMK1\\']3DM+!TJK6*6BUG\"J\\'I\\\\4\"\\\\LAB^1UKAP#\\'3;),D^Z:U(WDTM>?Q@#>?#,\\nM8%\\\\6-#\"V_MFQMJ9FO)I<V.KE=*9QCNURB57=ZBC2(:\"88(AU$AMEO9YJFS-<\\n0]L;ZY[6@LL*75&U^40``.^KE\\n`\\nend\\n\\n')\n"
     ]
    }
   ],
   "source": [
    "similar = sorted(similar)\n",
    "print(\"Count similar: %i\" % len(similar))\n",
    "\n",
    "show_at_1 = similar[0]\n",
    "show_at_2 = similar[int(len(similar) / 10)]\n",
    "show_at_3 = similar[int(len(similar) / 2)]\n",
    "\n",
    "print(\"=== #1 ===\")\n",
    "print(show_at_1)\n",
    "print()\n",
    "\n",
    "print(\"=== #2 ===\")\n",
    "print(show_at_2)\n",
    "print()\n",
    "\n",
    "print(\"=== #3 ===\")\n",
    "print(show_at_3)\n",
    "\n",
    "print(\"=== #4 ===\")\n",
    "print(similar[-1])"
   ]
  },
  {
   "cell_type": "code",
   "execution_count": 26,
   "id": "7477ec37",
   "metadata": {},
   "outputs": [],
   "source": [
    "last_post_vector = vectorizer.transform([last_post])\n",
    "last_post_label = kmeans25.predict(last_post_vector)[0]"
   ]
  },
  {
   "cell_type": "code",
   "execution_count": 27,
   "id": "79861077",
   "metadata": {},
   "outputs": [],
   "source": [
    "similar_indices = (kmeans25.labels_ == last_post_label).nonzero()[0]"
   ]
  },
  {
   "cell_type": "code",
   "execution_count": 28,
   "id": "2d0d44d7",
   "metadata": {},
   "outputs": [],
   "source": [
    "similar = []\n",
    "for i in similar_indices:\n",
    "    dist = sp.linalg.norm((last_post_vector - vectorized_train[i]).toarray())\n",
    "    similar.append((dist, train_data.data[i]))"
   ]
  },
  {
   "cell_type": "code",
   "execution_count": 29,
   "id": "a51c078c",
   "metadata": {},
   "outputs": [
    {
     "name": "stdout",
     "output_type": "stream",
     "text": [
      "Count similar: 642\n",
      "=== #1 ===\n",
      "(0.8504556061851828, 'Archive-name: atheism/introduction\\nAlt-atheism-archive-name: introduction\\nLast-modified: 5 April 1993\\nVersion: 1.2\\n\\n-----BEGIN PGP SIGNED MESSAGE-----\\n\\n                          An Introduction to Atheism\\n                       by mathew <mathew@mantis.co.uk>\\n\\nThis article attempts to provide a general introduction to atheism.  Whilst I\\nhave tried to be as neutral as possible regarding contentious issues, you\\nshould always remember that this document represents only one viewpoint.  I\\nwould encourage you to read widely and draw your own conclusions; some\\nrelevant books are listed in a companion article.\\n\\nTo provide a sense of cohesion and progression, I have presented this article\\nas an imaginary conversation between an atheist and a theist.  All the\\nquestions asked by the imaginary theist are questions which have been cropped\\nup repeatedly on alt.atheism since the newsgroup was created.  Some other\\nfrequently asked questions are answered in a companion article.\\n\\nPlease note that this article is arguably slanted towards answering questions\\nposed from a Christian viewpoint.  This is because the FAQ files reflect\\nquestions which have actually been asked, and it is predominantly Christians\\nwho proselytize on alt.atheism.\\n\\nSo when I talk of religion, I am talking primarily about religions such as\\nChristianity, Judaism and Islam, which involve some sort of superhuman divine\\nbeing.  Much of the discussion will apply to other religions, but some of it\\nmay not.\\n\\n\"What is atheism?\"\\n\\nAtheism is characterized by an absence of belief in the existence of God.\\nSome atheists go further, and believe that God does not exist.  The former is\\noften referred to as the \"weak atheist\" position, and the latter as \"strong\\natheism\".\\n\\nIt is important to note the difference between these two positions.  \"Weak\\natheism\" is simple scepticism; disbelief in the existence of God.  \"Strong\\natheism\" is a positive belief that God does not exist.  Please do not\\nfall into the trap of assuming that all atheists are \"strong atheists\".\\n\\nSome atheists believe in the non-existence of all Gods; others limit their\\natheism to specific Gods, such as the Christian God, rather than making\\nflat-out denials.\\n\\n\"But isn\\'t disbelieving in God the same thing as believing he doesn\\'t exist?\"\\n\\nDefinitely not.  Disbelief in a proposition means that one does not believe\\nit to be true.  Not believing that something is true is not equivalent to\\nbelieving that it is false; one may simply have no idea whether it is true or\\nnot.  Which brings us to agnosticism.\\n\\n\"What is agnosticism then?\"\\n\\nThe term \\'agnosticism\\' was coined by Professor Huxley at a meeting of the\\nMetaphysical Society in 1876.  He defined an agnostic as someone who\\ndisclaimed (\"strong\") atheism and believed that the ultimate origin of things\\nmust be some cause unknown and unknowable.\\n\\nThus an agnostic is someone who believes that we do not and cannot know for\\nsure whether God exists.\\n\\nWords are slippery things, and language is inexact.  Beware of assuming that\\nyou can work out someone\\'s philosophical point of view simply from the fact\\nthat she calls herself an atheist or an agnostic.  For example, many people\\nuse agnosticism to mean \"weak atheism\", and use the word \"atheism\" only when\\nreferring to \"strong atheism\".\\n\\nBeware also that because the word \"atheist\" has so many shades of meaning, it\\nis very difficult to generalize about atheists.  About all you can say for\\nsure is that atheists don\\'t believe in God.  For example, it certainly isn\\'t\\nthe case that all atheists believe that science is the best way to find out\\nabout the universe.\\n\\n\"So what is the philosophical justification or basis for atheism?\"\\n\\nThere are many philosophical justifications for atheism.  To find out why a\\nparticular person chooses to be an atheist, it\\'s best to ask her.\\n\\nMany atheists feel that the idea of God as presented by the major religions\\nis essentially self-contradictory, and that it is logically impossible that\\nsuch a God could exist.  Others are atheists through scepticism, because they\\nsee no evidence that God exists.\\n\\n\"But isn\\'t it impossible to prove the non-existence of something?\"\\n\\nThere are many counter-examples to such a statement.  For example, it is\\nquite simple to prove that there does not exist a prime number larger than\\nall other prime numbers.  Of course, this deals with well-defined objects\\nobeying well-defined rules.  Whether Gods or universes are similarly\\nwell-defined is a matter for debate.\\n\\nHowever, assuming for the moment that the existence of a God is not provably\\nimpossible, there are still subtle reasons for assuming the non-existence of\\nGod.  If we assume that something does not exist, it is always possible to\\nshow that this assumption is invalid by finding a single counter-example.\\n\\nIf on the other hand we assume that something does exist, and if the thing in\\nquestion is not provably impossible, showing that the assumption is invalid\\nmay require an exhaustive search of all possible places where such a thing\\nmight be found, to show that it isn\\'t there.  Such an exhaustive search is\\noften impractical or impossible.  There is no such problem with largest\\nprimes, because we can prove that they don\\'t exist.\\n\\nTherefore it is generally accepted that we must assume things do not exist\\nunless we have evidence that they do.  Even theists follow this rule most of\\nthe time; they don\\'t believe in unicorns, even though they can\\'t conclusively\\nprove that no unicorns exist anywhere.\\n\\nTo assume that God exists is to make an assumption which probably cannot be\\ntested.  We cannot make an exhaustive search of everywhere God might be to\\nprove that he doesn\\'t exist anywhere.  So the sceptical atheist assumes by\\ndefault that God does not exist, since that is an assumption we can test.\\n\\nThose who profess strong atheism usually do not claim that no sort of God\\nexists; instead, they generally restrict their claims so as to cover\\nvarieties of God described by followers of various religions.  So whilst it\\nmay be impossible to prove conclusively that no God exists, it may be\\npossible to prove that (say) a God as described by a particular religious\\nbook does not exist.  It may even be possible to prove that no God described\\nby any present-day religion exists.\\n\\nIn practice, believing that no God described by any religion exists is very\\nclose to believing that no God exists.  However, it is sufficiently different\\nthat counter-arguments based on the impossibility of disproving every kind of\\nGod are not really applicable.\\n\\n\"But what if God is essentially non-detectable?\"\\n\\nIf God interacts with our universe in any way, the effects of his interaction\\nmust be measurable.  Hence his interaction with our universe must be\\ndetectable.\\n\\nIf God is essentially non-detectable, it must therefore be the case that he\\ndoes not interact with our universe in any way.  Many atheists would argue\\nthat if God does not interact with our universe at all, it is of no\\nimportance whether he exists or not.\\n\\nIf the Bible is to be believed, God was easily detectable by the Israelites.\\nSurely he should still be detectable today?\\n\\nNote that I am not demanding that God interact in a scientifically\\nverifiable, physical way.  It must surely be possible to perceive some\\neffect caused by his presence, though; otherwise, how can I distinguish him\\nfrom all the other things that don\\'t exist?\\n\\n\"OK, you may think there\\'s a philosophical justification for atheism, but\\n isn\\'t it still a religious belief?\"\\n\\nOne of the most common pastimes in philosophical discussion is \"the\\nredefinition game\".  The cynical view of this game is as follows:\\n\\nPerson A begins by making a contentious statement.  When person B points out\\nthat it can\\'t be true, person A gradually re-defines the words he used in the\\nstatement until he arrives at something person B is prepared to accept.  He\\nthen records the statement, along with the fact that person B has agreed to\\nit, and continues.  Eventually A uses the statement as an \"agreed fact\", but\\nuses his original definitions of all the words in it rather than the obscure\\nredefinitions originally needed to get B to agree to it.  Rather than be seen\\nto be apparently inconsistent, B will tend to play along.\\n\\nThe point of this digression is that the answer to the question \"Isn\\'t\\natheism a religious belief?\" depends crucially upon what is meant by\\n\"religious\".  \"Religion\" is generally characterized by belief in a superhuman\\ncontrolling power -- especially in some sort of God -- and by faith and\\nworship.\\n\\n[ It\\'s worth pointing out in passing that some varieties of Buddhism are not\\n  \"religion\" according to such a definition. ]\\n\\nAtheism is certainly not a belief in any sort of superhuman power, nor is it\\ncategorized by worship in any meaningful sense.  Widening the definition of\\n\"religious\" to encompass atheism tends to result in many other aspects of\\nhuman behaviour suddenly becoming classed as \"religious\" as well -- such as\\nscience, politics, and watching TV.\\n\\n\"OK, so it\\'s not a religion.  But surely belief in atheism (or science) is\\n still just an act of faith, like religion is?\"\\n\\nFirstly, it\\'s not entirely clear that sceptical atheism is something one\\nactually believes in.\\n\\nSecondly, it is necessary to adopt a number of core beliefs or assumptions to\\nmake some sort of sense out of the sensory data we experience.  Most atheists\\ntry to adopt as few core beliefs as possible; and even those are subject to\\nquestioning if experience throws them into doubt.\\n\\nScience has a number of core assumptions.  For example, it is generally\\nassumed that the laws of physics are the same for all observers.  These are\\nthe sort of core assumptions atheists make.  If such basic ideas are called\\n\"acts of faith\", then almost everything we know must be said to be based on\\nacts of faith, and the term loses its meaning.\\n\\nFaith is more often used to refer to complete, certain belief in something.\\nAccording to such a definition, atheism and science are certainly not acts of\\nfaith.  Of course, individual atheists or scientists can be as dogmatic as\\nreligious followers when claiming that something is \"certain\".  This is not a\\ngeneral tendency, however; there are many atheists who would be reluctant to\\nstate with certainty that the universe exists.\\n\\nFaith is also used to refer to belief without supporting evidence or proof.\\nSceptical atheism certainly doesn\\'t fit that definition, as sceptical atheism\\nhas no beliefs.  Strong atheism is closer, but still doesn\\'t really match, as\\neven the most dogmatic atheist will tend to refer to experimental data (or\\nthe lack of it) when asserting that God does not exist.\\n\\n\"If atheism is not religious, surely it\\'s anti-religious?\"\\n\\nIt is an unfortunate human tendency to label everyone as either \"for\" or\\n\"against\", \"friend\" or \"enemy\".  The truth is not so clear-cut.\\n\\nAtheism is the position that runs logically counter to theism; in that sense,\\nit can be said to be \"anti-religion\".  However, when religious believers\\nspeak of atheists being \"anti-religious\" they usually mean that the atheists\\nhave some sort of antipathy or hatred towards theists.\\n\\nThis categorization of atheists as hostile towards religion is quite unfair.\\nAtheist attitudes towards theists in fact cover a broad spectrum.\\n\\nMost atheists take a \"live and let live\" attitude.  Unless questioned, they\\nwill not usually mention their atheism, except perhaps to close friends.  Of\\ncourse, this may be in part because atheism is not \"socially acceptable\" in\\nmany countries.\\n\\nA few atheists are quite anti-religious, and may even try to \"convert\" others\\nwhen possible.  Historically, such anti-religious atheists have made little\\nimpact on society outside the Eastern Bloc countries.\\n\\n(To digress slightly: the Soviet Union was originally dedicated to separation\\nof church and state, just like the USA.  Soviet citizens were legally free to\\nworship as they wished.  The institution of \"state atheism\" came about when\\nStalin took control of the Soviet Union and tried to destroy the churches in\\norder to gain complete power over the population.)\\n\\nSome atheists are quite vocal about their beliefs, but only where they see\\nreligion encroaching on matters which are not its business -- for example,\\nthe government of the USA.  Such individuals are usually concerned that\\nchurch and state should remain separate.\\n\\n\"But if you don\\'t allow religion to have a say in the running of the state,\\n surely that\\'s the same as state atheism?\"\\n\\nThe principle of the separation of church and state is that the state shall\\nnot legislate concerning matters of religious belief.  In particular, it\\nmeans not only that the state cannot promote one religion at the expense of\\nanother, but also that it cannot promote any belief which is religious in\\nnature.\\n\\nReligions can still have a say in discussion of purely secular matters.  For\\nexample, religious believers have historically been responsible for\\nencouraging many political reforms.  Even today, many organizations\\ncampaigning for an increase in spending on foreign aid are founded as\\nreligious campaigns.  So long as they campaign concerning secular matters,\\nand so long as they do not discriminate on religious grounds, most atheists\\nare quite happy to see them have their say.\\n\\n\"What about prayer in schools? If there\\'s no God, why do you care if people\\n pray?\"\\n\\nBecause people who do pray are voters and lawmakers, and tend to do things\\nthat those who don\\'t pray can\\'t just ignore.  Also, Christian prayer in\\nschools is intimidating to non-Christians, even if they are told that they\\nneed not join in.  The diversity of religious and non-religious belief means\\nthat it is impossible to formulate a meaningful prayer that will be\\nacceptable to all those present at any public event.\\n\\nAlso, non-prayers tend to have friends and family who pray.  It is reasonable\\nto care about friends and family wasting their time, even without other\\nmotives.\\n\\n\"You mentioned Christians who campaign for increased foreign aid.  What about\\n atheists?  Why aren\\'t there any atheist charities or hospitals?  Don\\'t\\n atheists object to the religious charities?\"\\n\\nThere are many charities without religious purpose that atheists can\\ncontribute to.  Some atheists contribute to religious charities as well, for\\nthe sake of the practical good they do.  Some atheists even do voluntary work\\nfor charities founded on a theistic basis.\\n\\nMost atheists seem to feel that atheism isn\\'t worth shouting about in\\nconnection with charity.  To them, atheism is just a simple, obvious everyday\\nmatter, and so is charity.  Many feel that it\\'s somewhat cheap, not to say\\nself-righteous, to use simple charity as an excuse to plug a particular set\\nof religious beliefs.\\n\\nTo \"weak\" atheists, building a hospital to say \"I do not believe in God\" is a\\nrather strange idea; it\\'s rather like holding a party to say \"Today is not my\\nbirthday\".  Why the fuss?  Atheism is rarely evangelical.\\n\\n\"You said atheism isn\\'t anti-religious.  But is it perhaps a backlash against\\n one\\'s upbringing, a way of rebelling?\"\\n\\nPerhaps it is, for some.  But many people have parents who do not attempt to\\nforce any religious (or atheist) ideas upon them, and many of those people\\nchoose to call themselves atheists.\\n\\nIt\\'s also doubtless the case that some religious people chose religion as a\\nbacklash against an atheist upbringing, as a way of being different.  On the\\nother hand, many people choose religion as a way of conforming to the\\nexpectations of others.\\n\\nOn the whole, we can\\'t conclude much about whether atheism or religion are\\nbacklash or conformism; although in general, people have a tendency to go\\nalong with a group rather than act or think independently.\\n\\n\"How do atheists differ from religious people?\"\\n\\nThey don\\'t believe in God.  That\\'s all there is to it.\\n\\nAtheists may listen to heavy metal -- backwards, even -- or they may prefer a\\nVerdi Requiem, even if they know the words.  They may wear Hawaiian shirts,\\nthey may dress all in black, they may even wear orange robes.  (Many\\nBuddhists lack a belief in any sort of God.)  Some atheists even carry a copy\\nof the Bible around -- for arguing against, of course!\\n\\nWhoever you are, the chances are you have met several atheists without\\nrealising it.  Atheists are usually unexceptional in behaviour and\\nappearance.\\n\\n\"Unexceptional? But aren\\'t atheists less moral than religious people?\"\\n\\nThat depends.  If you define morality as obedience to God, then of course\\natheists are less moral as they don\\'t obey any God.  But usually when one\\ntalks of morality, one talks of what is acceptable (\"right\") and unacceptable\\n(\"wrong\") behaviour within society.\\n\\nHumans are social animals, and to be maximally successful they must\\nco-operate with each other.  This is a good enough reason to discourage most\\natheists from \"anti-social\" or \"immoral\" behaviour, purely for the purposes\\nof self-preservation.\\n\\nMany atheists behave in a \"moral\" or \"compassionate\" way simply because they\\nfeel a natural tendency to empathize with other humans.  So why do they care\\nwhat happens to others?  They don\\'t know, they simply are that way.\\n\\nNaturally, there are some people who behave \"immorally\" and try to use\\natheism to justify their actions.  However, there are equally many people who\\nbehave \"immorally\" and then try to use religious beliefs to justify their\\nactions.  For example:\\n\\n  \"Here is a trustworthy saying that deserves full acceptance: Jesus Christ\\n   came into the world to save sinners...  But for that very reason, I was\\n   shown mercy so that in me...  Jesus Christ might display His unlimited\\n   patience as an example for those who would believe in him and receive\\n   eternal life.  Now to the king eternal, immortal, invisible, the only God,\\n   be honor and glory forever and ever.\"\\n\\nThe above quote is from a statement made to the court on February 17th 1992\\nby Jeffrey Dahmer, the notorious cannibal serial killer of Milwaukee,\\nWisconsin.  It seems that for every atheist mass-murderer, there is a\\nreligious mass-murderer.  But what of more trivial morality?\\n\\n   A survey conducted by the Roper Organization found that behavior\\n   deteriorated after \"born again\" experiences.  While only 4% of respondents\\n   said they had driven intoxicated before being \"born again,\" 12% had done\\n   so after conversion.  Similarly, 5% had used illegal drugs before\\n   conversion, 9% after.  Two percent admitted to engaging in illicit sex\\n   before salvation; 5% after.\\n                                [\"Freethought Today\", September 1991, p. 12.]\\n\\nSo it seems that at best, religion does not have a monopoly on moral\\nbehaviour.\\n\\n\"Is there such a thing as atheist morality?\"\\n\\nIf you mean \"Is there such a thing as morality for atheists?\", then the\\nanswer is yes, as explained above.  Many atheists have ideas about morality\\nwhich are at least as strong as those held by religious people.\\n\\nIf you mean \"Does atheism have a characteristic moral code?\", then the answer\\nis no.  Atheism by itself does not imply anything much about how a person\\nwill behave.  Most atheists follow many of the same \"moral rules\" as theists,\\nbut for different reasons.  Atheists view morality as something created by\\nhumans, according to the way humans feel the world \\'ought\\' to work, rather\\nthan seeing it as a set of rules decreed by a supernatural being.\\n\\n\"Then aren\\'t atheists just theists who are denying God?\"\\n\\nA study by the Freedom From Religion Foundation found that over 90% of the\\natheists who responded became atheists because religion did not work for\\nthem.  They had found that religious beliefs were fundamentally incompatible\\nwith what they observed around them.\\n\\nAtheists are not unbelievers through ignorance or denial; they are\\nunbelievers through choice.  The vast majority of them have spent time\\nstudying one or more religions, sometimes in very great depth.  They have\\nmade a careful and considered decision to reject religious beliefs.\\n\\nThis decision may, of course, be an inevitable consequence of that\\nindividual\\'s personality.  For a naturally sceptical person, the choice\\nof atheism is often the only one that makes sense, and hence the only\\nchoice that person can honestly make.\\n\\n\"But don\\'t atheists want to believe in God?\"\\n\\nAtheists live their lives as though there is nobody watching over them.  Many\\nof them have no desire to be watched over, no matter how good-natured the\\n\"Big Brother\" figure might be.\\n\\nSome atheists would like to be able to believe in God -- but so what? Should\\none believe things merely because one wants them to be true?  The risks of\\nsuch an approach should be obvious.  Atheists often decide that wanting to\\nbelieve something is not enough; there must be evidence for the belief.\\n\\n\"But of course atheists see no evidence for the existence of God -- they are\\n unwilling in their souls to see!\"\\n\\nMany, if not most atheists were previously religious.  As has been explained\\nabove, the vast majority have seriously considered the possibility that God\\nexists.  Many atheists have spent time in prayer trying to reach God.\\n\\nOf course, it is true that some atheists lack an open mind; but assuming that\\nall atheists are biased and insincere is offensive and closed-minded.\\nComments such as \"Of course God is there, you just aren\\'t looking properly\"\\nare likely to be viewed as patronizing.\\n\\nCertainly, if you wish to engage in philosophical debate with atheists it is\\nvital that you give them the benefit of the doubt and assume that they are\\nbeing sincere if they say that they have searched for God.  If you are not\\nwilling to believe that they are basically telling the truth, debate is\\nfutile.\\n\\n\"Isn\\'t the whole of life completely pointless to an atheist?\"\\n\\nMany atheists live a purposeful life.  They decide what they think gives\\nmeaning to life, and they pursue those goals.  They try to make their lives\\ncount, not by wishing for eternal life, but by having an influence on other\\npeople who will live on.  For example, an atheist may dedicate his life to\\npolitical reform, in the hope of leaving his mark on history.\\n\\nIt is a natural human tendency to look for \"meaning\" or \"purpose\" in random\\nevents.  However, it is by no means obvious that \"life\" is the sort of thing\\nthat has a \"meaning\".\\n\\nTo put it another way, not everything which looks like a question is actually\\na sensible thing to ask.  Some atheists believe that asking \"What is the\\nmeaning of life?\" is as silly as asking \"What is the meaning of a cup of\\ncoffee?\".  They believe that life has no purpose or meaning, it just is.\\n\\n\"So how do atheists find comfort in time of danger?\"\\n\\nThere are many ways of obtaining comfort; from family, friends, or even pets.\\nOr on a less spiritual level, from food or drink or TV.\\n\\nThat may sound rather an empty and vulnerable way to face danger, but so\\nwhat?  Should individuals believe in things because they are comforting, or\\nshould they face reality no matter how harsh it might be?\\n\\nIn the end, it\\'s a decision for the individual concerned.  Most atheists are\\nunable to believe something they would not otherwise believe merely because\\nit makes them feel comfortable.  They put truth before comfort, and consider\\nthat if searching for truth sometimes makes them feel unhappy, that\\'s just\\nhard luck.\\n\\n\"Don\\'t atheists worry that they might suddenly be shown to be wrong?\"\\n\\nThe short answer is \"No, do you?\"\\n\\nMany atheists have been atheists for years.  They have encountered many\\narguments and much supposed evidence for the existence of God, but they have\\nfound all of it to be invalid or inconclusive.\\n\\nThousands of years of religious belief haven\\'t resulted in any good proof of\\nthe existence of God.  Atheists therefore tend to feel that they are unlikely\\nto be proved wrong in the immediate future, and they stop worrying about it.\\n\\n\"So why should theists question their beliefs? Don\\'t the same arguments\\n apply?\"\\n\\nNo, because the beliefs being questioned are not similar.  Weak atheism is\\nthe sceptical \"default position\" to take; it asserts nothing.  Strong atheism\\nis a negative belief.  Theism is a very strong positive belief.\\n\\nAtheists sometimes also argue that theists should question their beliefs\\nbecause of the very real harm they can cause -- not just to the believers,\\nbut to everyone else.\\n\\n\"What sort of harm?\"\\n\\nReligion represents a huge financial and work burden on mankind.  It\\'s not\\njust a matter of religious believers wasting their money on church buildings;\\nthink of all the time and effort spent building churches, praying, and so on.\\nImagine how that effort could be better spent.\\n\\nMany theists believe in miracle healing.  There have been plenty of instances\\nof ill people being \"healed\" by a priest, ceasing to take the medicines\\nprescribed to them by doctors, and dying as a result.  Some theists have died\\nbecause they have refused blood transfusions on religious grounds.\\n\\nIt is arguable that the Catholic Church\\'s opposition to birth control -- and\\ncondoms in particular -- is increasing the problem of overpopulation in many\\nthird-world countries and contributing to the spread of AIDS world-wide.\\n\\nReligious believers have been known to murder their children rather than\\nallow their children to become atheists or marry someone of a different\\nreligion.\\n\\n\"Those weren\\'t REAL believers.  They just claimed to be believers as some\\n sort of excuse.\"\\n\\nWhat makes a real believer?  There are so many One True Religions it\\'s hard\\nto tell.  Look at Christianity: there are many competing groups, all\\nconvinced that they are the only true Christians.  Sometimes they even fight\\nand kill each other.  How is an atheist supposed to decide who\\'s a REAL\\nChristian and who isn\\'t, when even the major Christian churches like the\\nCatholic Church and the Church of England can\\'t decide amongst themselves?\\n\\nIn the end, most atheists take a pragmatic view, and decide that anyone who\\ncalls himself a Christian, and uses Christian belief or dogma to justify his\\nactions, should be considered a Christian.  Maybe some of those Christians\\nare just perverting Christian teaching for their own ends -- but surely if\\nthe Bible can be so readily used to support un-Christian acts it can\\'t be\\nmuch of a moral code? If the Bible is the word of God, why couldn\\'t he have\\nmade it less easy to misinterpret? And how do you know that your beliefs\\naren\\'t a perversion of what your God intended?\\n\\nIf there is no single unambiguous interpretation of the Bible, then why\\nshould an atheist take one interpretation over another just on your say-so?\\nSorry, but if someone claims that he believes in Jesus and that he murdered\\nothers because Jesus and the Bible told him to do so, we must call him a\\nChristian.\\n\\n\"Obviously those extreme sorts of beliefs should be questioned.  But since\\n nobody has ever proved that God does not exist, it must be very unlikely\\n that more basic religious beliefs, shared by all faiths, are nonsense.\"\\n\\nThat does not hold, because as was pointed out at the start of this dialogue,\\npositive assertions concerning the existence of entities are inherently much\\nharder to disprove than negative ones.  Nobody has ever proved that unicorns\\ndon\\'t exist, but that doesn\\'t make it unlikely that they are myths.\\n\\nIt is therefore much more valid to hold a negative assertion by default than\\nit is to hold a positive assertion by default.  Of course, \"weak\" atheists\\nwould argue that asserting nothing is better still.\\n\\n\"Well, if atheism\\'s so great, why are there so many theists?\"\\n\\nUnfortunately, the popularity of a belief has little to do with how \"correct\"\\nit is, or whether it \"works\"; consider how many people believe in astrology,\\ngraphology, and other pseudo-sciences.\\n\\nMany atheists feel that it is simply a human weakness to want to believe in\\ngods.  Certainly in many primitive human societies, religion allows the\\npeople to deal with phenomena that they do not adequately understand.\\n\\nOf course, there\\'s more to religion than that.  In the industrialized world,\\nwe find people believing in religious explanations of phenomena even when\\nthere are perfectly adequate natural explanations.  Religion may have started\\nas a means of attempting to explain the world, but nowadays it serves other\\npurposes as well.\\n\\n\"But so many cultures have developed religions.  Surely that must say\\n something?\"\\n\\nNot really.  Most religions are only superficially similar; for example, it\\'s\\nworth remembering that religions such as Buddhism and Taoism lack any sort of\\nconcept of God in the Christian sense.\\n\\nOf course, most religions are quick to denounce competing religions, so it\\'s\\nrather odd to use one religion to try and justify another.\\n\\n\"What about all the famous scientists and philosophers who have concluded\\n that God exists?\"\\n\\nFor every scientist or philosopher who believes in a god, there is one who\\ndoes not.  Besides, as has already been pointed out, the truth of a belief is\\nnot determined by how many people believe it.  Also, it is important to\\nrealize that atheists do not view famous scientists or philosophers in the\\nsame way that theists view their religious leaders.\\n\\nA famous scientist is only human; she may be an expert in some fields, but\\nwhen she talks about other matters her words carry no special weight.  Many\\nrespected scientists have made themselves look foolish by speaking on\\nsubjects which lie outside their fields of expertise.\\n\\n\"So are you really saying that widespread belief in religion indicates\\n nothing?\"\\n\\nNot entirely.  It certainly indicates that the religion in question has\\nproperties which have helped it so spread so far.\\n\\nThe theory of memetics talks of \"memes\" -- sets of ideas which can propagate\\nthemselves between human minds, by analogy with genes.  Some atheists view\\nreligions as sets of particularly successful parasitic memes, which spread by\\nencouraging their hosts to convert others.  Some memes avoid destruction by\\ndiscouraging believers from questioning doctrine, or by using peer pressure\\nto keep one-time believers from admitting that they were mistaken.  Some\\nreligious memes even encourage their hosts to destroy hosts controlled by\\nother memes.\\n\\nOf course, in the memetic view there is no particular virtue associated with\\nsuccessful propagation of a meme.  Religion is not a good thing because of\\nthe number of people who believe it, any more than a disease is a good thing\\nbecause of the number of people who have caught it.\\n\\n\"Even if religion is not entirely true, at least it puts across important\\n messages.  What are the fundamental messages of atheism?\"\\n\\nThere are many important ideas atheists promote.  The following are just a\\nfew of them; don\\'t be surprised to see ideas which are also present in some\\nreligions.\\n\\n   There is more to moral behaviour than mindlessly following rules.\\n\\n   Be especially sceptical of positive claims.\\n\\n   If you want your life to have some sort of meaning, it\\'s up to you to\\n   find it.\\n\\n   Search for what is true, even if it makes you uncomfortable.\\n\\n   Make the most of your life, as it\\'s probably the only one you\\'ll have.\\n\\n   It\\'s no good relying on some external power to change you; you must change\\n   yourself.\\n\\n   Just because something\\'s popular doesn\\'t mean it\\'s good.\\n\\n   If you must assume something, assume something it\\'s easy to test.\\n\\n   Don\\'t believe things just because you want them to be true.\\n\\nand finally (and most importantly):\\n\\n   All beliefs should be open to question.\\n\\nThanks for taking the time to read this article.\\n\\n\\nmathew\\n\\n-----BEGIN PGP SIGNATURE-----\\nVersion: 2.2\\n\\niQCVAgUBK8AjRXzXN+VrOblFAQFSbwP+MHePY4g7ge8Mo5wpsivX+kHYYxMErFAO\\n7ltVtMVTu66Nz6sBbPw9QkbjArbY/S2sZ9NF5htdii0R6SsEyPl0R6/9bV9okE/q\\nnihqnzXE8pGvLt7tlez4EoeHZjXLEFrdEyPVayT54yQqGb4HARbOEHDcrTe2atmP\\nq0Z4hSSPpAU=\\n=q2V5\\n-----END PGP SIGNATURE-----')\n",
      "\n",
      "=== #2 ===\n",
      "(1.2253466026474886, ' \\n(Deletion)\\n \\nYes, sorry. I have got that wrong. My apology.\\n \\n \\n(Deletion)\\n \\n \\nSo? No fun, but I must have met the minority then.\\nAnd \"given by god\" refers to any action whereby a god\\ngod causes or better effects something.\\n \\n \\nRob, I am not intimate with Jewish theology, but I understand\\nthat you are a Messianic Jew. Correct me if I am wrong, but\\nit appears that the views of Messianic Jews on metaphysics\\nis different to that of the majority of Jews. While Jewish\\ntheology overall is quite distinct from the Christianic god\\nviews, I have heard that it is possible for Jews to attribute\\nevil to their god, an no-no for Christians, the Bible is\\nstill seen as effect of the interaction of some god with man.\\n \\n \\n(Deletion)\\n \\nThe context was metaphysics, even when the process of adapting\\nthe commandments is not transcendent, the justification of the\\nprocess lie in metaphysic specualtion. I wonder how you break\\nout of the shackles of having metaphysics in your system.\\n \\n \\n(Deletion)\\n \\nIs is in a book that commands to commit genocide among other\\nreprehensible deeds. The context is repulsive, and it is\\nfoul play, IMO, to invoke some relatively enlightened passages\\nas an example for the content of the whole book.\\n \\n \\n(Big deletion)\\n \\nNo, not the interpretation of some laws, but the interpretation of\\nthe bible. As in the example that Sodom and Gomorrha mean argue\\nwith god. The whole idea that it is metaphorically and yet allows\\nyou to argue with a god (whatever that means, that alone is a theo-\\nlogic question) is proof of a theology used.\\n \\n \\n \\nIt is an important question in the light of what for instance the\\npassage witrh Sodom and Gomorrha means. Either there is some connection\\nbetween the text, the fact that it exists, and your interpretation of\\nit, or it is purely arbitrary.. Further, the question is why is has\\none to carry the burden of Biblical texts when one could simply write\\nother books that convey the message better. You might answer that one\\ncan\\'t becuase  some peculiar Biblical information might be lost, but\\nthat holds true of every other book, and the question remains why has\\nthe Bible still a special place? Can\\'t it be replaced somehow? Is it\\nok to bargain the dangerous content of the Bible against some other\\nmessage that is included as well?\\n \\n \\n(Deletion)\\n \\nSorry, but there are worse systems does not say anything about if\\none could not have a better system.\\n \\n(Deletion)\\n \\nIf we read two stories in the Bible, one that god commands people\\nto kill children for being idolaters and another where god kills\\nchildren directly, what is more important to resolve, the message that\\nchildren are to be killed or if it has  to be done by god?\\n \\n \\nAnd the argument you have given is a fallacy, while it may not be important\\nin the context you have given to find out if god is corporeal or not, it\\ncan be crucial in other questions. Religious believers resolve contradictions\\nwith that they choose one of the possibilities given in an arbitrary way,\\nand have the advantage of being able to attribute their decision to some\\ngod.')\n",
      "\n",
      "=== #3 ===\n",
      "(1.355029828404549, \"sandvik@newton.apple.com (Kent Sandvik) writes...\\n\\n\\n\\nWhich Jews KS? \\n\\n(ex. as a people, as a language, religiously, politically, or...) \\n\\nDo you mean those Jews who are God's chosen?\\n\\n{And Malcolm, please, if you will, set your word wrap at 75 or less \\nto avoid clutter?}\")\n",
      "=== #4 ===\n",
      "(1.4142135623730954, 'There was a recent discussion of Dungeons and Dragons and other role\\nplaying games.  Since there is a lot of crossover between gamers and\\nscience fiction and fantasy fans, I will mention that I am the editor\\nand publisher of RADIO FREE THULCANRA, a Christian-oriented science\\nfiction fanzine.  It is not a Christian magazine with a special\\ninterest in science fiction.  It is a science fiction fanzine with a\\nspecial interest in Christianity.  Gaming is not a major topic of\\ndiscussion but it has come up in some letters.  (No, there are no\\narguments about whether D&D is satanic.  People who think it is are\\nnot likely to be reading RFT.)  Anyway, I am now working on the April\\nissue.  I will send a sample copy to any reader of\\nsoc.religion.christian who requests it.  It is printed on paper, so\\nrequests should include a snail-mail address.\\n-------\\nMarty Helgesen\\nBitnet: mnhcc@cunyvm   Internet: mnhcc@cunyvm.cuny.edu')\n"
     ]
    }
   ],
   "source": [
    "similar = sorted(similar)\n",
    "print(\"Count similar: %i\" % len(similar))\n",
    "\n",
    "show_at_1 = similar[0]\n",
    "show_at_2 = similar[int(len(similar) / 10)]\n",
    "show_at_3 = similar[int(len(similar) / 2)]\n",
    "\n",
    "print(\"=== #1 ===\")\n",
    "print(show_at_1)\n",
    "print()\n",
    "\n",
    "print(\"=== #2 ===\")\n",
    "print(show_at_2)\n",
    "print()\n",
    "\n",
    "print(\"=== #3 ===\")\n",
    "print(show_at_3)\n",
    "\n",
    "print(\"=== #4 ===\")\n",
    "print(similar[-1])"
   ]
  },
  {
   "cell_type": "code",
   "execution_count": 30,
   "id": "45b7b070",
   "metadata": {},
   "outputs": [],
   "source": [
    "# Now, vectorize the testing data and make predictions using the model\n",
    "vectorized_test = vectorizer.fit_transform(test_df['Posts'])"
   ]
  },
  {
   "cell_type": "code",
   "execution_count": 31,
   "id": "a235122f",
   "metadata": {},
   "outputs": [
    {
     "name": "stdout",
     "output_type": "stream",
     "text": [
      "Initialization complete\n",
      "Iteration 0, inertia 7261.7926300772115\n",
      "Iteration 1, inertia 7141.709328848494\n",
      "Iteration 2, inertia 7126.112902452051\n",
      "Iteration 3, inertia 7112.238596975514\n",
      "Iteration 4, inertia 7100.80638750309\n",
      "Iteration 5, inertia 7091.075379554677\n",
      "Iteration 6, inertia 7085.174581071586\n",
      "Iteration 7, inertia 7083.009061983382\n",
      "Iteration 8, inertia 7081.815083568512\n",
      "Iteration 9, inertia 7080.950955205795\n",
      "Iteration 10, inertia 7080.259541377225\n",
      "Iteration 11, inertia 7079.891871767545\n",
      "Iteration 12, inertia 7079.594740874109\n",
      "Iteration 13, inertia 7079.405078448914\n",
      "Iteration 14, inertia 7079.262442233552\n",
      "Iteration 15, inertia 7079.154150472899\n",
      "Iteration 16, inertia 7079.066493765438\n",
      "Iteration 17, inertia 7078.997424431562\n",
      "Iteration 18, inertia 7078.966321508829\n",
      "Iteration 19, inertia 7078.925387735378\n",
      "Iteration 20, inertia 7078.909550976908\n",
      "Iteration 21, inertia 7078.893695295434\n",
      "Iteration 22, inertia 7078.882966218344\n",
      "Converged at iteration 22: strict convergence.\n"
     ]
    }
   ],
   "source": [
    "predictions = kmeans25.fit_predict(vectorized_test)"
   ]
  },
  {
   "cell_type": "code",
   "execution_count": 32,
   "id": "0859dcd0",
   "metadata": {},
   "outputs": [
    {
     "data": {
      "text/plain": [
       "array([ 7,  7,  7, ...,  7,  7, 22])"
      ]
     },
     "execution_count": 32,
     "metadata": {},
     "output_type": "execute_result"
    }
   ],
   "source": [
    "predictions"
   ]
  },
  {
   "cell_type": "code",
   "execution_count": 33,
   "id": "e05e5bd9",
   "metadata": {},
   "outputs": [
    {
     "data": {
      "text/plain": [
       "0.008861141788358187"
      ]
     },
     "execution_count": 33,
     "metadata": {},
     "output_type": "execute_result"
    }
   ],
   "source": [
    "adjusted_rand_score(test_df['Labels'], predictions)"
   ]
  },
  {
   "cell_type": "code",
   "execution_count": 34,
   "id": "c5b4ddae",
   "metadata": {},
   "outputs": [
    {
     "name": "stdout",
     "output_type": "stream",
     "text": [
      "Homogeneity: 0.079\n",
      "Completeness: 0.420\n"
     ]
    }
   ],
   "source": [
    "print(\"Homogeneity: %0.3f\" % metrics.homogeneity_score(test_labels, predictions))\n",
    "print(\"Completeness: %0.3f\" % metrics.completeness_score(test_labels, predictions))"
   ]
  },
  {
   "cell_type": "code",
   "execution_count": 35,
   "id": "b9d28ef7",
   "metadata": {},
   "outputs": [
    {
     "data": {
      "text/plain": [
       "[Text(0.5, 1.0, 'Bar Chart for Cluster Elements'), Text(0.5, 0, 'Cluster')]"
      ]
     },
     "execution_count": 35,
     "metadata": {},
     "output_type": "execute_result"
    },
    {
     "data": {
      "image/png": "[encoded data removed]",
      "text/plain": [
       "<Figure size 432x288 with 1 Axes>"
      ]
     },
     "metadata": {
      "needs_background": "light"
     },
     "output_type": "display_data"
    }
   ],
   "source": [
    "seaborn.countplot(x=predictions).set(title='Bar Chart for Cluster Elements', xlabel='Cluster')"
   ]
  },
  {
   "cell_type": "code",
   "execution_count": null,
   "id": "b3be53e8",
   "metadata": {},
   "outputs": [],
   "source": []
  }
 ],
 "metadata": {
  "kernelspec": {
   "display_name": "Python 3",
   "language": "python",
   "name": "python3"
  },
  "language_info": {
   "codemirror_mode": {
    "name": "ipython",
    "version": 3
   },
   "file_extension": ".py",
   "mimetype": "text/x-python",
   "name": "python",
   "nbconvert_exporter": "python",
   "pygments_lexer": "ipython3",
   "version": "3.8.8"
  }
 },
 "nbformat": 4,
 "nbformat_minor": 5
}
